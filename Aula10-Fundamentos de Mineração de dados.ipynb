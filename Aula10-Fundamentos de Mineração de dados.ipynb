{
 "cells": [
  {
   "cell_type": "markdown",
   "id": "be6ec573",
   "metadata": {
    "id": "be6ec573"
   },
   "source": [
    "![aula10capa.png](./figuras/aula10capa.png)"
   ]
  },
  {
   "cell_type": "markdown",
   "id": "01c8d9d1",
   "metadata": {
    "id": "01c8d9d1"
   },
   "source": [
    "\n",
    "### Objetivo: Compreender os fundamentos da mineração de dados, explorando conceitos básicos, técnicas de análise e exemplos práticos de sua aplicação em diversos setores.\n",
    "\n",
    "## Tópicos:\n",
    "## 1. O que é mineração de dados?\n",
    "## 2. Técnicas fundamentais de mineração de dados\n",
    "## 3. Processo de mineração de dados\n",
    "\n",
    "\n",
    "### Introdução\n",
    "Mineração de dados é o processo de descoberta de padrões, relações ou insights em grandes conjuntos de dados utilizando técnicas automáticas ou semiautomáticas.\n",
    "Aplicações incluem:\n",
    "- Análise de mercado\n",
    "- Detecção de fraudes\n",
    "- Recomendadores (ex.: Netflix, Amazon)\n"
   ]
  },
  {
   "cell_type": "markdown",
   "id": "7ad0b7fa",
   "metadata": {
    "id": "7ad0b7fa"
   },
   "source": [
    "## Técnicas fundamentais de mineração de dados\n",
    "\n",
    "\n",
    "A mineração de dados utiliza diversas técnicas para extrair padrões, tendências e informações úteis de grandes conjuntos de dados. Abaixo estão as técnicas mais fundamentais, com suas descrições:\n",
    "\n",
    "---\n",
    "\n",
    "#### 1. **Classificação**\n",
    "- **Descrição**:\n",
    "  - Uma técnica de aprendizado supervisionado usada para categorizar dados em classes predefinidas.\n",
    "  - O objetivo é prever a classe de uma nova instância com base em características (features) existentes.\n",
    "- **Exemplo**:\n",
    "  - Classificar e-mails como \"Spam\" ou \"Não Spam\".\n",
    "- **Algoritmos Comuns**:\n",
    "  - Árvores de Decisão, K-Nearest Neighbors (KNN), Naive Bayes, SVM, Regressão Logística.\n",
    "\n",
    "---\n",
    "\n",
    "#### 2. **Regressão**\n",
    "- **Descrição**:\n",
    "  - Outra técnica de aprendizado supervisionado, usada para prever valores contínuos com base em variáveis independentes.\n",
    "  - Modela a relação entre uma variável dependente e uma ou mais variáveis independentes.\n",
    "- **Exemplo**:\n",
    "  - Previsão de preços de imóveis com base no tamanho, localização e número de quartos.\n",
    "- **Algoritmos Comuns**:\n",
    "  - Regressão Linear, Regressão de Ridge.\n",
    "\n",
    "---\n",
    "\n",
    "#### 3. **Agrupamento (Clustering)**\n",
    "- **Descrição**:\n",
    "  - Uma técnica de aprendizado não supervisionado que agrupa dados com base em suas similaridades.\n",
    "  - As instâncias dentro do mesmo grupo (cluster) são mais semelhantes entre si do que com instâncias de outros grupos.\n",
    "- **Exemplo**:\n",
    "  - Segmentação de clientes com base em padrões de compra.\n",
    "- **Algoritmos Comuns**:\n",
    "  - K-Means, DBSCAN, Hierarchical Clustering.\n",
    "\n",
    "---\n",
    "\n",
    "#### 4. **Redução de Dimensionalidade**\n",
    "- **Descrição**:\n",
    "  - Simplifica conjuntos de dados complexos ao reduzir o número de variáveis, mantendo a maior parte da informação relevante.\n",
    "  - É usada para melhorar a eficiência computacional e facilitar a visualização.\n",
    "- **Exemplo**:\n",
    "  - Reduzir dados de alta dimensão (como imagens) para componentes principais com PCA.\n",
    "- **Algoritmos Comuns**:\n",
    "  - PCA (Principal Component Analysis), t-SNE, LDA (Linear Discriminant Analysis).\n",
    "\n",
    "---\n",
    "\n",
    "#### 5. **Associação**\n",
    "- **Descrição**:\n",
    "  - Identifica relações ou padrões frequentes entre itens em grandes conjuntos de dados.\n",
    "  - Muito usada para análise de cestas de compras (market basket analysis).\n",
    "- **Exemplo**:\n",
    "  - Descobrir que \"clientes que compram pão também compram manteiga\".\n",
    "- **Algoritmos Comuns**:\n",
    "  - Apriori, FP-Growth.\n",
    "\n",
    "---\n",
    "\n",
    "#### 6. **Detecção de Anomalias**\n",
    "- **Descrição**:\n",
    "  - Identifica dados que não se encaixam no padrão geral do conjunto de dados.\n",
    "  - Importante para detectar fraudes, problemas de segurança ou erros nos dados.\n",
    "- **Exemplo**:\n",
    "  - Detecção de transações bancárias fraudulentas.\n",
    "- **Algoritmos Comuns**:\n",
    "  - Isolation Forest, One-Class SVM, Local Outlier Factor.\n",
    "\n",
    "---\n",
    "\n",
    "#### 7. **Séries Temporais**\n",
    "- **Descrição**:\n",
    "  - Analisa dados que são coletados ao longo do tempo para identificar tendências, padrões sazonais ou prever valores futuros.\n",
    "  - Foca em dependências temporais entre os dados.\n",
    "- **Exemplo**:\n",
    "  - Previsão de vendas com base em dados históricos.\n",
    "- **Algoritmos Comuns**:\n",
    "  - ARIMA, LSTM (Redes Neurais Recorrentes), Prophet.\n",
    "\n",
    "---\n",
    "\n",
    "#### 8. **Mineração de Texto**\n",
    "- **Descrição**:\n",
    "  - Extrai informações úteis de dados textuais, como documentos, e-mails ou postagens em redes sociais.\n",
    "  - Inclui tarefas como análise de sentimentos, extração de tópicos e classificação de texto.\n",
    "- **Exemplo**:\n",
    "  - Identificar a opinião dos clientes sobre um produto com base em avaliações.\n",
    "- **Algoritmos Comuns**:\n",
    "  - TF-IDF, Word2Vec, BERT.\n",
    "\n",
    "---\n",
    "\n",
    "#### 9. **Mineração de Redes Sociais**\n",
    "- **Descrição**:\n",
    "  - Análise de dados estruturados provenientes de redes sociais para identificar conexões, influências e comunidades.\n",
    "- **Exemplo**:\n",
    "  - Identificar influenciadores em uma rede social como Twitter.\n",
    "- **Técnicas Comuns**:\n",
    "  - Análise de Grafos, Centralidade, Comunidades.\n",
    "\n",
    "---\n",
    "\n",
    "### Importância das Técnicas\n",
    "Essas técnicas fornecem uma base sólida para analisar e interpretar grandes volumes de dados. Elas podem ser aplicadas em diversas áreas, como marketing, saúde, finanças, ciência, e engenharia, ajudando na tomada de decisões baseadas em dados.\n"
   ]
  },
  {
   "cell_type": "markdown",
   "id": "f36d1788",
   "metadata": {
    "id": "f36d1788"
   },
   "source": [
    "### Vamos abordar um pouco mais sobre 3 técnicas"
   ]
  },
  {
   "cell_type": "markdown",
   "id": "fa7d0023",
   "metadata": {
    "id": "fa7d0023"
   },
   "source": [
    "---"
   ]
  },
  {
   "cell_type": "markdown",
   "id": "dbab1c89",
   "metadata": {
    "id": "dbab1c89"
   },
   "source": [
    "### 1. Classificação: Separar dados em categorias predefinidas\n",
    "\n",
    "\n",
    "Problema: Classificação de E-mails em \"Spam\" ou \"Não Spam\"\n",
    "\n",
    "Imagine que você tem um conjunto de e-mails com algumas características que ajudam a identificar se um e-mail é \"Spam\" ou \"Não Spam\". As características incluem o número de palavras específicas no e-mail, se o remetente está na lista de contatos, e se o e-mail contém links. Sua tarefa é construir um modelo de classificação para separar e-mails em \"Spam\" e \"Não Spam\" usando Python."
   ]
  },
  {
   "cell_type": "markdown",
   "id": "6e00f520",
   "metadata": {
    "id": "6e00f520"
   },
   "source": [
    "**Solução**\n",
    "\n",
    "Abaixo está um código que utiliza a biblioteca scikit-learn para resolver esse problema com um modelo de classificação. Neste caso, usamos o K-Nearest Neighbors (KNN), mas outras técnicas como Árvores de Decisão, SVM, ou Redes Neurais poderiam ser aplicadas."
   ]
  },
  {
   "cell_type": "markdown",
   "id": "6d02f946",
   "metadata": {
    "id": "6d02f946"
   },
   "source": [
    "### O K-Nearest Neighbors (KNN)"
   ]
  },
  {
   "cell_type": "markdown",
   "id": "92c31650",
   "metadata": {
    "id": "92c31650"
   },
   "source": [
    "![aula10knn_01.png](./figuras/aula10knn_01.png)"
   ]
  },
  {
   "cell_type": "markdown",
   "id": "3b2856a1",
   "metadata": {
    "id": "3b2856a1"
   },
   "source": [
    "![aula10knn_02.png](./figuras/aula10knn_02.png)"
   ]
  },
  {
   "cell_type": "markdown",
   "id": "782b4bde",
   "metadata": {
    "id": "782b4bde"
   },
   "source": [
    "### Para classificar um novo exemplo (Desconhecido)"
   ]
  },
  {
   "cell_type": "markdown",
   "id": "52502e7e",
   "metadata": {
    "id": "52502e7e"
   },
   "source": [
    "![aula10knn_03.png](./figuras/aula10knn_03.png)"
   ]
  },
  {
   "cell_type": "markdown",
   "id": "48d4089d",
   "metadata": {
    "id": "48d4089d"
   },
   "source": [
    "#### Explicação do Código\n",
    "\n",
    "1. Dataset Fictício:\n",
    "\n",
    "Criamos um conjunto de dados com três características:\n",
    "n_palavras_spam: Número de palavras consideradas como indicadoras de spam.\n",
    "remetente_lista_contatos: Se o remetente está na lista de contatos (1 para sim, 0 para não).\n",
    "contem_links: Se o e-mail contém links (1 para sim, 0 para não).\n",
    "\n",
    "2. Divisão dos Dados:\n",
    "\n",
    "Os dados são divididos em conjunto de treino (70%) e teste (30%).\n",
    "\n",
    "3. Escalonamento/Padronizacao:\n",
    "\n",
    "As características são padronizadas para melhorar o desempenho do algoritmo.\n",
    "\n",
    "4. Treinamento do Modelo:\n",
    "\n",
    "Usamos o KNN, que classifica um ponto com base em seus vizinhos mais próximos.\n",
    "\n",
    "5. Avaliação:\n",
    "\n",
    "O desempenho do modelo é avaliado usando métricas como precisão, recall e acurácia.\n",
    "\n",
    "6. Resultados Esperados\n",
    "\n",
    "O modelo deve classificar os e-mails em \"Spam\" ou \"Não Spam\" com base nas características fornecidas. Ajustando os hiperparâmetros (como o número de vizinhos no KNN), o desempenho pode ser otimizado."
   ]
  },
  {
   "cell_type": "code",
   "execution_count": 1,
   "id": "a82e6039",
   "metadata": {
    "id": "a82e6039",
    "scrolled": true
   },
   "outputs": [],
   "source": [
    "# Importando bibliotecas\n",
    "import numpy as np\n",
    "import pandas as pd\n",
    "from sklearn.model_selection import train_test_split\n",
    "from sklearn.preprocessing import StandardScaler\n",
    "from sklearn.neighbors import KNeighborsClassifier\n",
    "from sklearn.metrics import classification_report, accuracy_score\n",
    "\n",
    "# Criando um dataset fictício\n",
    "# Características: [n_palavras_spam, remetente_lista_contatos, contem_links]\n",
    "# Labels (Rótulos): 0 -> Não Spam, 1 -> Spam\n",
    "data = {\n",
    "    'n_palavras_spam': [3, 1, 15, 0, 5, 20, 1, 2, 18, 0],\n",
    "    'remetente_lista_contatos': [1, 1, 0, 1, 0, 0, 1, 1, 0, 1],\n",
    "    'contem_links': [0, 0, 1, 0, 1, 1, 0, 0, 1, 0],\n",
    "    'spam': [0, 0, 1, 0, 1, 1, 0, 0, 1, 0]\n",
    "}\n",
    "\n",
    "# Convertendo para DataFrame\n",
    "df = pd.DataFrame(data)"
   ]
  },
  {
   "cell_type": "code",
   "execution_count": 2,
   "id": "dcab3258",
   "metadata": {},
   "outputs": [
    {
     "data": {
      "text/html": [
       "<div>\n",
       "<style scoped>\n",
       "    .dataframe tbody tr th:only-of-type {\n",
       "        vertical-align: middle;\n",
       "    }\n",
       "\n",
       "    .dataframe tbody tr th {\n",
       "        vertical-align: top;\n",
       "    }\n",
       "\n",
       "    .dataframe thead th {\n",
       "        text-align: right;\n",
       "    }\n",
       "</style>\n",
       "<table border=\"1\" class=\"dataframe\">\n",
       "  <thead>\n",
       "    <tr style=\"text-align: right;\">\n",
       "      <th></th>\n",
       "      <th>n_palavras_spam</th>\n",
       "      <th>remetente_lista_contatos</th>\n",
       "      <th>contem_links</th>\n",
       "      <th>spam</th>\n",
       "    </tr>\n",
       "  </thead>\n",
       "  <tbody>\n",
       "    <tr>\n",
       "      <th>0</th>\n",
       "      <td>3</td>\n",
       "      <td>1</td>\n",
       "      <td>0</td>\n",
       "      <td>0</td>\n",
       "    </tr>\n",
       "    <tr>\n",
       "      <th>1</th>\n",
       "      <td>1</td>\n",
       "      <td>1</td>\n",
       "      <td>0</td>\n",
       "      <td>0</td>\n",
       "    </tr>\n",
       "    <tr>\n",
       "      <th>2</th>\n",
       "      <td>15</td>\n",
       "      <td>0</td>\n",
       "      <td>1</td>\n",
       "      <td>1</td>\n",
       "    </tr>\n",
       "    <tr>\n",
       "      <th>3</th>\n",
       "      <td>0</td>\n",
       "      <td>1</td>\n",
       "      <td>0</td>\n",
       "      <td>0</td>\n",
       "    </tr>\n",
       "    <tr>\n",
       "      <th>4</th>\n",
       "      <td>5</td>\n",
       "      <td>0</td>\n",
       "      <td>1</td>\n",
       "      <td>1</td>\n",
       "    </tr>\n",
       "    <tr>\n",
       "      <th>5</th>\n",
       "      <td>20</td>\n",
       "      <td>0</td>\n",
       "      <td>1</td>\n",
       "      <td>1</td>\n",
       "    </tr>\n",
       "    <tr>\n",
       "      <th>6</th>\n",
       "      <td>1</td>\n",
       "      <td>1</td>\n",
       "      <td>0</td>\n",
       "      <td>0</td>\n",
       "    </tr>\n",
       "    <tr>\n",
       "      <th>7</th>\n",
       "      <td>2</td>\n",
       "      <td>1</td>\n",
       "      <td>0</td>\n",
       "      <td>0</td>\n",
       "    </tr>\n",
       "    <tr>\n",
       "      <th>8</th>\n",
       "      <td>18</td>\n",
       "      <td>0</td>\n",
       "      <td>1</td>\n",
       "      <td>1</td>\n",
       "    </tr>\n",
       "    <tr>\n",
       "      <th>9</th>\n",
       "      <td>0</td>\n",
       "      <td>1</td>\n",
       "      <td>0</td>\n",
       "      <td>0</td>\n",
       "    </tr>\n",
       "  </tbody>\n",
       "</table>\n",
       "</div>"
      ],
      "text/plain": [
       "   n_palavras_spam  remetente_lista_contatos  contem_links  spam\n",
       "0                3                         1             0     0\n",
       "1                1                         1             0     0\n",
       "2               15                         0             1     1\n",
       "3                0                         1             0     0\n",
       "4                5                         0             1     1\n",
       "5               20                         0             1     1\n",
       "6                1                         1             0     0\n",
       "7                2                         1             0     0\n",
       "8               18                         0             1     1\n",
       "9                0                         1             0     0"
      ]
     },
     "execution_count": 2,
     "metadata": {},
     "output_type": "execute_result"
    }
   ],
   "source": [
    "df"
   ]
  },
  {
   "cell_type": "code",
   "execution_count": 18,
   "id": "ba851894",
   "metadata": {
    "id": "ba851894"
   },
   "outputs": [],
   "source": [
    "# Separando características (X) e rótulos (y)\n",
    "X = df[['n_palavras_spam', 'remetente_lista_contatos', 'contem_links']]\n",
    "y = df['spam']\n",
    "\n",
    "# Dividindo os dados em treino e teste\n",
    "X_treino, X_teste, y_treino, y_teste = train_test_split(X, y, test_size=0.3, stratify=df['spam'], random_state=42)"
   ]
  },
  {
   "cell_type": "code",
   "execution_count": 19,
   "id": "b274507b",
   "metadata": {},
   "outputs": [
    {
     "data": {
      "text/html": [
       "<div>\n",
       "<style scoped>\n",
       "    .dataframe tbody tr th:only-of-type {\n",
       "        vertical-align: middle;\n",
       "    }\n",
       "\n",
       "    .dataframe tbody tr th {\n",
       "        vertical-align: top;\n",
       "    }\n",
       "\n",
       "    .dataframe thead th {\n",
       "        text-align: right;\n",
       "    }\n",
       "</style>\n",
       "<table border=\"1\" class=\"dataframe\">\n",
       "  <thead>\n",
       "    <tr style=\"text-align: right;\">\n",
       "      <th></th>\n",
       "      <th>n_palavras_spam</th>\n",
       "      <th>remetente_lista_contatos</th>\n",
       "      <th>contem_links</th>\n",
       "    </tr>\n",
       "  </thead>\n",
       "  <tbody>\n",
       "    <tr>\n",
       "      <th>7</th>\n",
       "      <td>2</td>\n",
       "      <td>1</td>\n",
       "      <td>0</td>\n",
       "    </tr>\n",
       "    <tr>\n",
       "      <th>6</th>\n",
       "      <td>1</td>\n",
       "      <td>1</td>\n",
       "      <td>0</td>\n",
       "    </tr>\n",
       "    <tr>\n",
       "      <th>2</th>\n",
       "      <td>15</td>\n",
       "      <td>0</td>\n",
       "      <td>1</td>\n",
       "    </tr>\n",
       "  </tbody>\n",
       "</table>\n",
       "</div>"
      ],
      "text/plain": [
       "   n_palavras_spam  remetente_lista_contatos  contem_links\n",
       "7                2                         1             0\n",
       "6                1                         1             0\n",
       "2               15                         0             1"
      ]
     },
     "execution_count": 19,
     "metadata": {},
     "output_type": "execute_result"
    }
   ],
   "source": [
    "X_teste"
   ]
  },
  {
   "cell_type": "code",
   "execution_count": 27,
   "id": "64cae24a",
   "metadata": {},
   "outputs": [
    {
     "data": {
      "text/plain": [
       "((7, 3), (3, 3))"
      ]
     },
     "execution_count": 27,
     "metadata": {},
     "output_type": "execute_result"
    }
   ],
   "source": [
    "X_treino.shape, X_teste.shape"
   ]
  },
  {
   "cell_type": "code",
   "execution_count": 39,
   "id": "1b94abae",
   "metadata": {},
   "outputs": [
    {
     "data": {
      "text/html": [
       "<div>\n",
       "<style scoped>\n",
       "    .dataframe tbody tr th:only-of-type {\n",
       "        vertical-align: middle;\n",
       "    }\n",
       "\n",
       "    .dataframe tbody tr th {\n",
       "        vertical-align: top;\n",
       "    }\n",
       "\n",
       "    .dataframe thead th {\n",
       "        text-align: right;\n",
       "    }\n",
       "</style>\n",
       "<table border=\"1\" class=\"dataframe\">\n",
       "  <thead>\n",
       "    <tr style=\"text-align: right;\">\n",
       "      <th></th>\n",
       "      <th>n_palavras_spam</th>\n",
       "      <th>remetente_lista_contatos</th>\n",
       "      <th>contem_links</th>\n",
       "    </tr>\n",
       "  </thead>\n",
       "  <tbody>\n",
       "    <tr>\n",
       "      <th>1</th>\n",
       "      <td>1</td>\n",
       "      <td>1</td>\n",
       "      <td>0</td>\n",
       "    </tr>\n",
       "    <tr>\n",
       "      <th>6</th>\n",
       "      <td>1</td>\n",
       "      <td>1</td>\n",
       "      <td>0</td>\n",
       "    </tr>\n",
       "    <tr>\n",
       "      <th>0</th>\n",
       "      <td>3</td>\n",
       "      <td>1</td>\n",
       "      <td>0</td>\n",
       "    </tr>\n",
       "    <tr>\n",
       "      <th>5</th>\n",
       "      <td>20</td>\n",
       "      <td>0</td>\n",
       "      <td>1</td>\n",
       "    </tr>\n",
       "    <tr>\n",
       "      <th>9</th>\n",
       "      <td>0</td>\n",
       "      <td>1</td>\n",
       "      <td>0</td>\n",
       "    </tr>\n",
       "    <tr>\n",
       "      <th>2</th>\n",
       "      <td>15</td>\n",
       "      <td>0</td>\n",
       "      <td>1</td>\n",
       "    </tr>\n",
       "    <tr>\n",
       "      <th>4</th>\n",
       "      <td>5</td>\n",
       "      <td>0</td>\n",
       "      <td>1</td>\n",
       "    </tr>\n",
       "  </tbody>\n",
       "</table>\n",
       "</div>"
      ],
      "text/plain": [
       "   n_palavras_spam  remetente_lista_contatos  contem_links\n",
       "1                1                         1             0\n",
       "6                1                         1             0\n",
       "0                3                         1             0\n",
       "5               20                         0             1\n",
       "9                0                         1             0\n",
       "2               15                         0             1\n",
       "4                5                         0             1"
      ]
     },
     "execution_count": 39,
     "metadata": {},
     "output_type": "execute_result"
    }
   ],
   "source": [
    "X_treino"
   ]
  },
  {
   "cell_type": "markdown",
   "id": "94935b7d",
   "metadata": {
    "id": "94935b7d"
   },
   "source": [
    "1. **`train_test_split`**:\n",
    "   - Função disponível no módulo `model_selection` da biblioteca `scikit-learn`.\n",
    "   - É usada para dividir o dataset em dois conjuntos:\n",
    "     - **Conjunto de Treino**: Usado para ajustar o modelo.\n",
    "     - **Conjunto de Teste**: Usado para avaliar o desempenho do modelo em dados não vistos.\n",
    "     \n",
    "\n",
    "2. **Parâmetros do Método**:\n",
    "   - **`X`**: Contém as características (features) do dataset.\n",
    "   - **`y`**: Contém os rótulos (labels) ou a variável-alvo do dataset.\n",
    "   - **`test_size=0.3`**: Define o tamanho do conjunto de teste.\n",
    "     - 30% dos dados serão usados para teste, e os outros 70% para treino.\n",
    "   - **`random_state=42`**: Define uma semente para o gerador de números aleatórios.\n",
    "     - Isso garante que a divisão dos dados seja reproduzível, ou seja, a mesma divisão será usada em execuções diferentes.\n",
    "\n",
    "3. **Retornos**:\n",
    "   - **`X_treino`**: Conjunto de características para treino.\n",
    "   - **`X_teste`**: Conjunto de características para teste.\n",
    "   - **`y_treino`**: Rótulos correspondentes ao conjunto de treino.\n",
    "   - **`y_teste`**: Rótulos correspondentes ao conjunto de teste.\n"
   ]
  },
  {
   "cell_type": "code",
   "execution_count": 21,
   "id": "6fbec282",
   "metadata": {
    "id": "6fbec282"
   },
   "outputs": [],
   "source": [
    "# Padronizando os dados\n",
    "escalonador = StandardScaler()\n",
    "X_treino_escalonado = escalonador.fit_transform(X_treino)\n",
    "X_teste_escalonado = escalonador.transform(X_teste)"
   ]
  },
  {
   "cell_type": "markdown",
   "id": "e0d82a02",
   "metadata": {
    "id": "e0d82a02"
   },
   "source": [
    "\n",
    "1. **`StandardScaler`**:\n",
    "   - Uma classe da biblioteca `scikit-learn` usada para padronizar os dados.\n",
    "   - Padroniza os dados para que cada característica tenha:\n",
    "     - **Média 0**\n",
    "     - **Desvio padrão 1**\n",
    "\n",
    "\n",
    "2. **`fit_transform`**:\n",
    "   - Calcula os parâmetros de escalonamento (média e desvio padrão) com base no **conjunto de treino**.\n",
    "   - Aplica a transformação para padronizar os dados do conjunto de treino.\n",
    "   \n",
    "\n",
    "3. **`transform`**:\n",
    "   - Aplica a mesma transformação, usando os parâmetros calculados a partir do conjunto de treino, ao **conjunto de teste**.\n",
    "   - Garante consistência no escalonamento entre os conjuntos de treino e teste.\n",
    "\n",
    "\n",
    "4. **Importância do Escalonamento**:\n",
    "   - Padronizar as características é essencial para muitos algoritmos que dependem da magnitude dos valores, como:\n",
    "     - **K-Nearest Neighbors (KNN)**\n",
    "     - **Support Vector Machines (SVM)**\n",
    "     - **Redes Neurais**\n",
    "   - Garante que todas as características tenham o mesmo peso no modelo.\n",
    "   \n",
    "\n",
    "5. **Por que ajustar apenas no treino?**:\n",
    "   - O ajuste (`fit`) é realizado somente no conjunto de treino para evitar vazamento de informações do conjunto de teste.\n",
    "   - Isso assegura que a avaliação do modelo seja feita em dados verdadeiramente \"não vistos\".\n"
   ]
  },
  {
   "cell_type": "code",
   "execution_count": 22,
   "id": "6ae1b3cb",
   "metadata": {
    "id": "6ae1b3cb"
   },
   "outputs": [
    {
     "data": {
      "text/html": [
       "<style>#sk-container-id-1 {\n",
       "  /* Definition of color scheme common for light and dark mode */\n",
       "  --sklearn-color-text: #000;\n",
       "  --sklearn-color-text-muted: #666;\n",
       "  --sklearn-color-line: gray;\n",
       "  /* Definition of color scheme for unfitted estimators */\n",
       "  --sklearn-color-unfitted-level-0: #fff5e6;\n",
       "  --sklearn-color-unfitted-level-1: #f6e4d2;\n",
       "  --sklearn-color-unfitted-level-2: #ffe0b3;\n",
       "  --sklearn-color-unfitted-level-3: chocolate;\n",
       "  /* Definition of color scheme for fitted estimators */\n",
       "  --sklearn-color-fitted-level-0: #f0f8ff;\n",
       "  --sklearn-color-fitted-level-1: #d4ebff;\n",
       "  --sklearn-color-fitted-level-2: #b3dbfd;\n",
       "  --sklearn-color-fitted-level-3: cornflowerblue;\n",
       "\n",
       "  /* Specific color for light theme */\n",
       "  --sklearn-color-text-on-default-background: var(--sg-text-color, var(--theme-code-foreground, var(--jp-content-font-color1, black)));\n",
       "  --sklearn-color-background: var(--sg-background-color, var(--theme-background, var(--jp-layout-color0, white)));\n",
       "  --sklearn-color-border-box: var(--sg-text-color, var(--theme-code-foreground, var(--jp-content-font-color1, black)));\n",
       "  --sklearn-color-icon: #696969;\n",
       "\n",
       "  @media (prefers-color-scheme: dark) {\n",
       "    /* Redefinition of color scheme for dark theme */\n",
       "    --sklearn-color-text-on-default-background: var(--sg-text-color, var(--theme-code-foreground, var(--jp-content-font-color1, white)));\n",
       "    --sklearn-color-background: var(--sg-background-color, var(--theme-background, var(--jp-layout-color0, #111)));\n",
       "    --sklearn-color-border-box: var(--sg-text-color, var(--theme-code-foreground, var(--jp-content-font-color1, white)));\n",
       "    --sklearn-color-icon: #878787;\n",
       "  }\n",
       "}\n",
       "\n",
       "#sk-container-id-1 {\n",
       "  color: var(--sklearn-color-text);\n",
       "}\n",
       "\n",
       "#sk-container-id-1 pre {\n",
       "  padding: 0;\n",
       "}\n",
       "\n",
       "#sk-container-id-1 input.sk-hidden--visually {\n",
       "  border: 0;\n",
       "  clip: rect(1px 1px 1px 1px);\n",
       "  clip: rect(1px, 1px, 1px, 1px);\n",
       "  height: 1px;\n",
       "  margin: -1px;\n",
       "  overflow: hidden;\n",
       "  padding: 0;\n",
       "  position: absolute;\n",
       "  width: 1px;\n",
       "}\n",
       "\n",
       "#sk-container-id-1 div.sk-dashed-wrapped {\n",
       "  border: 1px dashed var(--sklearn-color-line);\n",
       "  margin: 0 0.4em 0.5em 0.4em;\n",
       "  box-sizing: border-box;\n",
       "  padding-bottom: 0.4em;\n",
       "  background-color: var(--sklearn-color-background);\n",
       "}\n",
       "\n",
       "#sk-container-id-1 div.sk-container {\n",
       "  /* jupyter's `normalize.less` sets `[hidden] { display: none; }`\n",
       "     but bootstrap.min.css set `[hidden] { display: none !important; }`\n",
       "     so we also need the `!important` here to be able to override the\n",
       "     default hidden behavior on the sphinx rendered scikit-learn.org.\n",
       "     See: https://github.com/scikit-learn/scikit-learn/issues/21755 */\n",
       "  display: inline-block !important;\n",
       "  position: relative;\n",
       "}\n",
       "\n",
       "#sk-container-id-1 div.sk-text-repr-fallback {\n",
       "  display: none;\n",
       "}\n",
       "\n",
       "div.sk-parallel-item,\n",
       "div.sk-serial,\n",
       "div.sk-item {\n",
       "  /* draw centered vertical line to link estimators */\n",
       "  background-image: linear-gradient(var(--sklearn-color-text-on-default-background), var(--sklearn-color-text-on-default-background));\n",
       "  background-size: 2px 100%;\n",
       "  background-repeat: no-repeat;\n",
       "  background-position: center center;\n",
       "}\n",
       "\n",
       "/* Parallel-specific style estimator block */\n",
       "\n",
       "#sk-container-id-1 div.sk-parallel-item::after {\n",
       "  content: \"\";\n",
       "  width: 100%;\n",
       "  border-bottom: 2px solid var(--sklearn-color-text-on-default-background);\n",
       "  flex-grow: 1;\n",
       "}\n",
       "\n",
       "#sk-container-id-1 div.sk-parallel {\n",
       "  display: flex;\n",
       "  align-items: stretch;\n",
       "  justify-content: center;\n",
       "  background-color: var(--sklearn-color-background);\n",
       "  position: relative;\n",
       "}\n",
       "\n",
       "#sk-container-id-1 div.sk-parallel-item {\n",
       "  display: flex;\n",
       "  flex-direction: column;\n",
       "}\n",
       "\n",
       "#sk-container-id-1 div.sk-parallel-item:first-child::after {\n",
       "  align-self: flex-end;\n",
       "  width: 50%;\n",
       "}\n",
       "\n",
       "#sk-container-id-1 div.sk-parallel-item:last-child::after {\n",
       "  align-self: flex-start;\n",
       "  width: 50%;\n",
       "}\n",
       "\n",
       "#sk-container-id-1 div.sk-parallel-item:only-child::after {\n",
       "  width: 0;\n",
       "}\n",
       "\n",
       "/* Serial-specific style estimator block */\n",
       "\n",
       "#sk-container-id-1 div.sk-serial {\n",
       "  display: flex;\n",
       "  flex-direction: column;\n",
       "  align-items: center;\n",
       "  background-color: var(--sklearn-color-background);\n",
       "  padding-right: 1em;\n",
       "  padding-left: 1em;\n",
       "}\n",
       "\n",
       "\n",
       "/* Toggleable style: style used for estimator/Pipeline/ColumnTransformer box that is\n",
       "clickable and can be expanded/collapsed.\n",
       "- Pipeline and ColumnTransformer use this feature and define the default style\n",
       "- Estimators will overwrite some part of the style using the `sk-estimator` class\n",
       "*/\n",
       "\n",
       "/* Pipeline and ColumnTransformer style (default) */\n",
       "\n",
       "#sk-container-id-1 div.sk-toggleable {\n",
       "  /* Default theme specific background. It is overwritten whether we have a\n",
       "  specific estimator or a Pipeline/ColumnTransformer */\n",
       "  background-color: var(--sklearn-color-background);\n",
       "}\n",
       "\n",
       "/* Toggleable label */\n",
       "#sk-container-id-1 label.sk-toggleable__label {\n",
       "  cursor: pointer;\n",
       "  display: flex;\n",
       "  width: 100%;\n",
       "  margin-bottom: 0;\n",
       "  padding: 0.5em;\n",
       "  box-sizing: border-box;\n",
       "  text-align: center;\n",
       "  align-items: start;\n",
       "  justify-content: space-between;\n",
       "  gap: 0.5em;\n",
       "}\n",
       "\n",
       "#sk-container-id-1 label.sk-toggleable__label .caption {\n",
       "  font-size: 0.6rem;\n",
       "  font-weight: lighter;\n",
       "  color: var(--sklearn-color-text-muted);\n",
       "}\n",
       "\n",
       "#sk-container-id-1 label.sk-toggleable__label-arrow:before {\n",
       "  /* Arrow on the left of the label */\n",
       "  content: \"▸\";\n",
       "  float: left;\n",
       "  margin-right: 0.25em;\n",
       "  color: var(--sklearn-color-icon);\n",
       "}\n",
       "\n",
       "#sk-container-id-1 label.sk-toggleable__label-arrow:hover:before {\n",
       "  color: var(--sklearn-color-text);\n",
       "}\n",
       "\n",
       "/* Toggleable content - dropdown */\n",
       "\n",
       "#sk-container-id-1 div.sk-toggleable__content {\n",
       "  max-height: 0;\n",
       "  max-width: 0;\n",
       "  overflow: hidden;\n",
       "  text-align: left;\n",
       "  /* unfitted */\n",
       "  background-color: var(--sklearn-color-unfitted-level-0);\n",
       "}\n",
       "\n",
       "#sk-container-id-1 div.sk-toggleable__content.fitted {\n",
       "  /* fitted */\n",
       "  background-color: var(--sklearn-color-fitted-level-0);\n",
       "}\n",
       "\n",
       "#sk-container-id-1 div.sk-toggleable__content pre {\n",
       "  margin: 0.2em;\n",
       "  border-radius: 0.25em;\n",
       "  color: var(--sklearn-color-text);\n",
       "  /* unfitted */\n",
       "  background-color: var(--sklearn-color-unfitted-level-0);\n",
       "}\n",
       "\n",
       "#sk-container-id-1 div.sk-toggleable__content.fitted pre {\n",
       "  /* unfitted */\n",
       "  background-color: var(--sklearn-color-fitted-level-0);\n",
       "}\n",
       "\n",
       "#sk-container-id-1 input.sk-toggleable__control:checked~div.sk-toggleable__content {\n",
       "  /* Expand drop-down */\n",
       "  max-height: 200px;\n",
       "  max-width: 100%;\n",
       "  overflow: auto;\n",
       "}\n",
       "\n",
       "#sk-container-id-1 input.sk-toggleable__control:checked~label.sk-toggleable__label-arrow:before {\n",
       "  content: \"▾\";\n",
       "}\n",
       "\n",
       "/* Pipeline/ColumnTransformer-specific style */\n",
       "\n",
       "#sk-container-id-1 div.sk-label input.sk-toggleable__control:checked~label.sk-toggleable__label {\n",
       "  color: var(--sklearn-color-text);\n",
       "  background-color: var(--sklearn-color-unfitted-level-2);\n",
       "}\n",
       "\n",
       "#sk-container-id-1 div.sk-label.fitted input.sk-toggleable__control:checked~label.sk-toggleable__label {\n",
       "  background-color: var(--sklearn-color-fitted-level-2);\n",
       "}\n",
       "\n",
       "/* Estimator-specific style */\n",
       "\n",
       "/* Colorize estimator box */\n",
       "#sk-container-id-1 div.sk-estimator input.sk-toggleable__control:checked~label.sk-toggleable__label {\n",
       "  /* unfitted */\n",
       "  background-color: var(--sklearn-color-unfitted-level-2);\n",
       "}\n",
       "\n",
       "#sk-container-id-1 div.sk-estimator.fitted input.sk-toggleable__control:checked~label.sk-toggleable__label {\n",
       "  /* fitted */\n",
       "  background-color: var(--sklearn-color-fitted-level-2);\n",
       "}\n",
       "\n",
       "#sk-container-id-1 div.sk-label label.sk-toggleable__label,\n",
       "#sk-container-id-1 div.sk-label label {\n",
       "  /* The background is the default theme color */\n",
       "  color: var(--sklearn-color-text-on-default-background);\n",
       "}\n",
       "\n",
       "/* On hover, darken the color of the background */\n",
       "#sk-container-id-1 div.sk-label:hover label.sk-toggleable__label {\n",
       "  color: var(--sklearn-color-text);\n",
       "  background-color: var(--sklearn-color-unfitted-level-2);\n",
       "}\n",
       "\n",
       "/* Label box, darken color on hover, fitted */\n",
       "#sk-container-id-1 div.sk-label.fitted:hover label.sk-toggleable__label.fitted {\n",
       "  color: var(--sklearn-color-text);\n",
       "  background-color: var(--sklearn-color-fitted-level-2);\n",
       "}\n",
       "\n",
       "/* Estimator label */\n",
       "\n",
       "#sk-container-id-1 div.sk-label label {\n",
       "  font-family: monospace;\n",
       "  font-weight: bold;\n",
       "  display: inline-block;\n",
       "  line-height: 1.2em;\n",
       "}\n",
       "\n",
       "#sk-container-id-1 div.sk-label-container {\n",
       "  text-align: center;\n",
       "}\n",
       "\n",
       "/* Estimator-specific */\n",
       "#sk-container-id-1 div.sk-estimator {\n",
       "  font-family: monospace;\n",
       "  border: 1px dotted var(--sklearn-color-border-box);\n",
       "  border-radius: 0.25em;\n",
       "  box-sizing: border-box;\n",
       "  margin-bottom: 0.5em;\n",
       "  /* unfitted */\n",
       "  background-color: var(--sklearn-color-unfitted-level-0);\n",
       "}\n",
       "\n",
       "#sk-container-id-1 div.sk-estimator.fitted {\n",
       "  /* fitted */\n",
       "  background-color: var(--sklearn-color-fitted-level-0);\n",
       "}\n",
       "\n",
       "/* on hover */\n",
       "#sk-container-id-1 div.sk-estimator:hover {\n",
       "  /* unfitted */\n",
       "  background-color: var(--sklearn-color-unfitted-level-2);\n",
       "}\n",
       "\n",
       "#sk-container-id-1 div.sk-estimator.fitted:hover {\n",
       "  /* fitted */\n",
       "  background-color: var(--sklearn-color-fitted-level-2);\n",
       "}\n",
       "\n",
       "/* Specification for estimator info (e.g. \"i\" and \"?\") */\n",
       "\n",
       "/* Common style for \"i\" and \"?\" */\n",
       "\n",
       ".sk-estimator-doc-link,\n",
       "a:link.sk-estimator-doc-link,\n",
       "a:visited.sk-estimator-doc-link {\n",
       "  float: right;\n",
       "  font-size: smaller;\n",
       "  line-height: 1em;\n",
       "  font-family: monospace;\n",
       "  background-color: var(--sklearn-color-background);\n",
       "  border-radius: 1em;\n",
       "  height: 1em;\n",
       "  width: 1em;\n",
       "  text-decoration: none !important;\n",
       "  margin-left: 0.5em;\n",
       "  text-align: center;\n",
       "  /* unfitted */\n",
       "  border: var(--sklearn-color-unfitted-level-1) 1pt solid;\n",
       "  color: var(--sklearn-color-unfitted-level-1);\n",
       "}\n",
       "\n",
       ".sk-estimator-doc-link.fitted,\n",
       "a:link.sk-estimator-doc-link.fitted,\n",
       "a:visited.sk-estimator-doc-link.fitted {\n",
       "  /* fitted */\n",
       "  border: var(--sklearn-color-fitted-level-1) 1pt solid;\n",
       "  color: var(--sklearn-color-fitted-level-1);\n",
       "}\n",
       "\n",
       "/* On hover */\n",
       "div.sk-estimator:hover .sk-estimator-doc-link:hover,\n",
       ".sk-estimator-doc-link:hover,\n",
       "div.sk-label-container:hover .sk-estimator-doc-link:hover,\n",
       ".sk-estimator-doc-link:hover {\n",
       "  /* unfitted */\n",
       "  background-color: var(--sklearn-color-unfitted-level-3);\n",
       "  color: var(--sklearn-color-background);\n",
       "  text-decoration: none;\n",
       "}\n",
       "\n",
       "div.sk-estimator.fitted:hover .sk-estimator-doc-link.fitted:hover,\n",
       ".sk-estimator-doc-link.fitted:hover,\n",
       "div.sk-label-container:hover .sk-estimator-doc-link.fitted:hover,\n",
       ".sk-estimator-doc-link.fitted:hover {\n",
       "  /* fitted */\n",
       "  background-color: var(--sklearn-color-fitted-level-3);\n",
       "  color: var(--sklearn-color-background);\n",
       "  text-decoration: none;\n",
       "}\n",
       "\n",
       "/* Span, style for the box shown on hovering the info icon */\n",
       ".sk-estimator-doc-link span {\n",
       "  display: none;\n",
       "  z-index: 9999;\n",
       "  position: relative;\n",
       "  font-weight: normal;\n",
       "  right: .2ex;\n",
       "  padding: .5ex;\n",
       "  margin: .5ex;\n",
       "  width: min-content;\n",
       "  min-width: 20ex;\n",
       "  max-width: 50ex;\n",
       "  color: var(--sklearn-color-text);\n",
       "  box-shadow: 2pt 2pt 4pt #999;\n",
       "  /* unfitted */\n",
       "  background: var(--sklearn-color-unfitted-level-0);\n",
       "  border: .5pt solid var(--sklearn-color-unfitted-level-3);\n",
       "}\n",
       "\n",
       ".sk-estimator-doc-link.fitted span {\n",
       "  /* fitted */\n",
       "  background: var(--sklearn-color-fitted-level-0);\n",
       "  border: var(--sklearn-color-fitted-level-3);\n",
       "}\n",
       "\n",
       ".sk-estimator-doc-link:hover span {\n",
       "  display: block;\n",
       "}\n",
       "\n",
       "/* \"?\"-specific style due to the `<a>` HTML tag */\n",
       "\n",
       "#sk-container-id-1 a.estimator_doc_link {\n",
       "  float: right;\n",
       "  font-size: 1rem;\n",
       "  line-height: 1em;\n",
       "  font-family: monospace;\n",
       "  background-color: var(--sklearn-color-background);\n",
       "  border-radius: 1rem;\n",
       "  height: 1rem;\n",
       "  width: 1rem;\n",
       "  text-decoration: none;\n",
       "  /* unfitted */\n",
       "  color: var(--sklearn-color-unfitted-level-1);\n",
       "  border: var(--sklearn-color-unfitted-level-1) 1pt solid;\n",
       "}\n",
       "\n",
       "#sk-container-id-1 a.estimator_doc_link.fitted {\n",
       "  /* fitted */\n",
       "  border: var(--sklearn-color-fitted-level-1) 1pt solid;\n",
       "  color: var(--sklearn-color-fitted-level-1);\n",
       "}\n",
       "\n",
       "/* On hover */\n",
       "#sk-container-id-1 a.estimator_doc_link:hover {\n",
       "  /* unfitted */\n",
       "  background-color: var(--sklearn-color-unfitted-level-3);\n",
       "  color: var(--sklearn-color-background);\n",
       "  text-decoration: none;\n",
       "}\n",
       "\n",
       "#sk-container-id-1 a.estimator_doc_link.fitted:hover {\n",
       "  /* fitted */\n",
       "  background-color: var(--sklearn-color-fitted-level-3);\n",
       "}\n",
       "</style><div id=\"sk-container-id-1\" class=\"sk-top-container\"><div class=\"sk-text-repr-fallback\"><pre>KNeighborsClassifier(n_neighbors=3)</pre><b>In a Jupyter environment, please rerun this cell to show the HTML representation or trust the notebook. <br />On GitHub, the HTML representation is unable to render, please try loading this page with nbviewer.org.</b></div><div class=\"sk-container\" hidden><div class=\"sk-item\"><div class=\"sk-estimator fitted sk-toggleable\"><input class=\"sk-toggleable__control sk-hidden--visually\" id=\"sk-estimator-id-1\" type=\"checkbox\" checked><label for=\"sk-estimator-id-1\" class=\"sk-toggleable__label fitted sk-toggleable__label-arrow\"><div><div>KNeighborsClassifier</div></div><div><a class=\"sk-estimator-doc-link fitted\" rel=\"noreferrer\" target=\"_blank\" href=\"https://scikit-learn.org/1.6/modules/generated/sklearn.neighbors.KNeighborsClassifier.html\">?<span>Documentation for KNeighborsClassifier</span></a><span class=\"sk-estimator-doc-link fitted\">i<span>Fitted</span></span></div></label><div class=\"sk-toggleable__content fitted\"><pre>KNeighborsClassifier(n_neighbors=3)</pre></div> </div></div></div></div>"
      ],
      "text/plain": [
       "KNeighborsClassifier(n_neighbors=3)"
      ]
     },
     "execution_count": 22,
     "metadata": {},
     "output_type": "execute_result"
    }
   ],
   "source": [
    "# Treinando o modelo KNN\n",
    "knn = KNeighborsClassifier(n_neighbors=3)\n",
    "knn.fit(X_treino_escalonado, y_treino) ##Aprenda a diferenciar entre email spam e não spam"
   ]
  },
  {
   "cell_type": "markdown",
   "id": "aa18cc76",
   "metadata": {
    "id": "aa18cc76"
   },
   "source": [
    "1. **`KNeighborsClassifier`**:\n",
    "   - Um classificador da biblioteca `scikit-learn` que implementa o algoritmo **K-Nearest Neighbors (KNN)**.\n",
    "   - O KNN é um algoritmo baseado em instâncias que classifica um ponto com base na classe da maioria de seus vizinhos mais próximos.\n",
    "\n",
    "\n",
    "2. **Parâmetro `n_neighbors`**:\n",
    "   - Define o número de vizinhos que o algoritmo considera ao tomar uma decisão.\n",
    "   - No exemplo, `n_neighbors=3` significa que o modelo considerará os **3 vizinhos mais próximos** para determinar a classe de um ponto.\n",
    "   \n",
    "\n",
    "3. **Método `fit`**:\n",
    "   - O método `fit` é usado para treinar o modelo.\n",
    "   - **Entradas**:\n",
    "     - `X_treino_escalonado`: As características (features) do conjunto de treino que já foram escalonadas.\n",
    "     - `y_treino`: Os rótulos (labels) do conjunto de treino, que indicam a classe correspondente a cada instância.\n",
    "   - O modelo armazena os dados de treino para realizar classificações com base na distância entre os pontos.\n",
    "   \n",
    "\n",
    "4. **Por que escalonar os dados?**:\n",
    "   - O KNN calcula as distâncias entre os pontos para identificar os vizinhos mais próximos.\n",
    "   - Sem escalonamento, características em escalas diferentes (ex.: idade de 0 a 100 e salário em milhares) podem distorcer as distâncias e impactar a classificação.\n"
   ]
  },
  {
   "cell_type": "code",
   "execution_count": 23,
   "id": "49763d08",
   "metadata": {},
   "outputs": [
    {
     "data": {
      "text/plain": [
       "7    0\n",
       "6    0\n",
       "2    1\n",
       "Name: spam, dtype: int64"
      ]
     },
     "execution_count": 23,
     "metadata": {},
     "output_type": "execute_result"
    }
   ],
   "source": [
    "y_teste"
   ]
  },
  {
   "cell_type": "code",
   "execution_count": 24,
   "id": "af4f07b4",
   "metadata": {},
   "outputs": [
    {
     "data": {
      "text/plain": [
       "array([0, 0, 1])"
      ]
     },
     "execution_count": 24,
     "metadata": {},
     "output_type": "execute_result"
    }
   ],
   "source": [
    "y_pred = knn.predict(X_teste_escalonado)\n",
    "y_pred"
   ]
  },
  {
   "cell_type": "code",
   "execution_count": 25,
   "id": "18818039",
   "metadata": {
    "id": "18818039",
    "outputId": "979eee1c-8d5d-42a6-b591-93122b104828"
   },
   "outputs": [
    {
     "name": "stdout",
     "output_type": "stream",
     "text": [
      "Relatório de Classificação:\n",
      "              precision    recall  f1-score   support\n",
      "\n",
      "           0       1.00      1.00      1.00         2\n",
      "           1       1.00      1.00      1.00         1\n",
      "\n",
      "    accuracy                           1.00         3\n",
      "   macro avg       1.00      1.00      1.00         3\n",
      "weighted avg       1.00      1.00      1.00         3\n",
      "\n",
      "Acurácia: 1.0\n"
     ]
    }
   ],
   "source": [
    "# Fazendo previsões\n",
    "y_pred = knn.predict(X_teste_escalonado)\n",
    "\n",
    "# Avaliando o modelo\n",
    "print(\"Relatório de Classificação:\")\n",
    "print(classification_report(y_teste, y_pred))\n",
    "print(\"Acurácia:\", accuracy_score(y_teste, y_pred))"
   ]
  },
  {
   "cell_type": "markdown",
   "id": "6faad193",
   "metadata": {
    "id": "6faad193"
   },
   "source": [
    "1. **`predict`**:\n",
    "   - Método utilizado para realizar previsões com o modelo treinado.\n",
    "   - **Entrada**:\n",
    "     - `X_teste_escalonado`: Conjunto de teste com as características já escalonadas.\n",
    "   - **Saída**:\n",
    "     - `y_pred`: Lista com as classes previstas para cada instância no conjunto de teste.\n",
    "\n",
    "\n",
    "2. **`classification_report`**:\n",
    "   - Gera um relatório detalhado com métricas de desempenho para problemas de classificação.\n",
    "   - Métricas incluídas:\n",
    "     - **Precisão (Precision)**: Proporção de instâncias classificadas como uma classe específica que realmente pertencem a essa classe.\n",
    "     - **Recall**: Proporção de instâncias reais de uma classe que foram corretamente identificadas.\n",
    "     - **F1-Score**: Média harmônica entre precisão e recall. É útil para avaliar modelos em datasets com classes desbalanceadas.\n",
    "     - **Suporte (Support)**: Número de instâncias reais de cada classe no conjunto de teste.\n",
    "\n",
    "\n",
    "3. **`accuracy_score`**:\n",
    "   - Calcula a acurácia do modelo, ou seja, a proporção de previsões corretas em relação ao total de instâncias.\n",
    "   - Fórmula:\n",
    "     \\[\n",
    "     \\text{Acurácia} = \\frac{\\text{Número de Previsões Corretas}}{\\text{Número Total de Previsões}}\n",
    "     \\]\n",
    "   - Acurácia é uma métrica geral que fornece uma visão ampla da performance do modelo.\n",
    "\n",
    "\n",
    "4. **Objetivo Geral**:\n",
    "   - **Fazer Previsões**: Verificar como o modelo treinado se comporta ao classificar dados novos, nunca vistos (conjunto de teste).\n",
    "   - **Avaliar o Modelo**: Medir o desempenho do modelo utilizando métricas como precisão, recall, F1-score e acurácia, para identificar pontos fortes e fracos na classificação.\n"
   ]
  },
  {
   "cell_type": "markdown",
   "id": "4c80ad7c",
   "metadata": {
    "id": "4c80ad7c"
   },
   "source": [
    "---"
   ]
  },
  {
   "cell_type": "markdown",
   "id": "3476fa73",
   "metadata": {
    "id": "3476fa73"
   },
   "source": [
    "### 2. Regressão: Modelar e prever relações entre variáveis\n"
   ]
  },
  {
   "cell_type": "markdown",
   "id": "8ad607bb",
   "metadata": {
    "id": "8ad607bb"
   },
   "source": [
    "Problema: Previsão de Preço de Casas\n",
    "\n",
    "Imagine que você tem um conjunto de dados contendo informações sobre diversas casas, como o número de quartos, o tamanho em metros quadrados, e o preço. Seu objetivo é criar um modelo de regressão linear para prever o preço de uma casa com base em suas características."
   ]
  },
  {
   "cell_type": "markdown",
   "id": "341a22bc",
   "metadata": {
    "id": "341a22bc"
   },
   "source": [
    "![aula10_regressaoLinear.png](./figuras/aula10_regressaoLinear.png)"
   ]
  },
  {
   "cell_type": "code",
   "execution_count": 26,
   "id": "bf3d354b",
   "metadata": {
    "id": "bf3d354b"
   },
   "outputs": [],
   "source": [
    "# Importando bibliotecas\n",
    "import numpy as np\n",
    "import pandas as pd\n",
    "from sklearn.model_selection import train_test_split\n",
    "from sklearn.linear_model import LinearRegression\n",
    "from sklearn.metrics import mean_squared_error, r2_score\n",
    "import matplotlib.pyplot as plt\n",
    "\n",
    "# Criando um dataset fictício\n",
    "data = {\n",
    "    \"tamanho_m2\": [50, 60, 80, 100, 150, 200, 250, 300, 350, 400],\n",
    "    \"n_quartos\": [2, 2, 3, 3, 4, 4, 5, 5, 6, 6],\n",
    "    \"preco_milhoes\": [0.2, 0.25, 0.35, 0.4, 0.6, 0.8, 1.0, 1.2, 1.4, 1.5]\n",
    "}\n",
    "\n",
    "# Convertendo para DataFrame\n",
    "df = pd.DataFrame(data)\n"
   ]
  },
  {
   "cell_type": "code",
   "execution_count": 27,
   "id": "27cfb899",
   "metadata": {},
   "outputs": [
    {
     "data": {
      "text/html": [
       "<div>\n",
       "<style scoped>\n",
       "    .dataframe tbody tr th:only-of-type {\n",
       "        vertical-align: middle;\n",
       "    }\n",
       "\n",
       "    .dataframe tbody tr th {\n",
       "        vertical-align: top;\n",
       "    }\n",
       "\n",
       "    .dataframe thead th {\n",
       "        text-align: right;\n",
       "    }\n",
       "</style>\n",
       "<table border=\"1\" class=\"dataframe\">\n",
       "  <thead>\n",
       "    <tr style=\"text-align: right;\">\n",
       "      <th></th>\n",
       "      <th>tamanho_m2</th>\n",
       "      <th>n_quartos</th>\n",
       "      <th>preco_milhoes</th>\n",
       "    </tr>\n",
       "  </thead>\n",
       "  <tbody>\n",
       "    <tr>\n",
       "      <th>0</th>\n",
       "      <td>50</td>\n",
       "      <td>2</td>\n",
       "      <td>0.20</td>\n",
       "    </tr>\n",
       "    <tr>\n",
       "      <th>1</th>\n",
       "      <td>60</td>\n",
       "      <td>2</td>\n",
       "      <td>0.25</td>\n",
       "    </tr>\n",
       "    <tr>\n",
       "      <th>2</th>\n",
       "      <td>80</td>\n",
       "      <td>3</td>\n",
       "      <td>0.35</td>\n",
       "    </tr>\n",
       "    <tr>\n",
       "      <th>3</th>\n",
       "      <td>100</td>\n",
       "      <td>3</td>\n",
       "      <td>0.40</td>\n",
       "    </tr>\n",
       "    <tr>\n",
       "      <th>4</th>\n",
       "      <td>150</td>\n",
       "      <td>4</td>\n",
       "      <td>0.60</td>\n",
       "    </tr>\n",
       "    <tr>\n",
       "      <th>5</th>\n",
       "      <td>200</td>\n",
       "      <td>4</td>\n",
       "      <td>0.80</td>\n",
       "    </tr>\n",
       "    <tr>\n",
       "      <th>6</th>\n",
       "      <td>250</td>\n",
       "      <td>5</td>\n",
       "      <td>1.00</td>\n",
       "    </tr>\n",
       "    <tr>\n",
       "      <th>7</th>\n",
       "      <td>300</td>\n",
       "      <td>5</td>\n",
       "      <td>1.20</td>\n",
       "    </tr>\n",
       "    <tr>\n",
       "      <th>8</th>\n",
       "      <td>350</td>\n",
       "      <td>6</td>\n",
       "      <td>1.40</td>\n",
       "    </tr>\n",
       "    <tr>\n",
       "      <th>9</th>\n",
       "      <td>400</td>\n",
       "      <td>6</td>\n",
       "      <td>1.50</td>\n",
       "    </tr>\n",
       "  </tbody>\n",
       "</table>\n",
       "</div>"
      ],
      "text/plain": [
       "   tamanho_m2  n_quartos  preco_milhoes\n",
       "0          50          2           0.20\n",
       "1          60          2           0.25\n",
       "2          80          3           0.35\n",
       "3         100          3           0.40\n",
       "4         150          4           0.60\n",
       "5         200          4           0.80\n",
       "6         250          5           1.00\n",
       "7         300          5           1.20\n",
       "8         350          6           1.40\n",
       "9         400          6           1.50"
      ]
     },
     "execution_count": 27,
     "metadata": {},
     "output_type": "execute_result"
    }
   ],
   "source": [
    "df"
   ]
  },
  {
   "cell_type": "markdown",
   "id": "24c03dac",
   "metadata": {
    "id": "24c03dac"
   },
   "source": [
    "#### Explicação do Código"
   ]
  },
  {
   "cell_type": "markdown",
   "id": "ba682be4",
   "metadata": {
    "id": "ba682be4"
   },
   "source": [
    "1. **Dataset**:\n",
    "   - O dataset contém informações fictícias sobre casas com três colunas:\n",
    "     - **`tamanho_m2`**: Tamanho da casa em metros quadrados.\n",
    "     - **`n_quartos`**: Número de quartos na casa.\n",
    "     - **`preco_milhoes`**: Preço da casa em milhões de reais."
   ]
  },
  {
   "cell_type": "code",
   "execution_count": 29,
   "id": "da2ccca7",
   "metadata": {
    "id": "da2ccca7"
   },
   "outputs": [],
   "source": [
    "# Separando as variáveis independentes (X) e dependente (y)\n",
    "X = df[[\"tamanho_m2\", 'n_quartos']]\n",
    "y = df[\"preco_milhoes\"]\n",
    "\n",
    "# Dividindo os dados em treino e teste\n",
    "X_treino, X_teste, y_treino, y_teste = train_test_split(X, y, test_size=0.3, random_state=42)\n"
   ]
  },
  {
   "cell_type": "code",
   "execution_count": 30,
   "id": "03268d43",
   "metadata": {},
   "outputs": [
    {
     "data": {
      "text/plain": [
       "(1000, 1)"
      ]
     },
     "execution_count": 30,
     "metadata": {},
     "output_type": "execute_result"
    }
   ],
   "source": [
    "x = np.linspace(50, 400, 1000).reshape(-1,1)\n",
    "x.shape"
   ]
  },
  {
   "cell_type": "code",
   "execution_count": 31,
   "id": "34d28ef5",
   "metadata": {},
   "outputs": [
    {
     "data": {
      "text/plain": [
       "<matplotlib.collections.PathCollection at 0x7f0a942c1fa0>"
      ]
     },
     "execution_count": 31,
     "metadata": {},
     "output_type": "execute_result"
    },
    {
     "data": {
      "image/png": "[encoded data removed]",
      "text/plain": [
       "<Figure size 640x480 with 1 Axes>"
      ]
     },
     "metadata": {},
     "output_type": "display_data"
    }
   ],
   "source": [
    "plt.scatter(df['tamanho_m2'], df['n_quartos'])"
   ]
  },
  {
   "cell_type": "markdown",
   "id": "4294fd48",
   "metadata": {
    "id": "4294fd48"
   },
   "source": [
    "2. **Separação das Variáveis**:\n",
    "   - **`X`**: As variáveis independentes (características das casas: `tamanho_m2` e `n_quartos`).\n",
    "   - **`y`**: A variável dependente (o preço das casas, `preco_milhoes`).\n",
    "   \n",
    "\n",
    "3. **Divisão dos Dados**:\n",
    "   - Usamos `train_test_split` para dividir os dados em:\n",
    "     - **Conjunto de Treino** (70% dos dados): Usado para ajustar o modelo.\n",
    "     - **Conjunto de Teste** (30% dos dados): Usado para avaliar o desempenho do modelo.\n"
   ]
  },
  {
   "cell_type": "code",
   "execution_count": 45,
   "id": "5dea9bb1",
   "metadata": {
    "id": "5dea9bb1",
    "outputId": "c07caa94-e3d3-45cf-c643-a6c09de146ff"
   },
   "outputs": [
    {
     "data": {
      "text/html": [
       "<style>#sk-container-id-4 {\n",
       "  /* Definition of color scheme common for light and dark mode */\n",
       "  --sklearn-color-text: #000;\n",
       "  --sklearn-color-text-muted: #666;\n",
       "  --sklearn-color-line: gray;\n",
       "  /* Definition of color scheme for unfitted estimators */\n",
       "  --sklearn-color-unfitted-level-0: #fff5e6;\n",
       "  --sklearn-color-unfitted-level-1: #f6e4d2;\n",
       "  --sklearn-color-unfitted-level-2: #ffe0b3;\n",
       "  --sklearn-color-unfitted-level-3: chocolate;\n",
       "  /* Definition of color scheme for fitted estimators */\n",
       "  --sklearn-color-fitted-level-0: #f0f8ff;\n",
       "  --sklearn-color-fitted-level-1: #d4ebff;\n",
       "  --sklearn-color-fitted-level-2: #b3dbfd;\n",
       "  --sklearn-color-fitted-level-3: cornflowerblue;\n",
       "\n",
       "  /* Specific color for light theme */\n",
       "  --sklearn-color-text-on-default-background: var(--sg-text-color, var(--theme-code-foreground, var(--jp-content-font-color1, black)));\n",
       "  --sklearn-color-background: var(--sg-background-color, var(--theme-background, var(--jp-layout-color0, white)));\n",
       "  --sklearn-color-border-box: var(--sg-text-color, var(--theme-code-foreground, var(--jp-content-font-color1, black)));\n",
       "  --sklearn-color-icon: #696969;\n",
       "\n",
       "  @media (prefers-color-scheme: dark) {\n",
       "    /* Redefinition of color scheme for dark theme */\n",
       "    --sklearn-color-text-on-default-background: var(--sg-text-color, var(--theme-code-foreground, var(--jp-content-font-color1, white)));\n",
       "    --sklearn-color-background: var(--sg-background-color, var(--theme-background, var(--jp-layout-color0, #111)));\n",
       "    --sklearn-color-border-box: var(--sg-text-color, var(--theme-code-foreground, var(--jp-content-font-color1, white)));\n",
       "    --sklearn-color-icon: #878787;\n",
       "  }\n",
       "}\n",
       "\n",
       "#sk-container-id-4 {\n",
       "  color: var(--sklearn-color-text);\n",
       "}\n",
       "\n",
       "#sk-container-id-4 pre {\n",
       "  padding: 0;\n",
       "}\n",
       "\n",
       "#sk-container-id-4 input.sk-hidden--visually {\n",
       "  border: 0;\n",
       "  clip: rect(1px 1px 1px 1px);\n",
       "  clip: rect(1px, 1px, 1px, 1px);\n",
       "  height: 1px;\n",
       "  margin: -1px;\n",
       "  overflow: hidden;\n",
       "  padding: 0;\n",
       "  position: absolute;\n",
       "  width: 1px;\n",
       "}\n",
       "\n",
       "#sk-container-id-4 div.sk-dashed-wrapped {\n",
       "  border: 1px dashed var(--sklearn-color-line);\n",
       "  margin: 0 0.4em 0.5em 0.4em;\n",
       "  box-sizing: border-box;\n",
       "  padding-bottom: 0.4em;\n",
       "  background-color: var(--sklearn-color-background);\n",
       "}\n",
       "\n",
       "#sk-container-id-4 div.sk-container {\n",
       "  /* jupyter's `normalize.less` sets `[hidden] { display: none; }`\n",
       "     but bootstrap.min.css set `[hidden] { display: none !important; }`\n",
       "     so we also need the `!important` here to be able to override the\n",
       "     default hidden behavior on the sphinx rendered scikit-learn.org.\n",
       "     See: https://github.com/scikit-learn/scikit-learn/issues/21755 */\n",
       "  display: inline-block !important;\n",
       "  position: relative;\n",
       "}\n",
       "\n",
       "#sk-container-id-4 div.sk-text-repr-fallback {\n",
       "  display: none;\n",
       "}\n",
       "\n",
       "div.sk-parallel-item,\n",
       "div.sk-serial,\n",
       "div.sk-item {\n",
       "  /* draw centered vertical line to link estimators */\n",
       "  background-image: linear-gradient(var(--sklearn-color-text-on-default-background), var(--sklearn-color-text-on-default-background));\n",
       "  background-size: 2px 100%;\n",
       "  background-repeat: no-repeat;\n",
       "  background-position: center center;\n",
       "}\n",
       "\n",
       "/* Parallel-specific style estimator block */\n",
       "\n",
       "#sk-container-id-4 div.sk-parallel-item::after {\n",
       "  content: \"\";\n",
       "  width: 100%;\n",
       "  border-bottom: 2px solid var(--sklearn-color-text-on-default-background);\n",
       "  flex-grow: 1;\n",
       "}\n",
       "\n",
       "#sk-container-id-4 div.sk-parallel {\n",
       "  display: flex;\n",
       "  align-items: stretch;\n",
       "  justify-content: center;\n",
       "  background-color: var(--sklearn-color-background);\n",
       "  position: relative;\n",
       "}\n",
       "\n",
       "#sk-container-id-4 div.sk-parallel-item {\n",
       "  display: flex;\n",
       "  flex-direction: column;\n",
       "}\n",
       "\n",
       "#sk-container-id-4 div.sk-parallel-item:first-child::after {\n",
       "  align-self: flex-end;\n",
       "  width: 50%;\n",
       "}\n",
       "\n",
       "#sk-container-id-4 div.sk-parallel-item:last-child::after {\n",
       "  align-self: flex-start;\n",
       "  width: 50%;\n",
       "}\n",
       "\n",
       "#sk-container-id-4 div.sk-parallel-item:only-child::after {\n",
       "  width: 0;\n",
       "}\n",
       "\n",
       "/* Serial-specific style estimator block */\n",
       "\n",
       "#sk-container-id-4 div.sk-serial {\n",
       "  display: flex;\n",
       "  flex-direction: column;\n",
       "  align-items: center;\n",
       "  background-color: var(--sklearn-color-background);\n",
       "  padding-right: 1em;\n",
       "  padding-left: 1em;\n",
       "}\n",
       "\n",
       "\n",
       "/* Toggleable style: style used for estimator/Pipeline/ColumnTransformer box that is\n",
       "clickable and can be expanded/collapsed.\n",
       "- Pipeline and ColumnTransformer use this feature and define the default style\n",
       "- Estimators will overwrite some part of the style using the `sk-estimator` class\n",
       "*/\n",
       "\n",
       "/* Pipeline and ColumnTransformer style (default) */\n",
       "\n",
       "#sk-container-id-4 div.sk-toggleable {\n",
       "  /* Default theme specific background. It is overwritten whether we have a\n",
       "  specific estimator or a Pipeline/ColumnTransformer */\n",
       "  background-color: var(--sklearn-color-background);\n",
       "}\n",
       "\n",
       "/* Toggleable label */\n",
       "#sk-container-id-4 label.sk-toggleable__label {\n",
       "  cursor: pointer;\n",
       "  display: flex;\n",
       "  width: 100%;\n",
       "  margin-bottom: 0;\n",
       "  padding: 0.5em;\n",
       "  box-sizing: border-box;\n",
       "  text-align: center;\n",
       "  align-items: start;\n",
       "  justify-content: space-between;\n",
       "  gap: 0.5em;\n",
       "}\n",
       "\n",
       "#sk-container-id-4 label.sk-toggleable__label .caption {\n",
       "  font-size: 0.6rem;\n",
       "  font-weight: lighter;\n",
       "  color: var(--sklearn-color-text-muted);\n",
       "}\n",
       "\n",
       "#sk-container-id-4 label.sk-toggleable__label-arrow:before {\n",
       "  /* Arrow on the left of the label */\n",
       "  content: \"▸\";\n",
       "  float: left;\n",
       "  margin-right: 0.25em;\n",
       "  color: var(--sklearn-color-icon);\n",
       "}\n",
       "\n",
       "#sk-container-id-4 label.sk-toggleable__label-arrow:hover:before {\n",
       "  color: var(--sklearn-color-text);\n",
       "}\n",
       "\n",
       "/* Toggleable content - dropdown */\n",
       "\n",
       "#sk-container-id-4 div.sk-toggleable__content {\n",
       "  max-height: 0;\n",
       "  max-width: 0;\n",
       "  overflow: hidden;\n",
       "  text-align: left;\n",
       "  /* unfitted */\n",
       "  background-color: var(--sklearn-color-unfitted-level-0);\n",
       "}\n",
       "\n",
       "#sk-container-id-4 div.sk-toggleable__content.fitted {\n",
       "  /* fitted */\n",
       "  background-color: var(--sklearn-color-fitted-level-0);\n",
       "}\n",
       "\n",
       "#sk-container-id-4 div.sk-toggleable__content pre {\n",
       "  margin: 0.2em;\n",
       "  border-radius: 0.25em;\n",
       "  color: var(--sklearn-color-text);\n",
       "  /* unfitted */\n",
       "  background-color: var(--sklearn-color-unfitted-level-0);\n",
       "}\n",
       "\n",
       "#sk-container-id-4 div.sk-toggleable__content.fitted pre {\n",
       "  /* unfitted */\n",
       "  background-color: var(--sklearn-color-fitted-level-0);\n",
       "}\n",
       "\n",
       "#sk-container-id-4 input.sk-toggleable__control:checked~div.sk-toggleable__content {\n",
       "  /* Expand drop-down */\n",
       "  max-height: 200px;\n",
       "  max-width: 100%;\n",
       "  overflow: auto;\n",
       "}\n",
       "\n",
       "#sk-container-id-4 input.sk-toggleable__control:checked~label.sk-toggleable__label-arrow:before {\n",
       "  content: \"▾\";\n",
       "}\n",
       "\n",
       "/* Pipeline/ColumnTransformer-specific style */\n",
       "\n",
       "#sk-container-id-4 div.sk-label input.sk-toggleable__control:checked~label.sk-toggleable__label {\n",
       "  color: var(--sklearn-color-text);\n",
       "  background-color: var(--sklearn-color-unfitted-level-2);\n",
       "}\n",
       "\n",
       "#sk-container-id-4 div.sk-label.fitted input.sk-toggleable__control:checked~label.sk-toggleable__label {\n",
       "  background-color: var(--sklearn-color-fitted-level-2);\n",
       "}\n",
       "\n",
       "/* Estimator-specific style */\n",
       "\n",
       "/* Colorize estimator box */\n",
       "#sk-container-id-4 div.sk-estimator input.sk-toggleable__control:checked~label.sk-toggleable__label {\n",
       "  /* unfitted */\n",
       "  background-color: var(--sklearn-color-unfitted-level-2);\n",
       "}\n",
       "\n",
       "#sk-container-id-4 div.sk-estimator.fitted input.sk-toggleable__control:checked~label.sk-toggleable__label {\n",
       "  /* fitted */\n",
       "  background-color: var(--sklearn-color-fitted-level-2);\n",
       "}\n",
       "\n",
       "#sk-container-id-4 div.sk-label label.sk-toggleable__label,\n",
       "#sk-container-id-4 div.sk-label label {\n",
       "  /* The background is the default theme color */\n",
       "  color: var(--sklearn-color-text-on-default-background);\n",
       "}\n",
       "\n",
       "/* On hover, darken the color of the background */\n",
       "#sk-container-id-4 div.sk-label:hover label.sk-toggleable__label {\n",
       "  color: var(--sklearn-color-text);\n",
       "  background-color: var(--sklearn-color-unfitted-level-2);\n",
       "}\n",
       "\n",
       "/* Label box, darken color on hover, fitted */\n",
       "#sk-container-id-4 div.sk-label.fitted:hover label.sk-toggleable__label.fitted {\n",
       "  color: var(--sklearn-color-text);\n",
       "  background-color: var(--sklearn-color-fitted-level-2);\n",
       "}\n",
       "\n",
       "/* Estimator label */\n",
       "\n",
       "#sk-container-id-4 div.sk-label label {\n",
       "  font-family: monospace;\n",
       "  font-weight: bold;\n",
       "  display: inline-block;\n",
       "  line-height: 1.2em;\n",
       "}\n",
       "\n",
       "#sk-container-id-4 div.sk-label-container {\n",
       "  text-align: center;\n",
       "}\n",
       "\n",
       "/* Estimator-specific */\n",
       "#sk-container-id-4 div.sk-estimator {\n",
       "  font-family: monospace;\n",
       "  border: 1px dotted var(--sklearn-color-border-box);\n",
       "  border-radius: 0.25em;\n",
       "  box-sizing: border-box;\n",
       "  margin-bottom: 0.5em;\n",
       "  /* unfitted */\n",
       "  background-color: var(--sklearn-color-unfitted-level-0);\n",
       "}\n",
       "\n",
       "#sk-container-id-4 div.sk-estimator.fitted {\n",
       "  /* fitted */\n",
       "  background-color: var(--sklearn-color-fitted-level-0);\n",
       "}\n",
       "\n",
       "/* on hover */\n",
       "#sk-container-id-4 div.sk-estimator:hover {\n",
       "  /* unfitted */\n",
       "  background-color: var(--sklearn-color-unfitted-level-2);\n",
       "}\n",
       "\n",
       "#sk-container-id-4 div.sk-estimator.fitted:hover {\n",
       "  /* fitted */\n",
       "  background-color: var(--sklearn-color-fitted-level-2);\n",
       "}\n",
       "\n",
       "/* Specification for estimator info (e.g. \"i\" and \"?\") */\n",
       "\n",
       "/* Common style for \"i\" and \"?\" */\n",
       "\n",
       ".sk-estimator-doc-link,\n",
       "a:link.sk-estimator-doc-link,\n",
       "a:visited.sk-estimator-doc-link {\n",
       "  float: right;\n",
       "  font-size: smaller;\n",
       "  line-height: 1em;\n",
       "  font-family: monospace;\n",
       "  background-color: var(--sklearn-color-background);\n",
       "  border-radius: 1em;\n",
       "  height: 1em;\n",
       "  width: 1em;\n",
       "  text-decoration: none !important;\n",
       "  margin-left: 0.5em;\n",
       "  text-align: center;\n",
       "  /* unfitted */\n",
       "  border: var(--sklearn-color-unfitted-level-1) 1pt solid;\n",
       "  color: var(--sklearn-color-unfitted-level-1);\n",
       "}\n",
       "\n",
       ".sk-estimator-doc-link.fitted,\n",
       "a:link.sk-estimator-doc-link.fitted,\n",
       "a:visited.sk-estimator-doc-link.fitted {\n",
       "  /* fitted */\n",
       "  border: var(--sklearn-color-fitted-level-1) 1pt solid;\n",
       "  color: var(--sklearn-color-fitted-level-1);\n",
       "}\n",
       "\n",
       "/* On hover */\n",
       "div.sk-estimator:hover .sk-estimator-doc-link:hover,\n",
       ".sk-estimator-doc-link:hover,\n",
       "div.sk-label-container:hover .sk-estimator-doc-link:hover,\n",
       ".sk-estimator-doc-link:hover {\n",
       "  /* unfitted */\n",
       "  background-color: var(--sklearn-color-unfitted-level-3);\n",
       "  color: var(--sklearn-color-background);\n",
       "  text-decoration: none;\n",
       "}\n",
       "\n",
       "div.sk-estimator.fitted:hover .sk-estimator-doc-link.fitted:hover,\n",
       ".sk-estimator-doc-link.fitted:hover,\n",
       "div.sk-label-container:hover .sk-estimator-doc-link.fitted:hover,\n",
       ".sk-estimator-doc-link.fitted:hover {\n",
       "  /* fitted */\n",
       "  background-color: var(--sklearn-color-fitted-level-3);\n",
       "  color: var(--sklearn-color-background);\n",
       "  text-decoration: none;\n",
       "}\n",
       "\n",
       "/* Span, style for the box shown on hovering the info icon */\n",
       ".sk-estimator-doc-link span {\n",
       "  display: none;\n",
       "  z-index: 9999;\n",
       "  position: relative;\n",
       "  font-weight: normal;\n",
       "  right: .2ex;\n",
       "  padding: .5ex;\n",
       "  margin: .5ex;\n",
       "  width: min-content;\n",
       "  min-width: 20ex;\n",
       "  max-width: 50ex;\n",
       "  color: var(--sklearn-color-text);\n",
       "  box-shadow: 2pt 2pt 4pt #999;\n",
       "  /* unfitted */\n",
       "  background: var(--sklearn-color-unfitted-level-0);\n",
       "  border: .5pt solid var(--sklearn-color-unfitted-level-3);\n",
       "}\n",
       "\n",
       ".sk-estimator-doc-link.fitted span {\n",
       "  /* fitted */\n",
       "  background: var(--sklearn-color-fitted-level-0);\n",
       "  border: var(--sklearn-color-fitted-level-3);\n",
       "}\n",
       "\n",
       ".sk-estimator-doc-link:hover span {\n",
       "  display: block;\n",
       "}\n",
       "\n",
       "/* \"?\"-specific style due to the `<a>` HTML tag */\n",
       "\n",
       "#sk-container-id-4 a.estimator_doc_link {\n",
       "  float: right;\n",
       "  font-size: 1rem;\n",
       "  line-height: 1em;\n",
       "  font-family: monospace;\n",
       "  background-color: var(--sklearn-color-background);\n",
       "  border-radius: 1rem;\n",
       "  height: 1rem;\n",
       "  width: 1rem;\n",
       "  text-decoration: none;\n",
       "  /* unfitted */\n",
       "  color: var(--sklearn-color-unfitted-level-1);\n",
       "  border: var(--sklearn-color-unfitted-level-1) 1pt solid;\n",
       "}\n",
       "\n",
       "#sk-container-id-4 a.estimator_doc_link.fitted {\n",
       "  /* fitted */\n",
       "  border: var(--sklearn-color-fitted-level-1) 1pt solid;\n",
       "  color: var(--sklearn-color-fitted-level-1);\n",
       "}\n",
       "\n",
       "/* On hover */\n",
       "#sk-container-id-4 a.estimator_doc_link:hover {\n",
       "  /* unfitted */\n",
       "  background-color: var(--sklearn-color-unfitted-level-3);\n",
       "  color: var(--sklearn-color-background);\n",
       "  text-decoration: none;\n",
       "}\n",
       "\n",
       "#sk-container-id-4 a.estimator_doc_link.fitted:hover {\n",
       "  /* fitted */\n",
       "  background-color: var(--sklearn-color-fitted-level-3);\n",
       "}\n",
       "</style><div id=\"sk-container-id-4\" class=\"sk-top-container\"><div class=\"sk-text-repr-fallback\"><pre>LinearRegression()</pre><b>In a Jupyter environment, please rerun this cell to show the HTML representation or trust the notebook. <br />On GitHub, the HTML representation is unable to render, please try loading this page with nbviewer.org.</b></div><div class=\"sk-container\" hidden><div class=\"sk-item\"><div class=\"sk-estimator fitted sk-toggleable\"><input class=\"sk-toggleable__control sk-hidden--visually\" id=\"sk-estimator-id-4\" type=\"checkbox\" checked><label for=\"sk-estimator-id-4\" class=\"sk-toggleable__label fitted sk-toggleable__label-arrow\"><div><div>LinearRegression</div></div><div><a class=\"sk-estimator-doc-link fitted\" rel=\"noreferrer\" target=\"_blank\" href=\"https://scikit-learn.org/1.6/modules/generated/sklearn.linear_model.LinearRegression.html\">?<span>Documentation for LinearRegression</span></a><span class=\"sk-estimator-doc-link fitted\">i<span>Fitted</span></span></div></label><div class=\"sk-toggleable__content fitted\"><pre>LinearRegression()</pre></div> </div></div></div></div>"
      ],
      "text/plain": [
       "LinearRegression()"
      ]
     },
     "execution_count": 45,
     "metadata": {},
     "output_type": "execute_result"
    }
   ],
   "source": [
    "\n",
    "# Criando e treinando o modelo de regressão linear\n",
    "model = LinearRegression()\n",
    "model.fit(X_treino, y_treino)\n"
   ]
  },
  {
   "cell_type": "code",
   "execution_count": 54,
   "id": "487176dc",
   "metadata": {},
   "outputs": [
    {
     "data": {
      "text/html": [
       "<div>\n",
       "<style scoped>\n",
       "    .dataframe tbody tr th:only-of-type {\n",
       "        vertical-align: middle;\n",
       "    }\n",
       "\n",
       "    .dataframe tbody tr th {\n",
       "        vertical-align: top;\n",
       "    }\n",
       "\n",
       "    .dataframe thead th {\n",
       "        text-align: right;\n",
       "    }\n",
       "</style>\n",
       "<table border=\"1\" class=\"dataframe\">\n",
       "  <thead>\n",
       "    <tr style=\"text-align: right;\">\n",
       "      <th></th>\n",
       "      <th>0</th>\n",
       "      <th>1</th>\n",
       "    </tr>\n",
       "  </thead>\n",
       "  <tbody>\n",
       "    <tr>\n",
       "      <th>0</th>\n",
       "      <td>800</td>\n",
       "      <td>8</td>\n",
       "    </tr>\n",
       "  </tbody>\n",
       "</table>\n",
       "</div>"
      ],
      "text/plain": [
       "     0  1\n",
       "0  800  8"
      ]
     },
     "execution_count": 54,
     "metadata": {},
     "output_type": "execute_result"
    }
   ],
   "source": [
    "casa_mackena = pd.DataFrame(np.array([800,8]).reshape(-1,1)).T\n",
    "casa_mackena"
   ]
  },
  {
   "cell_type": "code",
   "execution_count": 55,
   "id": "ae66dc94",
   "metadata": {},
   "outputs": [
    {
     "name": "stderr",
     "output_type": "stream",
     "text": [
      "/home/hericson/anaconda3/envs/my_projects/lib/python3.9/site-packages/sklearn/utils/validation.py:2739: UserWarning: X does not have valid feature names, but LinearRegression was fitted with feature names\n",
      "  warnings.warn(\n"
     ]
    },
    {
     "data": {
      "text/plain": [
       "array([2.94748201])"
      ]
     },
     "execution_count": 55,
     "metadata": {},
     "output_type": "execute_result"
    }
   ],
   "source": [
    "y_pred = model.predict(casa_mackena)\n",
    "y_pred"
   ]
  },
  {
   "cell_type": "code",
   "execution_count": 56,
   "id": "c59b9b0f",
   "metadata": {},
   "outputs": [
    {
     "ename": "ValueError",
     "evalue": "x and y must have same first dimension, but have shapes (1000, 1) and (1,)",
     "output_type": "error",
     "traceback": [
      "\u001b[0;31m---------------------------------------------------------------------------\u001b[0m",
      "\u001b[0;31mValueError\u001b[0m                                Traceback (most recent call last)",
      "Cell \u001b[0;32mIn[56], line 2\u001b[0m\n\u001b[1;32m      1\u001b[0m plt\u001b[38;5;241m.\u001b[39mscatter(df[\u001b[38;5;124m'\u001b[39m\u001b[38;5;124mtamanho_m2\u001b[39m\u001b[38;5;124m'\u001b[39m], df[\u001b[38;5;124m'\u001b[39m\u001b[38;5;124mpreco_milhoes\u001b[39m\u001b[38;5;124m'\u001b[39m])\n\u001b[0;32m----> 2\u001b[0m \u001b[43mplt\u001b[49m\u001b[38;5;241;43m.\u001b[39;49m\u001b[43mplot\u001b[49m\u001b[43m(\u001b[49m\u001b[43mx\u001b[49m\u001b[43m,\u001b[49m\u001b[43m \u001b[49m\u001b[43my_pred\u001b[49m\u001b[43m,\u001b[49m\u001b[43m \u001b[49m\u001b[43mc\u001b[49m\u001b[38;5;241;43m=\u001b[39;49m\u001b[38;5;124;43m'\u001b[39;49m\u001b[38;5;124;43mr\u001b[39;49m\u001b[38;5;124;43m'\u001b[39;49m\u001b[43m)\u001b[49m\n",
      "File \u001b[0;32m~/anaconda3/envs/my_projects/lib/python3.9/site-packages/matplotlib/pyplot.py:2812\u001b[0m, in \u001b[0;36mplot\u001b[0;34m(scalex, scaley, data, *args, **kwargs)\u001b[0m\n\u001b[1;32m   2810\u001b[0m \u001b[38;5;129m@_copy_docstring_and_deprecators\u001b[39m(Axes\u001b[38;5;241m.\u001b[39mplot)\n\u001b[1;32m   2811\u001b[0m \u001b[38;5;28;01mdef\u001b[39;00m \u001b[38;5;21mplot\u001b[39m(\u001b[38;5;241m*\u001b[39margs, scalex\u001b[38;5;241m=\u001b[39m\u001b[38;5;28;01mTrue\u001b[39;00m, scaley\u001b[38;5;241m=\u001b[39m\u001b[38;5;28;01mTrue\u001b[39;00m, data\u001b[38;5;241m=\u001b[39m\u001b[38;5;28;01mNone\u001b[39;00m, \u001b[38;5;241m*\u001b[39m\u001b[38;5;241m*\u001b[39mkwargs):\n\u001b[0;32m-> 2812\u001b[0m     \u001b[38;5;28;01mreturn\u001b[39;00m \u001b[43mgca\u001b[49m\u001b[43m(\u001b[49m\u001b[43m)\u001b[49m\u001b[38;5;241;43m.\u001b[39;49m\u001b[43mplot\u001b[49m\u001b[43m(\u001b[49m\n\u001b[1;32m   2813\u001b[0m \u001b[43m        \u001b[49m\u001b[38;5;241;43m*\u001b[39;49m\u001b[43margs\u001b[49m\u001b[43m,\u001b[49m\u001b[43m \u001b[49m\u001b[43mscalex\u001b[49m\u001b[38;5;241;43m=\u001b[39;49m\u001b[43mscalex\u001b[49m\u001b[43m,\u001b[49m\u001b[43m \u001b[49m\u001b[43mscaley\u001b[49m\u001b[38;5;241;43m=\u001b[39;49m\u001b[43mscaley\u001b[49m\u001b[43m,\u001b[49m\n\u001b[1;32m   2814\u001b[0m \u001b[43m        \u001b[49m\u001b[38;5;241;43m*\u001b[39;49m\u001b[38;5;241;43m*\u001b[39;49m\u001b[43m(\u001b[49m\u001b[43m{\u001b[49m\u001b[38;5;124;43m\"\u001b[39;49m\u001b[38;5;124;43mdata\u001b[39;49m\u001b[38;5;124;43m\"\u001b[39;49m\u001b[43m:\u001b[49m\u001b[43m \u001b[49m\u001b[43mdata\u001b[49m\u001b[43m}\u001b[49m\u001b[43m \u001b[49m\u001b[38;5;28;43;01mif\u001b[39;49;00m\u001b[43m \u001b[49m\u001b[43mdata\u001b[49m\u001b[43m \u001b[49m\u001b[38;5;129;43;01mis\u001b[39;49;00m\u001b[43m \u001b[49m\u001b[38;5;129;43;01mnot\u001b[39;49;00m\u001b[43m \u001b[49m\u001b[38;5;28;43;01mNone\u001b[39;49;00m\u001b[43m \u001b[49m\u001b[38;5;28;43;01melse\u001b[39;49;00m\u001b[43m \u001b[49m\u001b[43m{\u001b[49m\u001b[43m}\u001b[49m\u001b[43m)\u001b[49m\u001b[43m,\u001b[49m\u001b[43m \u001b[49m\u001b[38;5;241;43m*\u001b[39;49m\u001b[38;5;241;43m*\u001b[39;49m\u001b[43mkwargs\u001b[49m\u001b[43m)\u001b[49m\n",
      "File \u001b[0;32m~/anaconda3/envs/my_projects/lib/python3.9/site-packages/matplotlib/axes/_axes.py:1688\u001b[0m, in \u001b[0;36mAxes.plot\u001b[0;34m(self, scalex, scaley, data, *args, **kwargs)\u001b[0m\n\u001b[1;32m   1445\u001b[0m \u001b[38;5;250m\u001b[39m\u001b[38;5;124;03m\"\"\"\u001b[39;00m\n\u001b[1;32m   1446\u001b[0m \u001b[38;5;124;03mPlot y versus x as lines and/or markers.\u001b[39;00m\n\u001b[1;32m   1447\u001b[0m \n\u001b[0;32m   (...)\u001b[0m\n\u001b[1;32m   1685\u001b[0m \u001b[38;5;124;03m(``'green'``) or hex strings (``'#008000'``).\u001b[39;00m\n\u001b[1;32m   1686\u001b[0m \u001b[38;5;124;03m\"\"\"\u001b[39;00m\n\u001b[1;32m   1687\u001b[0m kwargs \u001b[38;5;241m=\u001b[39m cbook\u001b[38;5;241m.\u001b[39mnormalize_kwargs(kwargs, mlines\u001b[38;5;241m.\u001b[39mLine2D)\n\u001b[0;32m-> 1688\u001b[0m lines \u001b[38;5;241m=\u001b[39m [\u001b[38;5;241m*\u001b[39m\u001b[38;5;28mself\u001b[39m\u001b[38;5;241m.\u001b[39m_get_lines(\u001b[38;5;241m*\u001b[39margs, data\u001b[38;5;241m=\u001b[39mdata, \u001b[38;5;241m*\u001b[39m\u001b[38;5;241m*\u001b[39mkwargs)]\n\u001b[1;32m   1689\u001b[0m \u001b[38;5;28;01mfor\u001b[39;00m line \u001b[38;5;129;01min\u001b[39;00m lines:\n\u001b[1;32m   1690\u001b[0m     \u001b[38;5;28mself\u001b[39m\u001b[38;5;241m.\u001b[39madd_line(line)\n",
      "File \u001b[0;32m~/anaconda3/envs/my_projects/lib/python3.9/site-packages/matplotlib/axes/_base.py:311\u001b[0m, in \u001b[0;36m_process_plot_var_args.__call__\u001b[0;34m(self, data, *args, **kwargs)\u001b[0m\n\u001b[1;32m    309\u001b[0m     this \u001b[38;5;241m+\u001b[39m\u001b[38;5;241m=\u001b[39m args[\u001b[38;5;241m0\u001b[39m],\n\u001b[1;32m    310\u001b[0m     args \u001b[38;5;241m=\u001b[39m args[\u001b[38;5;241m1\u001b[39m:]\n\u001b[0;32m--> 311\u001b[0m \u001b[38;5;28;01myield from\u001b[39;00m \u001b[38;5;28;43mself\u001b[39;49m\u001b[38;5;241;43m.\u001b[39;49m\u001b[43m_plot_args\u001b[49m\u001b[43m(\u001b[49m\n\u001b[1;32m    312\u001b[0m \u001b[43m    \u001b[49m\u001b[43mthis\u001b[49m\u001b[43m,\u001b[49m\u001b[43m \u001b[49m\u001b[43mkwargs\u001b[49m\u001b[43m,\u001b[49m\u001b[43m \u001b[49m\u001b[43mambiguous_fmt_datakey\u001b[49m\u001b[38;5;241;43m=\u001b[39;49m\u001b[43mambiguous_fmt_datakey\u001b[49m\u001b[43m)\u001b[49m\n",
      "File \u001b[0;32m~/anaconda3/envs/my_projects/lib/python3.9/site-packages/matplotlib/axes/_base.py:504\u001b[0m, in \u001b[0;36m_process_plot_var_args._plot_args\u001b[0;34m(self, tup, kwargs, return_kwargs, ambiguous_fmt_datakey)\u001b[0m\n\u001b[1;32m    501\u001b[0m     \u001b[38;5;28mself\u001b[39m\u001b[38;5;241m.\u001b[39maxes\u001b[38;5;241m.\u001b[39myaxis\u001b[38;5;241m.\u001b[39mupdate_units(y)\n\u001b[1;32m    503\u001b[0m \u001b[38;5;28;01mif\u001b[39;00m x\u001b[38;5;241m.\u001b[39mshape[\u001b[38;5;241m0\u001b[39m] \u001b[38;5;241m!=\u001b[39m y\u001b[38;5;241m.\u001b[39mshape[\u001b[38;5;241m0\u001b[39m]:\n\u001b[0;32m--> 504\u001b[0m     \u001b[38;5;28;01mraise\u001b[39;00m \u001b[38;5;167;01mValueError\u001b[39;00m(\u001b[38;5;124mf\u001b[39m\u001b[38;5;124m\"\u001b[39m\u001b[38;5;124mx and y must have same first dimension, but \u001b[39m\u001b[38;5;124m\"\u001b[39m\n\u001b[1;32m    505\u001b[0m                      \u001b[38;5;124mf\u001b[39m\u001b[38;5;124m\"\u001b[39m\u001b[38;5;124mhave shapes \u001b[39m\u001b[38;5;132;01m{\u001b[39;00mx\u001b[38;5;241m.\u001b[39mshape\u001b[38;5;132;01m}\u001b[39;00m\u001b[38;5;124m and \u001b[39m\u001b[38;5;132;01m{\u001b[39;00my\u001b[38;5;241m.\u001b[39mshape\u001b[38;5;132;01m}\u001b[39;00m\u001b[38;5;124m\"\u001b[39m)\n\u001b[1;32m    506\u001b[0m \u001b[38;5;28;01mif\u001b[39;00m x\u001b[38;5;241m.\u001b[39mndim \u001b[38;5;241m>\u001b[39m \u001b[38;5;241m2\u001b[39m \u001b[38;5;129;01mor\u001b[39;00m y\u001b[38;5;241m.\u001b[39mndim \u001b[38;5;241m>\u001b[39m \u001b[38;5;241m2\u001b[39m:\n\u001b[1;32m    507\u001b[0m     \u001b[38;5;28;01mraise\u001b[39;00m \u001b[38;5;167;01mValueError\u001b[39;00m(\u001b[38;5;124mf\u001b[39m\u001b[38;5;124m\"\u001b[39m\u001b[38;5;124mx and y can be no greater than 2D, but have \u001b[39m\u001b[38;5;124m\"\u001b[39m\n\u001b[1;32m    508\u001b[0m                      \u001b[38;5;124mf\u001b[39m\u001b[38;5;124m\"\u001b[39m\u001b[38;5;124mshapes \u001b[39m\u001b[38;5;132;01m{\u001b[39;00mx\u001b[38;5;241m.\u001b[39mshape\u001b[38;5;132;01m}\u001b[39;00m\u001b[38;5;124m and \u001b[39m\u001b[38;5;132;01m{\u001b[39;00my\u001b[38;5;241m.\u001b[39mshape\u001b[38;5;132;01m}\u001b[39;00m\u001b[38;5;124m\"\u001b[39m)\n",
      "\u001b[0;31mValueError\u001b[0m: x and y must have same first dimension, but have shapes (1000, 1) and (1,)"
     ]
    },
    {
     "data": {
      "image/png": "[encoded data removed]",
      "text/plain": [
       "<Figure size 640x480 with 1 Axes>"
      ]
     },
     "metadata": {},
     "output_type": "display_data"
    }
   ],
   "source": [
    "plt.scatter(df['tamanho_m2'], df['preco_milhoes'])\n",
    "plt.plot(x, y_pred, c='r')"
   ]
  },
  {
   "cell_type": "code",
   "execution_count": 73,
   "id": "907dd367",
   "metadata": {},
   "outputs": [
    {
     "name": "stderr",
     "output_type": "stream",
     "text": [
      "/home/hericson/anaconda3/envs/my_projects/lib/python3.9/site-packages/sklearn/base.py:439: UserWarning: X does not have valid feature names, but LinearRegression was fitted with feature names\n",
      "  warnings.warn(\n"
     ]
    },
    {
     "data": {
      "text/plain": [
       "array([2.29155138])"
      ]
     },
     "execution_count": 73,
     "metadata": {},
     "output_type": "execute_result"
    }
   ],
   "source": [
    "imovel = np.array([600]).reshape(-1,1)\n",
    "y_pred = model.predict(imovel)\n",
    "y_pred"
   ]
  },
  {
   "cell_type": "markdown",
   "id": "eae63e3d",
   "metadata": {
    "id": "eae63e3d"
   },
   "source": [
    "4. **Criação e Treinamento do Modelo**:\n",
    "   - O modelo de regressão linear é criado com a classe `LinearRegression` e treinado com o método `fit` usando os dados de treino (`X_treino` e `y_treino`)."
   ]
  },
  {
   "cell_type": "markdown",
   "id": "034f1ebf",
   "metadata": {},
   "source": [
    "Dados: número de quartos e área, quero saber o preço"
   ]
  },
  {
   "cell_type": "code",
   "execution_count": 58,
   "id": "3351c3cb",
   "metadata": {
    "id": "3351c3cb",
    "outputId": "aaaf7372-8b08-47f7-cfb5-8453d5a4aada"
   },
   "outputs": [
    {
     "name": "stdout",
     "output_type": "stream",
     "text": [
      "Erro Quadrático Médio (MSE): 0.000590290357641948\n",
      "Coeficiente de Determinação (R²): 0.9973236205446965\n",
      "Coeficientes: [0.00334532 0.03920863]\n",
      "Intercepto: -0.04244604316546785\n"
     ]
    },
    {
     "data": {
      "image/png": "[encoded data removed]",
      "text/plain": [
       "<Figure size 640x480 with 1 Axes>"
      ]
     },
     "metadata": {},
     "output_type": "display_data"
    }
   ],
   "source": [
    "# Fazendo previsões\n",
    "y_pred = model.predict(X_teste)\n",
    "\n",
    "# Avaliando o modelo\n",
    "mse = mean_squared_error(y_teste, y_pred)\n",
    "r2 = r2_score(y_teste, y_pred)\n",
    "\n",
    "print(\"Erro Quadrático Médio (MSE):\", mse)\n",
    "print(\"Coeficiente de Determinação (R²):\", r2)\n",
    "\n",
    "# Coeficientes do modelo\n",
    "print(\"Coeficientes:\", model.coef_)\n",
    "print(\"Intercepto:\", model.intercept_)\n",
    "\n",
    "# Plotando a relação entre preços reais e previstos\n",
    "plt.scatter(y_teste, y_pred)\n",
    "plt.xlabel(\"Valores Reais (milhões)\")\n",
    "plt.ylabel(\"Valores Previstos (milhões)\")\n",
    "plt.title(\"Preços Reais vs Previstos\")\n",
    "plt.show()"
   ]
  },
  {
   "cell_type": "markdown",
   "id": "112ab3e9",
   "metadata": {
    "id": "112ab3e9"
   },
   "source": [
    "5. **Fazendo Previsões**:\n",
    "   - O método `predict` prevê os preços das casas no conjunto de teste (`X_teste`).\n",
    "   \n",
    "\n",
    "6. **Avaliação do Modelo**:\n",
    "   \n",
    "   - **Erro Quadrático Médio (MSE)**:\n",
    "     - Mede o erro médio das previsões feitas pelo modelo.\n",
    "     - Quanto menor o valor, melhor é o desempenho do modelo.\n",
    "   \n",
    "   - **Coeficiente de Determinação (R²)**:\n",
    "     - Indica a proporção da variância na variável dependente que é explicada pelas variáveis independentes.\n",
    "     - Um valor próximo de 1 indica que o modelo explica bem os dados.\n",
    "     \n",
    "\n",
    "7. **Coeficientes do Modelo**:\n",
    "   - Os **coeficientes** representam o peso de cada variável independente no modelo.\n",
    "   - O **intercepto** é o valor previsto quando todas as variáveis independentes são iguais a zero.\n",
    "   \n",
    "\n",
    "8. **Visualização**:\n",
    "   - O gráfico compara os preços reais (`y_teste`) com os preços previstos (`y_pred`).\n",
    "   - Uma boa previsão deve resultar em pontos próximos de uma linha diagonal.\n",
    "\n",
    "---\n",
    "\n",
    "### Resultado Esperado\n",
    "\n",
    "1. **Saída no Console**:\n",
    "   - **Erro Quadrático Médio (MSE)**: Um valor baixo, indicando boas previsões.\n",
    "   - **Coeficiente de Determinação (R²)**: Um valor próximo de 1, indicando boa explicação da variância.\n",
    "   - **Coeficientes e Intercepto**:\n",
    "     - Coeficientes mostram a influência de cada variável independente no preço.\n",
    "     - Intercepto indica o preço base sem nenhuma influência das variáveis.\n",
    "\n",
    "\n",
    "2. **Gráfico**:\n",
    "   - O gráfico deve mostrar uma relação linear entre os preços reais e previstos.\n",
    "   - Os pontos estarão próximos de uma linha diagonal se o modelo for preciso."
   ]
  },
  {
   "cell_type": "code",
   "execution_count": 59,
   "id": "aee44bc8",
   "metadata": {
    "id": "aee44bc8",
    "outputId": "10a8b31d-47ec-40ad-da9b-c5d62ae085e4",
    "scrolled": true
   },
   "outputs": [
    {
     "name": "stdout",
     "output_type": "stream",
     "text": [
      "Qual o valor de uma casa com 60m2 e 3 quartos?\n",
      "Valor previsto:  [275.89928058]\n"
     ]
    },
    {
     "name": "stderr",
     "output_type": "stream",
     "text": [
      "/home/hericson/anaconda3/envs/my_projects/lib/python3.9/site-packages/sklearn/utils/validation.py:2739: UserWarning: X does not have valid feature names, but LinearRegression was fitted with feature names\n",
      "  warnings.warn(\n"
     ]
    }
   ],
   "source": [
    "# Usando o modelo desenvolvido\n",
    "\n",
    "print(\"Qual o valor de uma casa com 60m2 e 3 quartos?\")\n",
    "valor = model.predict([[60,3]])\n",
    "print(\"Valor previsto: \", valor*1000)"
   ]
  },
  {
   "cell_type": "markdown",
   "id": "2feddb12",
   "metadata": {
    "id": "2feddb12"
   },
   "source": [
    "---"
   ]
  },
  {
   "cell_type": "markdown",
   "id": "62db2596",
   "metadata": {
    "id": "62db2596"
   },
   "source": [
    "### 3. Clusterização/Agrupamento"
   ]
  },
  {
   "cell_type": "markdown",
   "id": "5fb10011",
   "metadata": {
    "id": "5fb10011"
   },
   "source": [
    "Problema: Uma empresa deseja segmentar seus clientes com base em dados de comportamento de compra, como gastos anuais e frequência de visitas à loja. O objetivo é agrupar os clientes em segmentos (clusters) que compartilhem características semelhantes, para criar campanhas de marketing personalizadas."
   ]
  },
  {
   "cell_type": "markdown",
   "id": "6596ac25",
   "metadata": {
    "id": "6596ac25"
   },
   "source": [
    "Solução com Clusterização (K-Means)\n",
    "Vamos usar o algoritmo K-Means para agrupar os clientes em diferentes clusters com base em seus padrões de comportamento.\n",
    "\n",
    "Roteiro do exemplo:\n",
    "\n",
    "- Importação de dados simulados.\n",
    "- Pré-processamento e visualização dos dados.\n",
    "- Aplicação do algoritmo K-Means.\n",
    "- Visualização dos clusters formados."
   ]
  },
  {
   "cell_type": "code",
   "execution_count": 61,
   "id": "92efe95b",
   "metadata": {
    "id": "92efe95b"
   },
   "outputs": [
    {
     "data": {
      "text/html": [
       "<div>\n",
       "<style scoped>\n",
       "    .dataframe tbody tr th:only-of-type {\n",
       "        vertical-align: middle;\n",
       "    }\n",
       "\n",
       "    .dataframe tbody tr th {\n",
       "        vertical-align: top;\n",
       "    }\n",
       "\n",
       "    .dataframe thead th {\n",
       "        text-align: right;\n",
       "    }\n",
       "</style>\n",
       "<table border=\"1\" class=\"dataframe\">\n",
       "  <thead>\n",
       "    <tr style=\"text-align: right;\">\n",
       "      <th></th>\n",
       "      <th>Annual_Spending</th>\n",
       "      <th>Visit_Frequency</th>\n",
       "    </tr>\n",
       "  </thead>\n",
       "  <tbody>\n",
       "    <tr>\n",
       "      <th>0</th>\n",
       "      <td>2934.510773</td>\n",
       "      <td>32.459551</td>\n",
       "    </tr>\n",
       "    <tr>\n",
       "      <th>1</th>\n",
       "      <td>6679.642992</td>\n",
       "      <td>5.122858</td>\n",
       "    </tr>\n",
       "    <tr>\n",
       "      <th>2</th>\n",
       "      <td>5257.960622</td>\n",
       "      <td>8.919807</td>\n",
       "    </tr>\n",
       "    <tr>\n",
       "      <th>3</th>\n",
       "      <td>4391.280147</td>\n",
       "      <td>45.029155</td>\n",
       "    </tr>\n",
       "    <tr>\n",
       "      <th>4</th>\n",
       "      <td>1514.121163</td>\n",
       "      <td>30.715024</td>\n",
       "    </tr>\n",
       "    <tr>\n",
       "      <th>...</th>\n",
       "      <td>...</td>\n",
       "      <td>...</td>\n",
       "    </tr>\n",
       "    <tr>\n",
       "      <th>195</th>\n",
       "      <td>2769.862235</td>\n",
       "      <td>46.607109</td>\n",
       "    </tr>\n",
       "    <tr>\n",
       "      <th>196</th>\n",
       "      <td>5218.711913</td>\n",
       "      <td>43.062225</td>\n",
       "    </tr>\n",
       "    <tr>\n",
       "      <th>197</th>\n",
       "      <td>6331.216690</td>\n",
       "      <td>22.020707</td>\n",
       "    </tr>\n",
       "    <tr>\n",
       "      <th>198</th>\n",
       "      <td>6266.061758</td>\n",
       "      <td>37.792682</td>\n",
       "    </tr>\n",
       "    <tr>\n",
       "      <th>199</th>\n",
       "      <td>5569.191048</td>\n",
       "      <td>37.972601</td>\n",
       "    </tr>\n",
       "  </tbody>\n",
       "</table>\n",
       "<p>200 rows × 2 columns</p>\n",
       "</div>"
      ],
      "text/plain": [
       "     Annual_Spending  Visit_Frequency\n",
       "0        2934.510773        32.459551\n",
       "1        6679.642992         5.122858\n",
       "2        5257.960622         8.919807\n",
       "3        4391.280147        45.029155\n",
       "4        1514.121163        30.715024\n",
       "..               ...              ...\n",
       "195      2769.862235        46.607109\n",
       "196      5218.711913        43.062225\n",
       "197      6331.216690        22.020707\n",
       "198      6266.061758        37.792682\n",
       "199      5569.191048        37.972601\n",
       "\n",
       "[200 rows x 2 columns]"
      ]
     },
     "execution_count": 61,
     "metadata": {},
     "output_type": "execute_result"
    }
   ],
   "source": [
    "import numpy as np\n",
    "import pandas as pd\n",
    "import matplotlib.pyplot as plt\n",
    "from sklearn.cluster import KMeans\n",
    "from sklearn.preprocessing import StandardScaler\n",
    "\n",
    "# 1. Simulação de Dados de Clientes\n",
    "# Criando um DataFrame com gastos anuais e frequência de visitas\n",
    "np.random.seed(42)\n",
    "data = {\n",
    "    'Annual_Spending': np.random.uniform(500, 7000, 200),  # Gastos anuais (em $)\n",
    "    'Visit_Frequency': np.random.uniform(1, 50, 200)       # Frequência de visitas (número de visitas por ano)\n",
    "}\n",
    "df = pd.DataFrame(data)\n",
    "df"
   ]
  },
  {
   "cell_type": "markdown",
   "id": "28baa7c0",
   "metadata": {
    "id": "28baa7c0"
   },
   "source": [
    "### Explicação do Código\n",
    "\n",
    "### 1. Simulação de Dados de Clientes\n",
    "\n",
    "- **Objetivo**: Criar um conjunto de dados fictícios para representar informações de clientes.\n",
    "- **Uso de `numpy.random.uniform`**:\n",
    "  - `Annual_Spending`: Geração de valores aleatórios uniformemente distribuídos entre 500 e 7000, representando os gastos anuais dos clientes em dólares.\n",
    "  - `Visit_Frequency`: Geração de valores aleatórios uniformemente distribuídos entre 1 e 50, representando a frequência de visitas por ano.\n",
    "- **Seed Aleatória**:\n",
    "  - `np.random.seed(42)` é utilizado para garantir a reprodutibilidade dos valores gerados.\n",
    "- **DataFrame**:\n",
    "  - Os dados gerados são organizados em um DataFrame do pandas, que facilita manipulações e análises posteriores.\n"
   ]
  },
  {
   "cell_type": "code",
   "execution_count": 62,
   "id": "d20d1426",
   "metadata": {
    "id": "d20d1426"
   },
   "outputs": [],
   "source": [
    "# 2. Pré-processamento dos Dados\n",
    "scaler = StandardScaler()\n",
    "scaled_data = scaler.fit_transform(df)\n"
   ]
  },
  {
   "cell_type": "markdown",
   "id": "283b22d0",
   "metadata": {
    "id": "283b22d0"
   },
   "source": [
    "### 2. Pré-processamento dos Dados\n",
    "\n",
    "- **Objetivo**: Normalizar os dados para que as variáveis tenham a mesma escala e influência no processo de clusterização.\n",
    "- **Uso do `StandardScaler`**:\n",
    "  - Transforma os dados para que tenham média 0 e desvio padrão 1.\n",
    "  - Isso é importante porque o algoritmo de K-Means é sensível a escalas diferentes entre as variáveis.\n",
    "- **Métodos**:\n",
    "  - `fit_transform(df)`: Calcula os parâmetros de escalonamento (média e desvio padrão) e aplica a transformação aos dados do DataFrame.\n",
    "- **Resultado**:\n",
    "  - Os dados normalizados são armazenados na variável `scaled_data`, prontos para serem usados no algoritmo de clusterização.\n"
   ]
  },
  {
   "cell_type": "code",
   "execution_count": 63,
   "id": "36822497",
   "metadata": {
    "id": "36822497"
   },
   "outputs": [],
   "source": [
    "# 3. Aplicação do K-Means\n",
    "# Escolhendo o número de clusters (k=3 neste exemplo)\n",
    "kmeans = KMeans(n_clusters=3, random_state=42)\n",
    "df['Cluster'] = kmeans.fit_predict(scaled_data)"
   ]
  },
  {
   "cell_type": "markdown",
   "id": "9dba63f5",
   "metadata": {
    "id": "9dba63f5"
   },
   "source": [
    "### 3. Aplicação do K-Means\n",
    "\n",
    "- **Objetivo**: Aplicar o algoritmo de K-Means para agrupar os clientes em clusters com base em suas características.\n",
    "- **Definição do Número de Clusters (k)**:\n",
    "  - `n_clusters=3`: Define o número de clusters que o algoritmo deve encontrar (neste caso, 3 grupos).\n",
    "  - O valor de `k` pode ser ajustado com base em análise adicional, como o método do cotovelo (Elbow Method).\n",
    "- **Parâmetro `random_state`**:\n",
    "  - Garante a reprodutibilidade dos resultados, fixando a inicialização dos centróides.\n",
    "- **Treinamento e Predição**:\n",
    "  - `fit_predict(scaled_data)`: Treina o modelo com os dados escalados e atribui a cada ponto um rótulo de cluster.\n",
    "- **Adição dos Clusters ao DataFrame**:\n",
    "  - A coluna `'Cluster'` é adicionada ao DataFrame original, indicando a qual grupo cada cliente pertence.\n"
   ]
  },
  {
   "cell_type": "code",
   "execution_count": 64,
   "id": "047e499e",
   "metadata": {
    "id": "047e499e",
    "outputId": "c08f0454-ee89-4a85-bd34-c5021bd2b339"
   },
   "outputs": [
    {
     "data": {
      "image/png": "[encoded data removed]",
      "text/plain": [
       "<Figure size 1000x600 with 1 Axes>"
      ]
     },
     "metadata": {},
     "output_type": "display_data"
    }
   ],
   "source": [
    "# 4. Visualização dos Clusters\n",
    "plt.figure(figsize=(10, 6))\n",
    "for cluster in range(3):\n",
    "    cluster_data = df[df['Cluster'] == cluster]\n",
    "    plt.scatter(cluster_data['Annual_Spending'], cluster_data['Visit_Frequency'], label=f'Cluster {cluster}')\n",
    "\n",
    "# Centroides\n",
    "centroids = scaler.inverse_transform(kmeans.cluster_centers_)\n",
    "plt.scatter(centroids[:, 0], centroids[:, 1], s=200, c='red', marker='X', label='Centroids')\n",
    "\n",
    "plt.title('Clusters de Clientes')\n",
    "plt.xlabel('Gastos Anuais ($)')\n",
    "plt.ylabel('Frequência de Visitas (Visitas/ano)')\n",
    "plt.legend()\n",
    "plt.grid()\n",
    "plt.show()\n"
   ]
  },
  {
   "cell_type": "markdown",
   "id": "5796a426",
   "metadata": {
    "id": "5796a426"
   },
   "source": [
    "### 4. Visualização dos Clusters\n",
    "\n",
    "- **Objetivo**: Exibir os clusters formados pelo algoritmo K-Means em um gráfico de dispersão, destacando os centróides.\n",
    "  \n",
    "- **Passos**:\n",
    "  1. **Criação do Gráfico**:\n",
    "     - `plt.figure(figsize=(10, 6))`: Define o tamanho do gráfico.\n",
    "     - Para cada cluster (`range(3)`), são plotados os pontos pertencentes ao cluster usando um filtro no DataFrame: `df[df['Cluster'] == cluster]`.\n",
    "     - `plt.scatter`: Utilizado para criar o gráfico de dispersão, onde:\n",
    "       - Eixo X: `Annual_Spending` (Gastos Anuais).\n",
    "       - Eixo Y: `Visit_Frequency` (Frequência de Visitas).\n",
    "       - `label=f'Cluster {cluster}'`: Define o rótulo para cada cluster.\n",
    "\n",
    "  2. **Plotagem dos Centróides**:\n",
    "     - `kmeans.cluster_centers_`: Obtém os centróides dos clusters no espaço escalado.\n",
    "     - `scaler.inverse_transform`: Reverte a transformação para exibir os centróides no espaço original.\n",
    "     - Os centróides são plotados como marcadores vermelhos (`'X'`) com maior tamanho (`s=200`).\n",
    "\n",
    "  3. **Configurações do Gráfico**:\n",
    "     - `plt.title`: Define o título do gráfico.\n",
    "     - `plt.xlabel` e `plt.ylabel`: Rotulam os eixos com informações relevantes.\n",
    "     - `plt.legend`: Adiciona a legenda para os clusters e centróides.\n",
    "     - `plt.grid`: Insere uma grade no gráfico para facilitar a visualização.\n",
    "\n",
    "  4. **Exibição**:\n",
    "     - `plt.show()`: Exibe o gráfico gerado.\n",
    "\n",
    "- **Resultado**:\n",
    "  - Cada cluster é representado por pontos com cores diferentes, indicando os grupos formados.\n",
    "  - Os centróides aparecem como marcadores vermelhos (`X`), destacando os pontos médios de cada cluster.\n",
    "  - O gráfico fornece uma visão clara da separação entre os clusters e a relação entre os atributos analisados.\n"
   ]
  },
  {
   "cell_type": "markdown",
   "id": "a28f730a",
   "metadata": {
    "id": "a28f730a"
   },
   "source": [
    "## Conclusão\n",
    "\n",
    "As técnicas de mineração de dados, como a **clusterização**, desempenham um papel essencial na **Ciência de Dados**, permitindo identificar padrões ocultos em grandes volumes de informações. No exemplo apresentado, a aplicação do algoritmo de **K-Means** demonstrou como é possível segmentar clientes com base em características compartilhadas, fornecendo insights valiosos para decisões estratégicas, como a personalização de campanhas de marketing.\n",
    "\n",
    "A importância dessas técnicas vai além da segmentação:\n",
    "- Elas ajudam a revelar tendências e anomalias que seriam difíceis de detectar manualmente.\n",
    "- Facilitam a tomada de decisões baseadas em dados, aumentando a eficiência e a competitividade organizacional.\n",
    "- São aplicáveis em diversas áreas, como saúde, finanças, logística e redes sociais, contribuindo para soluções inovadoras.\n",
    "\n",
    "Portanto, a mineração de dados é uma ferramenta poderosa para transformar dados brutos em conhecimento acionável, sendo um dos pilares fundamentais para o sucesso na era da informação e da análise orientada por dados.\n"
   ]
  }
 ],
 "metadata": {
  "colab": {
   "provenance": []
  },
  "kernelspec": {
   "display_name": "my_projects",
   "language": "python",
   "name": "python3"
  },
  "language_info": {
   "codemirror_mode": {
    "name": "ipython",
    "version": 3
   },
   "file_extension": ".py",
   "mimetype": "text/x-python",
   "name": "python",
   "nbconvert_exporter": "python",
   "pygments_lexer": "ipython3",
   "version": "3.9.16"
  }
 },
 "nbformat": 4,
 "nbformat_minor": 5
}
