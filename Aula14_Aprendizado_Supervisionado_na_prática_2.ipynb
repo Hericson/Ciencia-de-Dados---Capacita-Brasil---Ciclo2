{
  "cells": [
    {
      "cell_type": "markdown",
      "id": "373b8b21",
      "metadata": {
        "id": "373b8b21"
      },
      "source": [
        "![aula14capa.png](figuras/aula14capa.png)\n",
        "\n"
      ]
    },
    {
      "cell_type": "markdown",
      "id": "d013d3bf",
      "metadata": {
        "id": "d013d3bf"
      },
      "source": [
        "# Aula sobre Aprendizado Supervisionado"
      ]
    },
    {
      "cell_type": "markdown",
      "id": "6258d040",
      "metadata": {
        "id": "6258d040"
      },
      "source": [
        "## Introdução"
      ]
    },
    {
      "cell_type": "markdown",
      "id": "1cdf6f9d",
      "metadata": {
        "id": "1cdf6f9d"
      },
      "source": [
        "Nesta aula, vamos explorar o conceito de aprendizado supervisionado, um dos pilares da inteligência artificial e ciência de dados. O aprendizado supervisionado é um método de aprendizado de máquina onde um modelo é treinado utilizando dados rotulados, ou seja, cada entrada possui uma saída associada.\n",
        "\n",
        "### Objetivos:\n",
        "1. Entender os conceitos teóricos do aprendizado supervisionado.\n",
        "2. Conhecer os tipos de problemas: regressão e classificação.\n",
        "3. Implementar exemplos práticos de classificação e regressão utilizando Python.\n",
        "4. Trabalhar com datasets mais desafiadores e menos comuns, aprofundando as análises e interpretações.\n",
        "5. Discutir os desafios e limitações do aprendizado supervisionado.\n"
      ]
    },
    {
      "cell_type": "markdown",
      "id": "8563bf89",
      "metadata": {
        "id": "8563bf89"
      },
      "source": [
        "\n",
        "# Teoria: O que é Aprendizado Supervisionado?\n",
        "\n",
        "No aprendizado supervisionado, o modelo aprende uma função a partir de dados de treinamento que possuem rótulos. Esse processo é iterativo e ajusta os parâmetros do modelo para minimizar o erro entre as previsões do modelo e os rótulos reais.\n",
        "\n",
        "### Principais componentes:\n",
        "1. **Conjunto de Dados**:\n",
        "   - **Entradas (X)**: As características ou atributos usados para fazer a previsão.\n",
        "   - **Saídas (y)**: Os rótulos ou valores-alvo que o modelo deve aprender a prever.\n",
        "\n",
        "\n",
        "2. **Modelo**:\n",
        "   - O modelo é a representação matemática ou algorítmica que aprende a mapear as entradas para as saídas.\n",
        "\n",
        "\n",
        "3. **Função de Perda**:\n",
        "   - Mede o erro entre a previsão do modelo e o rótulo real.\n",
        "   - Exemplos:\n",
        "     - Erro Quadrático Médio (MSE) para regressão.\n",
        "     - Entropia Cruzada para classificação.\n",
        "\n",
        "\n",
        "4. **Otimização**:\n",
        "   - Processo de ajuste dos parâmetros do modelo para minimizar a função de perda.\n",
        "   - Algoritmos comuns: Gradiente Descendente e suas variantes.\n",
        "\n",
        "\n",
        "### Tipos de problemas:\n",
        "\n",
        "1. **Classificação**:\n",
        "   - Objetivo: Prever categorias discretas.\n",
        "   - Algoritmos populares:\n",
        "     - Regressão Logística.\n",
        "     - Árvores de Decisão.\n",
        "     - K -NN.\n",
        "     - Random Forest.\n",
        "     - Suport Vector Machines (SVM).\n",
        "\n",
        "\n",
        "2. **Regressão**:\n",
        "   - Objetivo: Prever valores contínuos.\n",
        "   - Algoritmos populares:\n",
        "     - Regressão Linear.\n",
        "     - Regressão Ridge.\n",
        "     - Gradient Boosting Regressor.\n",
        "\n",
        "\n",
        "### Vantagens do Aprendizado Supervisionado:\n",
        "\n",
        "1. Alta precisão quando os dados são bem rotulados.\n",
        "2. Modelos interpretáveis (em alguns casos, como Regressão Linear).\n",
        "3. Facilidade de avaliação por métricas específicas como acurácia, precisão e recall.\n",
        "\n",
        "\n",
        "### Limitações do Aprendizado Supervisionado:\n",
        "\n",
        "1. **Dependência de Dados Rotulados**:\n",
        "   - Rotular grandes conjuntos de dados pode ser caro e demorado.\n",
        "\n",
        "\n",
        "2. **Overfitting**:\n",
        "   - O modelo pode se ajustar muito bem aos dados de treinamento e ter dificuldade com novos dados.\n",
        "\n",
        "\n",
        "3. **Desequilíbrio de Classes**:\n",
        "   - Desempenho prejudicado se o conjunto de dados tiver classes desbalanceadas.\n",
        "\n",
        "\n",
        "4. **Generalização**:\n",
        "   - Desafios para generalizar bem em cenários do mundo real com dados desconhecidos.\n",
        "\n",
        "\n",
        "### Métricas de Avaliação\n",
        "\n",
        "\n",
        "#### 1. **Classificação**\n",
        "\n",
        "- **Acurácia**:\n",
        "  - Proporção de previsões corretas sobre o total de previsões.\n",
        "  - Fórmula:\n",
        "   \n",
        "    $\n",
        "    \\text{Acurácia} = \\frac{TP + TN}{TP + TN + FP + FN}\n",
        "    $\n",
        "\n",
        "\n",
        "- **Verdadeiro Positivo (TP)**:\n",
        "  - Casos em que o modelo previu corretamente a classe positiva.\n",
        "  - Exemplo: Em um teste de diagnóstico de doenças, o modelo identifica corretamente os pacientes doentes.\n",
        "\n",
        "\n",
        "- **Falso Positivo (FP)**:\n",
        "  - Casos em que o modelo previu a classe positiva, mas o rótulo real era negativo.\n",
        "  - Exemplo: O modelo detecta uma doença em um paciente saudável.\n",
        "\n",
        "\n",
        "- **Falso Negativo (FN)**:\n",
        "  - Casos em que o modelo previu a classe negativa, mas o rótulo real era positivo.\n",
        "  - Exemplo: O modelo não detecta a doença em um paciente doente.\n",
        "\n",
        "\n",
        "- **Verdadeiro Negativo (TN)**:\n",
        "  - Casos em que o modelo previu corretamente a classe negativa.\n",
        "  - Exemplo: O modelo detecta corretamente que um paciente saudável não tem a doença.\n",
        "\n",
        "\n",
        "- **Precisão (Precision)**:\n",
        "  - Proporção de verdadeiros positivos entre todas as previsões positivas.\n",
        "  - Fórmula:\n",
        "   \n",
        "    $\n",
        "    \\text{Precisão} = \\frac{TP}{TP + FP}\n",
        "    $\n",
        "\n",
        "\n",
        "- **Recall (Sensibilidade)**:\n",
        "  - Proporção de verdadeiros positivos capturados pelo modelo.\n",
        "  - Fórmula:\n",
        "   \n",
        "    $\n",
        "    \\text{Recall} = \\frac{TP}{TP + FN}\n",
        "    $\n",
        "\n",
        "\n",
        "- **F1-Score**:\n",
        "  - Média harmônica entre precisão e recall.\n",
        "  - Fórmula:\n",
        "   \n",
        "    $\n",
        "    \\text{F1} = 2 \\cdot \\frac{\\text{Precisão} \\cdot \\text{Recall}}{\\text{Precisão} + \\text{Recall}}\n",
        "    $\n",
        "\n",
        "\n",
        "- **Matriz de Confusão**:\n",
        "  - Tabela que mostra os resultados verdadeiros e previstos.\n",
        "  <img src=\"figuras/confusion_matrix.png\" alt=\"Precision Recall\" width=\"700\">\n",
        "\n",
        "    \n",
        "\n",
        "#### 2. **Regressão**\n",
        "- **Erro Médio Absoluto (MAE)**:\n",
        "  - Média dos erros absolutos.\n",
        "  - Características:\n",
        "   \n",
        "   1. Penaliza igualmente todos os erros, sejam pequenos ou grandes.\n",
        "   2. É mais robusto a outliers, já que grandes erros não recebem penalidades extras.\n",
        "   3. O MAE representa a magnitude média do erro em unidades absolutas do problema.\n",
        "   \n",
        "  - Quando usar:\n",
        "   \n",
        "   1. Quando você quer interpretar o erro médio de forma intuitiva (nas mesmas unidades dos dados).\n",
        "   2. Em problemas onde grandes outliers não devem ter impacto desproporcional.\n",
        "   \n",
        "  \n",
        "  - Fórmula:\n",
        "   \n",
        "    $\n",
        "    \\text{MAE} = \\frac{1}{n} \\sum_{i=1}^{n} |y_i - \\hat{y}_i|\n",
        "    $\n",
        "\n",
        "  \n",
        "   \n",
        "\n",
        "- **Erro Quadrático Médio (MSE)**:\n",
        "  - Média dos erros ao quadrado.\n",
        "  - Características:\n",
        "   \n",
        "   1. Penaliza erros grandes de forma mais severa (erros são elevados ao quadrado).\n",
        "   2. É mais sensível a outliers, porque grandes diferenças aumentam significativamente o valor do MSE.\n",
        "   3. Não é intuitivo em termos de unidades, já que o erro médio é elevado ao quadrado.\n",
        "   \n",
        "  - Quando usar:\n",
        "   \n",
        "   1. Quando você quer que grandes erros tenham mais impacto na avaliação (por exemplo, em sistemas críticos onde erros grandes são inaceitáveis).\n",
        "   2. Quando otimizar para erros menores em geral é mais importante do que penalizar pequenos desvios.\n",
        "   \n",
        "  \n",
        "  - Fórmula:\n",
        "   \n",
        "    $\n",
        "    \\text{MSE} = \\frac{1}{n} \\sum_{i=1}^{n} (y_i - \\hat{y}_i)^2\n",
        "    $\n",
        "\n",
        "\n",
        "\n",
        "- **R² Score (Coeficiente de Determinação)**:\n",
        "  - Mede a proporção da variância explicada pelo modelo.\n",
        "  - Fórmula:\n",
        "   \n",
        "    $\n",
        "    R^2 = 1 - \\frac{\\text{SS}_\\text{res}}{\\text{SS}_\\text{tot}}\n",
        "    $\n"
      ]
    },
    {
      "cell_type": "markdown",
      "id": "9ccca298",
      "metadata": {
        "id": "9ccca298"
      },
      "source": [
        "![aula14SSres_SStot.png](figuras/aula14SSres_SStot.png)"
      ]
    },
    {
      "cell_type": "markdown",
      "id": "f68b9d44",
      "metadata": {
        "id": "f68b9d44"
      },
      "source": [
        "### Etapas do processo de aprendizado:\n",
        "1. Coleta de dados.\n",
        "2. Pré-processamento e limpeza dos dados.\n",
        "3. Divisão do conjunto de dados (treinamento e teste).\n",
        "4. Escolha do modelo e métrica de avaliação.\n",
        "5. Treinamento e ajuste do modelo.\n",
        "6. Avaliação e interpretação dos resultados."
      ]
    },
    {
      "cell_type": "markdown",
      "id": "930323e6",
      "metadata": {
        "id": "930323e6"
      },
      "source": [
        "# Exemplo Prático: Classificação com o Dataset Wine Quality"
      ]
    },
    {
      "cell_type": "markdown",
      "id": "ccd64221",
      "metadata": {
        "id": "ccd64221"
      },
      "source": [
        "## Importação de Bibliotecas"
      ]
    },
    {
      "cell_type": "code",
      "execution_count": 21,
      "id": "ab0efa07",
      "metadata": {
        "id": "ab0efa07"
      },
      "outputs": [],
      "source": [
        "import numpy as np\n",
        "import pandas as pd\n",
        "from sklearn.model_selection import train_test_split\n",
        "from sklearn.preprocessing import StandardScaler\n",
        "from sklearn.linear_model import LogisticRegression  # Importar o classificador Logistic Regression\n",
        "from sklearn.metrics import accuracy_score, classification_report, confusion_matrix\n",
        "import seaborn as sns\n",
        "import matplotlib.pyplot as plt\n",
        "\n",
        "from sklearn.datasets import fetch_openml"
      ]
    },
    {
      "cell_type": "markdown",
      "id": "2e684887",
      "metadata": {
        "id": "2e684887"
      },
      "source": [
        "# Conjunto de Dados: Wine Quality\n",
        "\n",
        "## Descrição\n",
        "O conjunto de dados **Wine Quality** contém informações físico-químicas de diferentes amostras de vinho branco, associadas a uma avaliação de qualidade feita por especialistas.\n",
        "\n",
        "---\n",
        "\n",
        "## Características (Colunas do Dataset)\n",
        "\n",
        "| Coluna                  | Descrição                                                | Tipo         |\n",
        "|-------------------------|--------------------------------------------------------|--------------|\n",
        "| `fixed acidity`         | Acidez fixa (g/L)                                       | Numérico     |\n",
        "| `volatile acidity`      | Acidez volátil (g/L)                                    | Numérico     |\n",
        "| `citric acid`           | Ácido cítrico (g/L)                                     | Numérico     |\n",
        "| `residual sugar`        | Açúcar residual (g/L)                                   | Numérico     |\n",
        "| `chlorides`             | Cloretos (g/L)                                          | Numérico     |\n",
        "| `free sulfur dioxide`   | Dióxido de enxofre livre (mg/L)                         | Numérico     |\n",
        "| `total sulfur dioxide`  | Dióxido de enxofre total (mg/L)                         | Numérico     |\n",
        "| `density`               | Densidade (g/cm³)                                       | Numérico     |\n",
        "| `pH`                    | pH do vinho                                             | Numérico     |\n",
        "| `sulphates`             | Sulfatos (g/L)                                          | Numérico     |\n",
        "| `alcohol`               | Teor alcoólico (%)                                      | Numérico     |\n",
        "| `quality`               | Qualidade do vinho (escore de 0 a 10, alvo)             | Categórico   |\n",
        "\n",
        "---\n",
        "\n",
        "## Resumo Estatístico\n",
        "\n",
        "| Estatística             | Valor               |\n",
        "|-------------------------|---------------------|\n",
        "| Número de amostras      | 4.898               |\n",
        "| Número de atributos     | 11 (físico-químicos)|\n",
        "| Valores de `quality`    | De 3 a 9            |\n",
        "| Média de `quality`      | Aproximadamente 5.88|\n",
        "\n",
        "---\n",
        "\n",
        "## Fonte\n",
        "Este conjunto de dados está disponível no [UCI Machine Learning Repository](https://archive.ics.uci.edu/ml/datasets/Wine+Quality).\n"
      ]
    },
    {
      "cell_type": "markdown",
      "id": "ee8a4a89",
      "metadata": {
        "id": "ee8a4a89"
      },
      "source": [
        "## Carregar Dataset"
      ]
    },
    {
      "cell_type": "code",
      "execution_count": 33,
      "id": "cc13c1d1",
      "metadata": {
        "colab": {
          "base_uri": "https://localhost:8080/",
          "height": 463
        },
        "id": "cc13c1d1",
        "outputId": "fadee512-eac9-4b65-c9a8-28e12ac41751"
      },
      "outputs": [],
      "source": [
        "from sklearn.datasets import fetch_openml\n",
        "\n",
        "data = pd.read_csv('datasets/winequality-white.csv')\n",
        "\n",
        "# Extrair as características (variáveis preditoras) do dataset\n",
        "# - data.data: retorna todas as colunas exceto a variável alvo\n",
        "X = data.drop('quality', axis=1)\n",
        "\n",
        "# Extrair a variável alvo (target) e converter os valores para o tipo inteiro\n",
        "# - data.target: retorna a variável alvo\n",
        "# - astype(int): converte os valores para inteiros, caso estejam em outro formato\n",
        "y = data['quality']\n"
      ]
    },
    {
      "cell_type": "code",
      "execution_count": 34,
      "id": "2e51c4d0",
      "metadata": {},
      "outputs": [
        {
          "data": {
            "text/plain": [
              "array([3, 4, 5, 6, 7, 8, 9])"
            ]
          },
          "execution_count": 34,
          "metadata": {},
          "output_type": "execute_result"
        }
      ],
      "source": [
        "np.unique(y)"
      ]
    },
    {
      "cell_type": "code",
      "execution_count": 23,
      "id": "6e57675f",
      "metadata": {},
      "outputs": [
        {
          "data": {
            "text/plain": [
              "((4898, 11), (4898,))"
            ]
          },
          "execution_count": 23,
          "metadata": {},
          "output_type": "execute_result"
        }
      ],
      "source": [
        "X.shape, y.shape"
      ]
    },
    {
      "cell_type": "markdown",
      "id": "f2d2f1e9",
      "metadata": {
        "id": "f2d2f1e9"
      },
      "source": [
        "## Divisão dos dados em treino e teste"
      ]
    },
    {
      "cell_type": "code",
      "execution_count": 24,
      "id": "28209700",
      "metadata": {
        "id": "28209700"
      },
      "outputs": [],
      "source": [
        "X_train, X_test, y_train, y_test = train_test_split(X, y, test_size=0.3, random_state=42)"
      ]
    },
    {
      "cell_type": "markdown",
      "id": "517a96b8",
      "metadata": {
        "id": "517a96b8"
      },
      "source": [
        "## Padronização dos dados"
      ]
    },
    {
      "cell_type": "code",
      "execution_count": 25,
      "id": "b1de2fd3",
      "metadata": {
        "id": "b1de2fd3"
      },
      "outputs": [],
      "source": [
        "scaler = StandardScaler()\n",
        "# Ajustar o scaler aos dados de treinamento e transformar (padronizar)\n",
        "# - fit_transform: ajusta o scaler (calcula média e desvio padrão) e aplica a transformação aos dados\n",
        "X_train = scaler.fit_transform(X_train)\n",
        "\n",
        "# Aplicar a transformação aos dados de teste com os parâmetros calculados no treinamento\n",
        "# - transform: utiliza a média e o desvio padrão do conjunto de treinamento para padronizar os dados de teste\n",
        "X_test = scaler.transform(X_test)\n"
      ]
    },
    {
      "cell_type": "markdown",
      "id": "4b5f4ce8",
      "metadata": {
        "id": "4b5f4ce8"
      },
      "source": [
        "## Treinamento do modelo de classificação - Regressão Logística"
      ]
    },
    {
      "cell_type": "code",
      "execution_count": 26,
      "id": "36c1b2a6",
      "metadata": {
        "id": "36c1b2a6",
        "outputId": "430606ac-a28e-49ab-ca4e-59b28b498414"
      },
      "outputs": [
        {
          "data": {
            "text/html": [
              "<style>#sk-container-id-3 {\n",
              "  /* Definition of color scheme common for light and dark mode */\n",
              "  --sklearn-color-text: #000;\n",
              "  --sklearn-color-text-muted: #666;\n",
              "  --sklearn-color-line: gray;\n",
              "  /* Definition of color scheme for unfitted estimators */\n",
              "  --sklearn-color-unfitted-level-0: #fff5e6;\n",
              "  --sklearn-color-unfitted-level-1: #f6e4d2;\n",
              "  --sklearn-color-unfitted-level-2: #ffe0b3;\n",
              "  --sklearn-color-unfitted-level-3: chocolate;\n",
              "  /* Definition of color scheme for fitted estimators */\n",
              "  --sklearn-color-fitted-level-0: #f0f8ff;\n",
              "  --sklearn-color-fitted-level-1: #d4ebff;\n",
              "  --sklearn-color-fitted-level-2: #b3dbfd;\n",
              "  --sklearn-color-fitted-level-3: cornflowerblue;\n",
              "\n",
              "  /* Specific color for light theme */\n",
              "  --sklearn-color-text-on-default-background: var(--sg-text-color, var(--theme-code-foreground, var(--jp-content-font-color1, black)));\n",
              "  --sklearn-color-background: var(--sg-background-color, var(--theme-background, var(--jp-layout-color0, white)));\n",
              "  --sklearn-color-border-box: var(--sg-text-color, var(--theme-code-foreground, var(--jp-content-font-color1, black)));\n",
              "  --sklearn-color-icon: #696969;\n",
              "\n",
              "  @media (prefers-color-scheme: dark) {\n",
              "    /* Redefinition of color scheme for dark theme */\n",
              "    --sklearn-color-text-on-default-background: var(--sg-text-color, var(--theme-code-foreground, var(--jp-content-font-color1, white)));\n",
              "    --sklearn-color-background: var(--sg-background-color, var(--theme-background, var(--jp-layout-color0, #111)));\n",
              "    --sklearn-color-border-box: var(--sg-text-color, var(--theme-code-foreground, var(--jp-content-font-color1, white)));\n",
              "    --sklearn-color-icon: #878787;\n",
              "  }\n",
              "}\n",
              "\n",
              "#sk-container-id-3 {\n",
              "  color: var(--sklearn-color-text);\n",
              "}\n",
              "\n",
              "#sk-container-id-3 pre {\n",
              "  padding: 0;\n",
              "}\n",
              "\n",
              "#sk-container-id-3 input.sk-hidden--visually {\n",
              "  border: 0;\n",
              "  clip: rect(1px 1px 1px 1px);\n",
              "  clip: rect(1px, 1px, 1px, 1px);\n",
              "  height: 1px;\n",
              "  margin: -1px;\n",
              "  overflow: hidden;\n",
              "  padding: 0;\n",
              "  position: absolute;\n",
              "  width: 1px;\n",
              "}\n",
              "\n",
              "#sk-container-id-3 div.sk-dashed-wrapped {\n",
              "  border: 1px dashed var(--sklearn-color-line);\n",
              "  margin: 0 0.4em 0.5em 0.4em;\n",
              "  box-sizing: border-box;\n",
              "  padding-bottom: 0.4em;\n",
              "  background-color: var(--sklearn-color-background);\n",
              "}\n",
              "\n",
              "#sk-container-id-3 div.sk-container {\n",
              "  /* jupyter's `normalize.less` sets `[hidden] { display: none; }`\n",
              "     but bootstrap.min.css set `[hidden] { display: none !important; }`\n",
              "     so we also need the `!important` here to be able to override the\n",
              "     default hidden behavior on the sphinx rendered scikit-learn.org.\n",
              "     See: https://github.com/scikit-learn/scikit-learn/issues/21755 */\n",
              "  display: inline-block !important;\n",
              "  position: relative;\n",
              "}\n",
              "\n",
              "#sk-container-id-3 div.sk-text-repr-fallback {\n",
              "  display: none;\n",
              "}\n",
              "\n",
              "div.sk-parallel-item,\n",
              "div.sk-serial,\n",
              "div.sk-item {\n",
              "  /* draw centered vertical line to link estimators */\n",
              "  background-image: linear-gradient(var(--sklearn-color-text-on-default-background), var(--sklearn-color-text-on-default-background));\n",
              "  background-size: 2px 100%;\n",
              "  background-repeat: no-repeat;\n",
              "  background-position: center center;\n",
              "}\n",
              "\n",
              "/* Parallel-specific style estimator block */\n",
              "\n",
              "#sk-container-id-3 div.sk-parallel-item::after {\n",
              "  content: \"\";\n",
              "  width: 100%;\n",
              "  border-bottom: 2px solid var(--sklearn-color-text-on-default-background);\n",
              "  flex-grow: 1;\n",
              "}\n",
              "\n",
              "#sk-container-id-3 div.sk-parallel {\n",
              "  display: flex;\n",
              "  align-items: stretch;\n",
              "  justify-content: center;\n",
              "  background-color: var(--sklearn-color-background);\n",
              "  position: relative;\n",
              "}\n",
              "\n",
              "#sk-container-id-3 div.sk-parallel-item {\n",
              "  display: flex;\n",
              "  flex-direction: column;\n",
              "}\n",
              "\n",
              "#sk-container-id-3 div.sk-parallel-item:first-child::after {\n",
              "  align-self: flex-end;\n",
              "  width: 50%;\n",
              "}\n",
              "\n",
              "#sk-container-id-3 div.sk-parallel-item:last-child::after {\n",
              "  align-self: flex-start;\n",
              "  width: 50%;\n",
              "}\n",
              "\n",
              "#sk-container-id-3 div.sk-parallel-item:only-child::after {\n",
              "  width: 0;\n",
              "}\n",
              "\n",
              "/* Serial-specific style estimator block */\n",
              "\n",
              "#sk-container-id-3 div.sk-serial {\n",
              "  display: flex;\n",
              "  flex-direction: column;\n",
              "  align-items: center;\n",
              "  background-color: var(--sklearn-color-background);\n",
              "  padding-right: 1em;\n",
              "  padding-left: 1em;\n",
              "}\n",
              "\n",
              "\n",
              "/* Toggleable style: style used for estimator/Pipeline/ColumnTransformer box that is\n",
              "clickable and can be expanded/collapsed.\n",
              "- Pipeline and ColumnTransformer use this feature and define the default style\n",
              "- Estimators will overwrite some part of the style using the `sk-estimator` class\n",
              "*/\n",
              "\n",
              "/* Pipeline and ColumnTransformer style (default) */\n",
              "\n",
              "#sk-container-id-3 div.sk-toggleable {\n",
              "  /* Default theme specific background. It is overwritten whether we have a\n",
              "  specific estimator or a Pipeline/ColumnTransformer */\n",
              "  background-color: var(--sklearn-color-background);\n",
              "}\n",
              "\n",
              "/* Toggleable label */\n",
              "#sk-container-id-3 label.sk-toggleable__label {\n",
              "  cursor: pointer;\n",
              "  display: flex;\n",
              "  width: 100%;\n",
              "  margin-bottom: 0;\n",
              "  padding: 0.5em;\n",
              "  box-sizing: border-box;\n",
              "  text-align: center;\n",
              "  align-items: start;\n",
              "  justify-content: space-between;\n",
              "  gap: 0.5em;\n",
              "}\n",
              "\n",
              "#sk-container-id-3 label.sk-toggleable__label .caption {\n",
              "  font-size: 0.6rem;\n",
              "  font-weight: lighter;\n",
              "  color: var(--sklearn-color-text-muted);\n",
              "}\n",
              "\n",
              "#sk-container-id-3 label.sk-toggleable__label-arrow:before {\n",
              "  /* Arrow on the left of the label */\n",
              "  content: \"▸\";\n",
              "  float: left;\n",
              "  margin-right: 0.25em;\n",
              "  color: var(--sklearn-color-icon);\n",
              "}\n",
              "\n",
              "#sk-container-id-3 label.sk-toggleable__label-arrow:hover:before {\n",
              "  color: var(--sklearn-color-text);\n",
              "}\n",
              "\n",
              "/* Toggleable content - dropdown */\n",
              "\n",
              "#sk-container-id-3 div.sk-toggleable__content {\n",
              "  max-height: 0;\n",
              "  max-width: 0;\n",
              "  overflow: hidden;\n",
              "  text-align: left;\n",
              "  /* unfitted */\n",
              "  background-color: var(--sklearn-color-unfitted-level-0);\n",
              "}\n",
              "\n",
              "#sk-container-id-3 div.sk-toggleable__content.fitted {\n",
              "  /* fitted */\n",
              "  background-color: var(--sklearn-color-fitted-level-0);\n",
              "}\n",
              "\n",
              "#sk-container-id-3 div.sk-toggleable__content pre {\n",
              "  margin: 0.2em;\n",
              "  border-radius: 0.25em;\n",
              "  color: var(--sklearn-color-text);\n",
              "  /* unfitted */\n",
              "  background-color: var(--sklearn-color-unfitted-level-0);\n",
              "}\n",
              "\n",
              "#sk-container-id-3 div.sk-toggleable__content.fitted pre {\n",
              "  /* unfitted */\n",
              "  background-color: var(--sklearn-color-fitted-level-0);\n",
              "}\n",
              "\n",
              "#sk-container-id-3 input.sk-toggleable__control:checked~div.sk-toggleable__content {\n",
              "  /* Expand drop-down */\n",
              "  max-height: 200px;\n",
              "  max-width: 100%;\n",
              "  overflow: auto;\n",
              "}\n",
              "\n",
              "#sk-container-id-3 input.sk-toggleable__control:checked~label.sk-toggleable__label-arrow:before {\n",
              "  content: \"▾\";\n",
              "}\n",
              "\n",
              "/* Pipeline/ColumnTransformer-specific style */\n",
              "\n",
              "#sk-container-id-3 div.sk-label input.sk-toggleable__control:checked~label.sk-toggleable__label {\n",
              "  color: var(--sklearn-color-text);\n",
              "  background-color: var(--sklearn-color-unfitted-level-2);\n",
              "}\n",
              "\n",
              "#sk-container-id-3 div.sk-label.fitted input.sk-toggleable__control:checked~label.sk-toggleable__label {\n",
              "  background-color: var(--sklearn-color-fitted-level-2);\n",
              "}\n",
              "\n",
              "/* Estimator-specific style */\n",
              "\n",
              "/* Colorize estimator box */\n",
              "#sk-container-id-3 div.sk-estimator input.sk-toggleable__control:checked~label.sk-toggleable__label {\n",
              "  /* unfitted */\n",
              "  background-color: var(--sklearn-color-unfitted-level-2);\n",
              "}\n",
              "\n",
              "#sk-container-id-3 div.sk-estimator.fitted input.sk-toggleable__control:checked~label.sk-toggleable__label {\n",
              "  /* fitted */\n",
              "  background-color: var(--sklearn-color-fitted-level-2);\n",
              "}\n",
              "\n",
              "#sk-container-id-3 div.sk-label label.sk-toggleable__label,\n",
              "#sk-container-id-3 div.sk-label label {\n",
              "  /* The background is the default theme color */\n",
              "  color: var(--sklearn-color-text-on-default-background);\n",
              "}\n",
              "\n",
              "/* On hover, darken the color of the background */\n",
              "#sk-container-id-3 div.sk-label:hover label.sk-toggleable__label {\n",
              "  color: var(--sklearn-color-text);\n",
              "  background-color: var(--sklearn-color-unfitted-level-2);\n",
              "}\n",
              "\n",
              "/* Label box, darken color on hover, fitted */\n",
              "#sk-container-id-3 div.sk-label.fitted:hover label.sk-toggleable__label.fitted {\n",
              "  color: var(--sklearn-color-text);\n",
              "  background-color: var(--sklearn-color-fitted-level-2);\n",
              "}\n",
              "\n",
              "/* Estimator label */\n",
              "\n",
              "#sk-container-id-3 div.sk-label label {\n",
              "  font-family: monospace;\n",
              "  font-weight: bold;\n",
              "  display: inline-block;\n",
              "  line-height: 1.2em;\n",
              "}\n",
              "\n",
              "#sk-container-id-3 div.sk-label-container {\n",
              "  text-align: center;\n",
              "}\n",
              "\n",
              "/* Estimator-specific */\n",
              "#sk-container-id-3 div.sk-estimator {\n",
              "  font-family: monospace;\n",
              "  border: 1px dotted var(--sklearn-color-border-box);\n",
              "  border-radius: 0.25em;\n",
              "  box-sizing: border-box;\n",
              "  margin-bottom: 0.5em;\n",
              "  /* unfitted */\n",
              "  background-color: var(--sklearn-color-unfitted-level-0);\n",
              "}\n",
              "\n",
              "#sk-container-id-3 div.sk-estimator.fitted {\n",
              "  /* fitted */\n",
              "  background-color: var(--sklearn-color-fitted-level-0);\n",
              "}\n",
              "\n",
              "/* on hover */\n",
              "#sk-container-id-3 div.sk-estimator:hover {\n",
              "  /* unfitted */\n",
              "  background-color: var(--sklearn-color-unfitted-level-2);\n",
              "}\n",
              "\n",
              "#sk-container-id-3 div.sk-estimator.fitted:hover {\n",
              "  /* fitted */\n",
              "  background-color: var(--sklearn-color-fitted-level-2);\n",
              "}\n",
              "\n",
              "/* Specification for estimator info (e.g. \"i\" and \"?\") */\n",
              "\n",
              "/* Common style for \"i\" and \"?\" */\n",
              "\n",
              ".sk-estimator-doc-link,\n",
              "a:link.sk-estimator-doc-link,\n",
              "a:visited.sk-estimator-doc-link {\n",
              "  float: right;\n",
              "  font-size: smaller;\n",
              "  line-height: 1em;\n",
              "  font-family: monospace;\n",
              "  background-color: var(--sklearn-color-background);\n",
              "  border-radius: 1em;\n",
              "  height: 1em;\n",
              "  width: 1em;\n",
              "  text-decoration: none !important;\n",
              "  margin-left: 0.5em;\n",
              "  text-align: center;\n",
              "  /* unfitted */\n",
              "  border: var(--sklearn-color-unfitted-level-1) 1pt solid;\n",
              "  color: var(--sklearn-color-unfitted-level-1);\n",
              "}\n",
              "\n",
              ".sk-estimator-doc-link.fitted,\n",
              "a:link.sk-estimator-doc-link.fitted,\n",
              "a:visited.sk-estimator-doc-link.fitted {\n",
              "  /* fitted */\n",
              "  border: var(--sklearn-color-fitted-level-1) 1pt solid;\n",
              "  color: var(--sklearn-color-fitted-level-1);\n",
              "}\n",
              "\n",
              "/* On hover */\n",
              "div.sk-estimator:hover .sk-estimator-doc-link:hover,\n",
              ".sk-estimator-doc-link:hover,\n",
              "div.sk-label-container:hover .sk-estimator-doc-link:hover,\n",
              ".sk-estimator-doc-link:hover {\n",
              "  /* unfitted */\n",
              "  background-color: var(--sklearn-color-unfitted-level-3);\n",
              "  color: var(--sklearn-color-background);\n",
              "  text-decoration: none;\n",
              "}\n",
              "\n",
              "div.sk-estimator.fitted:hover .sk-estimator-doc-link.fitted:hover,\n",
              ".sk-estimator-doc-link.fitted:hover,\n",
              "div.sk-label-container:hover .sk-estimator-doc-link.fitted:hover,\n",
              ".sk-estimator-doc-link.fitted:hover {\n",
              "  /* fitted */\n",
              "  background-color: var(--sklearn-color-fitted-level-3);\n",
              "  color: var(--sklearn-color-background);\n",
              "  text-decoration: none;\n",
              "}\n",
              "\n",
              "/* Span, style for the box shown on hovering the info icon */\n",
              ".sk-estimator-doc-link span {\n",
              "  display: none;\n",
              "  z-index: 9999;\n",
              "  position: relative;\n",
              "  font-weight: normal;\n",
              "  right: .2ex;\n",
              "  padding: .5ex;\n",
              "  margin: .5ex;\n",
              "  width: min-content;\n",
              "  min-width: 20ex;\n",
              "  max-width: 50ex;\n",
              "  color: var(--sklearn-color-text);\n",
              "  box-shadow: 2pt 2pt 4pt #999;\n",
              "  /* unfitted */\n",
              "  background: var(--sklearn-color-unfitted-level-0);\n",
              "  border: .5pt solid var(--sklearn-color-unfitted-level-3);\n",
              "}\n",
              "\n",
              ".sk-estimator-doc-link.fitted span {\n",
              "  /* fitted */\n",
              "  background: var(--sklearn-color-fitted-level-0);\n",
              "  border: var(--sklearn-color-fitted-level-3);\n",
              "}\n",
              "\n",
              ".sk-estimator-doc-link:hover span {\n",
              "  display: block;\n",
              "}\n",
              "\n",
              "/* \"?\"-specific style due to the `<a>` HTML tag */\n",
              "\n",
              "#sk-container-id-3 a.estimator_doc_link {\n",
              "  float: right;\n",
              "  font-size: 1rem;\n",
              "  line-height: 1em;\n",
              "  font-family: monospace;\n",
              "  background-color: var(--sklearn-color-background);\n",
              "  border-radius: 1rem;\n",
              "  height: 1rem;\n",
              "  width: 1rem;\n",
              "  text-decoration: none;\n",
              "  /* unfitted */\n",
              "  color: var(--sklearn-color-unfitted-level-1);\n",
              "  border: var(--sklearn-color-unfitted-level-1) 1pt solid;\n",
              "}\n",
              "\n",
              "#sk-container-id-3 a.estimator_doc_link.fitted {\n",
              "  /* fitted */\n",
              "  border: var(--sklearn-color-fitted-level-1) 1pt solid;\n",
              "  color: var(--sklearn-color-fitted-level-1);\n",
              "}\n",
              "\n",
              "/* On hover */\n",
              "#sk-container-id-3 a.estimator_doc_link:hover {\n",
              "  /* unfitted */\n",
              "  background-color: var(--sklearn-color-unfitted-level-3);\n",
              "  color: var(--sklearn-color-background);\n",
              "  text-decoration: none;\n",
              "}\n",
              "\n",
              "#sk-container-id-3 a.estimator_doc_link.fitted:hover {\n",
              "  /* fitted */\n",
              "  background-color: var(--sklearn-color-fitted-level-3);\n",
              "}\n",
              "</style><div id=\"sk-container-id-3\" class=\"sk-top-container\"><div class=\"sk-text-repr-fallback\"><pre>LogisticRegression(max_iter=5000, random_state=42)</pre><b>In a Jupyter environment, please rerun this cell to show the HTML representation or trust the notebook. <br />On GitHub, the HTML representation is unable to render, please try loading this page with nbviewer.org.</b></div><div class=\"sk-container\" hidden><div class=\"sk-item\"><div class=\"sk-estimator fitted sk-toggleable\"><input class=\"sk-toggleable__control sk-hidden--visually\" id=\"sk-estimator-id-3\" type=\"checkbox\" checked><label for=\"sk-estimator-id-3\" class=\"sk-toggleable__label fitted sk-toggleable__label-arrow\"><div><div>LogisticRegression</div></div><div><a class=\"sk-estimator-doc-link fitted\" rel=\"noreferrer\" target=\"_blank\" href=\"https://scikit-learn.org/1.6/modules/generated/sklearn.linear_model.LogisticRegression.html\">?<span>Documentation for LogisticRegression</span></a><span class=\"sk-estimator-doc-link fitted\">i<span>Fitted</span></span></div></label><div class=\"sk-toggleable__content fitted\"><pre>LogisticRegression(max_iter=5000, random_state=42)</pre></div> </div></div></div></div>"
            ],
            "text/plain": [
              "LogisticRegression(max_iter=5000, random_state=42)"
            ]
          },
          "execution_count": 26,
          "metadata": {},
          "output_type": "execute_result"
        }
      ],
      "source": [
        "logreg = LogisticRegression(random_state=42, max_iter=5000, solver='lbfgs')  # Inicializar a Regressão Logística\n",
        "\n",
        "logreg.fit(X_train, y_train)"
      ]
    },
    {
      "cell_type": "code",
      "execution_count": 27,
      "id": "4b5b5592",
      "metadata": {},
      "outputs": [
        {
          "data": {
            "text/plain": [
              "((3428, 11), (1470, 11))"
            ]
          },
          "execution_count": 27,
          "metadata": {},
          "output_type": "execute_result"
        }
      ],
      "source": [
        "X_train.shape, X_test.shape"
      ]
    },
    {
      "cell_type": "markdown",
      "id": "211e5bb8",
      "metadata": {
        "id": "211e5bb8"
      },
      "source": [
        "#### Parâmetros Utilizados:\n",
        "\n",
        "- random_state=42:\n",
        "Garante a reprodutibilidade dos resultados ao fixar a semente do gerador aleatório.\n",
        "\n",
        "- max_iter=5000:\n",
        "Define o número máximo de iterações para o algoritmo de otimização. Isso é útil para garantir que o modelo converja, especialmente em conjuntos de dados complexos ou grandes.\n",
        "\n",
        "- solver='lbfgs':\n",
        "Define o algoritmo de otimização utilizado para ajustar os coeficientes do modelo.\n",
        "O lbfgs (Limited-memory BFGS) é um algoritmo eficiente e adequado para problemas com muitas classes."
      ]
    },
    {
      "cell_type": "markdown",
      "id": "226c8c02",
      "metadata": {
        "id": "226c8c02"
      },
      "source": [
        "## Avaliação do modelo"
      ]
    },
    {
      "cell_type": "code",
      "execution_count": 28,
      "id": "ab41ef7d",
      "metadata": {
        "id": "ab41ef7d",
        "outputId": "d4353e6e-03cd-4e46-cf76-406ca5392517"
      },
      "outputs": [
        {
          "name": "stdout",
          "output_type": "stream",
          "text": [
            "Acurácia: 0.5401360544217687\n",
            "Relatório de Classificação:\n",
            "               precision    recall  f1-score   support\n",
            "\n",
            "           3       0.00      0.00      0.00         7\n",
            "           4       0.50      0.03      0.05        40\n",
            "           5       0.57      0.55      0.56       426\n",
            "           6       0.53      0.74      0.62       668\n",
            "           7       0.51      0.23      0.31       280\n",
            "           8       0.00      0.00      0.00        49\n",
            "           9       0.00      0.00      0.00         0\n",
            "\n",
            "    accuracy                           0.54      1470\n",
            "   macro avg       0.30      0.22      0.22      1470\n",
            "weighted avg       0.52      0.54      0.50      1470\n",
            "\n"
          ]
        },
        {
          "name": "stderr",
          "output_type": "stream",
          "text": [
            "/home/hericson/anaconda3/envs/my_projects/lib/python3.9/site-packages/sklearn/metrics/_classification.py:1565: UndefinedMetricWarning: Precision is ill-defined and being set to 0.0 in labels with no predicted samples. Use `zero_division` parameter to control this behavior.\n",
            "  _warn_prf(average, modifier, f\"{metric.capitalize()} is\", len(result))\n",
            "/home/hericson/anaconda3/envs/my_projects/lib/python3.9/site-packages/sklearn/metrics/_classification.py:1565: UndefinedMetricWarning: Recall is ill-defined and being set to 0.0 in labels with no true samples. Use `zero_division` parameter to control this behavior.\n",
            "  _warn_prf(average, modifier, f\"{metric.capitalize()} is\", len(result))\n",
            "/home/hericson/anaconda3/envs/my_projects/lib/python3.9/site-packages/sklearn/metrics/_classification.py:1565: UndefinedMetricWarning: Precision is ill-defined and being set to 0.0 in labels with no predicted samples. Use `zero_division` parameter to control this behavior.\n",
            "  _warn_prf(average, modifier, f\"{metric.capitalize()} is\", len(result))\n",
            "/home/hericson/anaconda3/envs/my_projects/lib/python3.9/site-packages/sklearn/metrics/_classification.py:1565: UndefinedMetricWarning: Recall is ill-defined and being set to 0.0 in labels with no true samples. Use `zero_division` parameter to control this behavior.\n",
            "  _warn_prf(average, modifier, f\"{metric.capitalize()} is\", len(result))\n",
            "/home/hericson/anaconda3/envs/my_projects/lib/python3.9/site-packages/sklearn/metrics/_classification.py:1565: UndefinedMetricWarning: Precision is ill-defined and being set to 0.0 in labels with no predicted samples. Use `zero_division` parameter to control this behavior.\n",
            "  _warn_prf(average, modifier, f\"{metric.capitalize()} is\", len(result))\n",
            "/home/hericson/anaconda3/envs/my_projects/lib/python3.9/site-packages/sklearn/metrics/_classification.py:1565: UndefinedMetricWarning: Recall is ill-defined and being set to 0.0 in labels with no true samples. Use `zero_division` parameter to control this behavior.\n",
            "  _warn_prf(average, modifier, f\"{metric.capitalize()} is\", len(result))\n"
          ]
        }
      ],
      "source": [
        "y_pred = logreg.predict(X_test)\n",
        "print(\"Acurácia:\", accuracy_score(y_test, y_pred))\n",
        "print(\"Relatório de Classificação:\\n\", classification_report(y_test, y_pred))"
      ]
    },
    {
      "cell_type": "markdown",
      "id": "09519e7a",
      "metadata": {
        "id": "09519e7a"
      },
      "source": [
        "## Matriz de Confusão"
      ]
    },
    {
      "cell_type": "code",
      "execution_count": 29,
      "id": "749bfdb6",
      "metadata": {
        "id": "749bfdb6",
        "outputId": "b0ac8ec2-9830-42a5-8c7c-83dfffe1a09b",
        "scrolled": false
      },
      "outputs": [
        {
          "data": {
            "image/png": "[encoded data removed]",
            "text/plain": [
              "<Figure size 640x480 with 2 Axes>"
            ]
          },
          "metadata": {},
          "output_type": "display_data"
        }
      ],
      "source": [
        "\n",
        "conf_matrix = confusion_matrix(y_test, y_pred)\n",
        "sns.heatmap(conf_matrix, annot=True, fmt=\"d\", cmap=\"Blues\", xticklabels=np.unique(y), yticklabels=np.unique(y))\n",
        "plt.title(\"Matriz de Confusão\")\n",
        "plt.xlabel(\"Previsto\")\n",
        "plt.ylabel(\"Real\")\n",
        "plt.show()\n"
      ]
    },
    {
      "cell_type": "markdown",
      "id": "e8057de0",
      "metadata": {
        "id": "e8057de0"
      },
      "source": [
        "### Análise da Matriz de Confusão\n",
        "\n",
        "#### O que é uma matriz de confusão?\n",
        "A matriz de confusão é uma tabela que resume o desempenho de um classificador comparando os rótulos reais com as previsões do modelo. Ela permite visualizar quais classes foram classificadas corretamente e quais foram confundidas.\n",
        "\n",
        "---\n",
        "\n",
        "### Interpretação da Matriz de Confusão\n",
        "#### Estrutura da Matriz\n",
        "- **Linhas**: Representam as classes reais (rótulos originais dos dados).\n",
        "- **Colunas**: Representam as classes previstas (previsões feitas pelo modelo).\n",
        "- **Diagonal Principal**: Valores corretamente classificados pelo modelo (previsões corretas).\n",
        "- **Fora da Diagonal Principal**: Valores incorretamente classificados (erros de classificação).\n",
        "\n",
        "---\n",
        "\n",
        "## Observações da Matriz\n",
        "1. **Classes Presentes**:\n",
        "   - A matriz mostra que há **7 classes** no total, numeradas de 1 a 7.\n",
        "\n",
        "2. **Diagonal Principal**:\n",
        "   - A diagonal principal contém os seguintes valores: [0, 1, 235, 496, 63, 0, 0].\n",
        "   - Esses números representam as previsões corretas feitas pelo modelo para cada classe.\n",
        "\n",
        "3. **Erros de Classificação**:\n",
        "   - Os valores fora da diagonal principal representam os erros de classificação.\n",
        "   - Por exemplo:\n",
        "     - **126 instâncias** da classe real `4` foram classificadas erroneamente como `3`.\n",
        "     - **45 instâncias** da classe real `4` foram classificadas como `5`.\n",
        "\n",
        "---\n",
        "\n",
        "3. **Classes com Maior Erro**:\n",
        "   - Classe `5` possui **195** casos que foram previstos com `4`\n",
        "   - Classe `4` tem muitos erros, com **126** instâncias previstas como `3`.\n",
        "   - Classe `3` também apresenta erros significativos, com **188** instâncias previstas como `4`.\n",
        "\n",
        "---\n",
        "\n",
        "## Conclusão\n",
        "A matriz de confusão mostra que o modelo apresenta um desempenho razoável, mas com erros consideráveis entre classes adjacentes (ex.: classe `3`,`4`.`6`). Para melhorar, algumas sugestões são:\n",
        "\n",
        "- Ajustar hiperparâmetros do modelo.\n",
        "- Balancear as classes no conjunto de dados.\n",
        "- Explorar diferentes classificadores.\n"
      ]
    },
    {
      "cell_type": "markdown",
      "id": "a8104b7b",
      "metadata": {
        "id": "a8104b7b"
      },
      "source": [
        "# Exemplo Dataset Iris com Árvore de Decisão"
      ]
    },
    {
      "cell_type": "code",
      "execution_count": 35,
      "id": "24db86f3",
      "metadata": {
        "id": "24db86f3",
        "outputId": "103f77e2-c383-474c-8f07-2bdece7b1fc3",
        "scrolled": true
      },
      "outputs": [
        {
          "name": "stdout",
          "output_type": "stream",
          "text": [
            "Acurácia: 0.9333333333333333\n",
            "\n",
            "Relatório de Classificação:\n",
            "               precision    recall  f1-score   support\n",
            "\n",
            "      setosa       1.00      1.00      1.00        15\n",
            "  versicolor       1.00      0.80      0.89        15\n",
            "   virginica       0.83      1.00      0.91        15\n",
            "\n",
            "    accuracy                           0.93        45\n",
            "   macro avg       0.94      0.93      0.93        45\n",
            "weighted avg       0.94      0.93      0.93        45\n",
            "\n"
          ]
        },
        {
          "data": {
            "image/png": "[encoded data removed]",
            "text/plain": [
              "<Figure size 640x480 with 2 Axes>"
            ]
          },
          "metadata": {},
          "output_type": "display_data"
        },
        {
          "name": "stdout",
          "output_type": "stream",
          "text": [
            "Árvore de Decisão:\n",
            "\n",
            "|--- petal length (cm) <= 2.45\n",
            "|   |--- class: 0\n",
            "|--- petal length (cm) >  2.45\n",
            "|   |--- petal width (cm) <= 1.55\n",
            "|   |   |--- petal length (cm) <= 4.95\n",
            "|   |   |   |--- class: 1\n",
            "|   |   |--- petal length (cm) >  4.95\n",
            "|   |   |   |--- class: 2\n",
            "|   |--- petal width (cm) >  1.55\n",
            "|   |   |--- petal width (cm) <= 1.70\n",
            "|   |   |   |--- sepal width (cm) <= 2.85\n",
            "|   |   |   |   |--- class: 1\n",
            "|   |   |   |--- sepal width (cm) >  2.85\n",
            "|   |   |   |   |--- class: 2\n",
            "|   |   |--- petal width (cm) >  1.70\n",
            "|   |   |   |--- petal length (cm) <= 4.85\n",
            "|   |   |   |   |--- sepal width (cm) <= 3.00\n",
            "|   |   |   |   |   |--- class: 2\n",
            "|   |   |   |   |--- sepal width (cm) >  3.00\n",
            "|   |   |   |   |   |--- class: 1\n",
            "|   |   |   |--- petal length (cm) >  4.85\n",
            "|   |   |   |   |--- class: 2\n",
            "\n",
            "\n",
            "Novos dados: [[5.1 3.5 1.4 0.2]\n",
            " [6.7 3.1 4.7 1.5]\n",
            " [7.2 3.6 6.1 2.5]]\n",
            "Previsões: ['setosa', 'versicolor', 'virginica']\n"
          ]
        }
      ],
      "source": [
        "import numpy as np\n",
        "import pandas as pd\n",
        "from sklearn.datasets import load_iris\n",
        "from sklearn.model_selection import train_test_split\n",
        "from sklearn.tree import DecisionTreeClassifier, export_text\n",
        "from sklearn.metrics import accuracy_score, classification_report, confusion_matrix\n",
        "import matplotlib.pyplot as plt\n",
        "import seaborn as sns\n",
        "\n",
        "# 1. Carregar o dataset\n",
        "iris = load_iris()\n",
        "X = iris.data\n",
        "y = iris.target\n",
        "\n",
        "# Criar um DataFrame para melhor visualização\n",
        "iris_df = pd.DataFrame(X, columns=iris.feature_names)\n",
        "iris_df['target'] = y\n",
        "\n",
        "#Objetivo: avaliar o desempenho do modelo, como? comparando a predição em dados NUNCA vistos na etapa de treino\n",
        "# 2. Dividir o dataset em treino e teste\n",
        "X_train, X_test, y_train, y_test = train_test_split(X, y, test_size=0.3, random_state=42, stratify=y)\n",
        "\n",
        "# O parâmetro 'stratify' do método train_test_split no scikit-learn é usado para garantir que a proporção das classes\n",
        "# no conjunto de treino e teste seja a mesma da distribuição original dos dados.\n",
        "# Isso é especialmente importante em problemas de classificação, onde o desbalanceamento entre as classes\n",
        "# pode afetar a avaliação do modelo.\n",
        "\n",
        "# 3. Treinar o modelo, Pra que? Com base nas características dos dados de: treino ele consiga reconhecer padrões entre as classes\n",
        "clf = DecisionTreeClassifier(random_state=42)\n",
        "clf.fit(X_train, y_train)\n",
        "\n",
        "# 4. Fazer previsões\n",
        "y_pred = clf.predict(X_test)\n",
        "\n",
        "# 5. Avaliar o modelo\n",
        "accuracy = accuracy_score(y_test, y_pred)\n",
        "print(\"Acurácia:\", accuracy)\n",
        "print(\"\\nRelatório de Classificação:\\n\", classification_report(y_test, y_pred, target_names=iris.target_names))\n",
        "\n",
        "# Matriz de Confusão\n",
        "conf_matrix = confusion_matrix(y_test, y_pred)\n",
        "sns.heatmap(conf_matrix, annot=True, fmt='d', cmap='Blues', xticklabels=iris.target_names, yticklabels=iris.target_names)\n",
        "plt.xlabel('Previsão')\n",
        "plt.ylabel('Verdadeiro')\n",
        "plt.title('Matriz de Confusão')\n",
        "plt.show()\n",
        "\n",
        "# 6. Visualizar a árvore de decisão\n",
        "print(\"Árvore de Decisão:\\n\")\n",
        "print(export_text(clf, feature_names=iris.feature_names))\n",
        "\n",
        "# 7. Fazer previsões em novos dados\n",
        "novos_dados = np.array([[5.1, 3.5, 1.4, 0.2], [6.7, 3.1, 4.7, 1.5], [7.2, 3.6, 6.1, 2.5]])\n",
        "predicoes = clf.predict(novos_dados)\n",
        "predicoes_labels = [iris.target_names[label] for label in predicoes]\n",
        "\n",
        "print(\"\\nNovos dados:\", novos_dados)\n",
        "print(\"Previsões:\", predicoes_labels)\n"
      ]
    },
    {
      "cell_type": "code",
      "execution_count": 66,
      "id": "fd72d0ae",
      "metadata": {},
      "outputs": [
        {
          "data": {
            "text/plain": [
              "(105, 4)"
            ]
          },
          "execution_count": 66,
          "metadata": {},
          "output_type": "execute_result"
        }
      ],
      "source": [
        "X_train.shape"
      ]
    },
    {
      "cell_type": "code",
      "execution_count": null,
      "id": "21150c8c",
      "metadata": {},
      "outputs": [
        {
          "data": {
            "text/plain": [
              "(1, 4)"
            ]
          },
          "execution_count": 74,
          "metadata": {},
          "output_type": "execute_result"
        }
      ],
      "source": [
        "nova_flor.reshape(1,4)"
      ]
    },
    {
      "cell_type": "code",
      "execution_count": 75,
      "id": "8b593882",
      "metadata": {},
      "outputs": [
        {
          "data": {
            "text/plain": [
              "array([2])"
            ]
          },
          "execution_count": 75,
          "metadata": {},
          "output_type": "execute_result"
        }
      ],
      "source": [
        "## Testar para uma nova flor:\n",
        "\n",
        "nova_flor = np.array([5.0, 2.1, 3.6, 8])\n",
        "\n",
        "## classificar a nova flor?\n",
        "\n",
        "clf.predict(nova_flor.reshape(-1,1).T)"
      ]
    },
    {
      "cell_type": "code",
      "execution_count": 39,
      "id": "f7d3ae79",
      "metadata": {},
      "outputs": [
        {
          "data": {
            "text/plain": [
              "(4,)"
            ]
          },
          "execution_count": 39,
          "metadata": {},
          "output_type": "execute_result"
        }
      ],
      "source": [
        "nova_flor.shape"
      ]
    },
    {
      "cell_type": "markdown",
      "id": "cde7ee16",
      "metadata": {
        "id": "cde7ee16"
      },
      "source": [
        "\n",
        "As árvores de decisão funcionam bem em problemas com mais de duas classes, incluindo problemas de classificação com três classes, como no caso do dataset Iris. Aqui está o porquê:\n",
        "\n",
        "1. Divisões Hierárquicas Multiclasse\n",
        "\n",
        "Árvores de decisão conseguem lidar com problemas de múltiplas classes ao realizar divisões binárias sucessivas baseadas nos critérios de impureza, como Gini ou Entropia.\n",
        "Cada divisão no nó considera todas as classes e tenta separar os dados da forma mais pura possível em relação às classes presentes.\n",
        "\n",
        "\n",
        "2. Critérios de Separação\n",
        "\n",
        "Os critérios de impureza, como Gini e Entropia, são projetados para lidar com várias classes simultaneamente. Eles avaliam a distribuição de probabilidades entre as classes em cada nó.\n",
        "No caso do Iris, cada nó é avaliado para maximizar a separação das três classes (setosa, versicolor, virginica).\n",
        "\n",
        "\n",
        "3. Simetria no Dataset Iris\n",
        "\n",
        "O dataset Iris é bem equilibrado (50 amostras por classe), o que facilita o aprendizado da árvore de decisão. Árvores de decisão podem ter problemas em datasets com classes desbalanceadas, mas isso não ocorre aqui.\n",
        "\n",
        "\n",
        "4. Interpretação Multiclasse\n",
        "\n",
        "Árvores de decisão fornecem previsões diretas para problemas multiclasse:\n",
        "Em cada folha, a árvore armazena a classe mais provável ou distribuições de probabilidade para todas as classes.\n",
        "Isso permite lidar com três ou mais classes de maneira natural.\n",
        "\n",
        "5. Exemplo Prático no Iris\n",
        "\n",
        "Para o Iris, a árvore identifica as classes baseando-se em características como o comprimento e largura das pétalas e sépalas. Essas características têm separações claras que facilitam a tarefa de classificação:\n",
        "\n",
        "- Setosa pode ser separada com base em apenas um atributo, como o comprimento da pétala.\n",
        "Para diferenciar versicolor e virginica, a árvore encontra combinações de outras características.\n",
        "\n",
        "6. Desempenho\n",
        "\n",
        "Em datasets pequenos como o Iris, árvores de decisão frequentemente alcançam resultados comparáveis ou superiores a outros métodos simples de classificação.\n",
        "No exemplo acima, o modelo apresentou alta precisão, mesmo com três classes.\n",
        "\n",
        "\n",
        "**Limitações e Cenários Difíceis**\n",
        "\n",
        "Embora as árvores de decisão sejam adequadas para problemas multiclasse como o Iris, algumas limitações podem surgir:\n",
        "\n",
        "- Overfitting: Árvores de decisão podem se ajustar demais aos dados de treino, especialmente com muitos atributos ou dados ruidosos. Fraco desempenho em classes desbalanceadas: Se uma classe tiver muito mais exemplos que as outras, a árvore pode favorecer essa classe. Esses problemas podem ser mitigados com técnicas como poda, Random Forests, ou ajustando hiperparâmetros.\n",
        "\n"
      ]
    }
  ],
  "metadata": {
    "colab": {
      "provenance": []
    },
    "kernelspec": {
      "display_name": "my_projects",
      "language": "python",
      "name": "python3"
    },
    "language_info": {
      "codemirror_mode": {
        "name": "ipython",
        "version": 3
      },
      "file_extension": ".py",
      "mimetype": "text/x-python",
      "name": "python",
      "nbconvert_exporter": "python",
      "pygments_lexer": "ipython3",
      "version": "3.9.16"
    }
  },
  "nbformat": 4,
  "nbformat_minor": 5
}
