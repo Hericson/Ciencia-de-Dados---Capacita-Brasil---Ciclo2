{
 "cells": [
  {
   "cell_type": "markdown",
   "id": "cd931f4f",
   "metadata": {
    "id": "cd931f4f"
   },
   "source": [
    "![aula05capa.png](./figuras/aula05capa.png)"
   ]
  },
  {
   "cell_type": "markdown",
   "id": "f4ac3b4a",
   "metadata": {
    "id": "f4ac3b4a"
   },
   "source": [
    "![aula05assunto.png](./figuras/aula05assunto.png)"
   ]
  },
  {
   "cell_type": "markdown",
   "id": "fd469445",
   "metadata": {
    "id": "fd469445"
   },
   "source": [
    "### Problema: Análise de Satisfação do Cliente para uma Empresa de e-commerce\n",
    "\n",
    "Imagine que você está trabalhando como cientista de dados para uma empresa de e-commerce e recebeu uma base de dados de uma pesquisa de satisfação do cliente. O objetivo é entender melhor o comportamento e a satisfação dos clientes, identificar padrões e realizar inferências sobre a população de clientes com base em uma amostra."
   ]
  },
  {
   "cell_type": "markdown",
   "id": "5995b750",
   "metadata": {
    "id": "5995b750"
   },
   "source": [
    "#### Perguntas para análise\n",
    "\n",
    "- Qual é a média e a variabilidade na satisfação dos clientes?\n",
    "- Existe uma diferença significativa na satisfação entre diferentes faixas etárias ou segmentos?\n",
    "- Podemos inferir que uma alta porcentagem de clientes está satisfeita?"
   ]
  },
  {
   "cell_type": "markdown",
   "id": "8887e339",
   "metadata": {
    "id": "8887e339"
   },
   "source": [
    "### 1. Bibliotecas Necessárias"
   ]
  },
  {
   "cell_type": "code",
   "execution_count": 2,
   "id": "981862fb",
   "metadata": {
    "id": "981862fb"
   },
   "outputs": [],
   "source": [
    "import numpy as np\n",
    "\n",
    "import pandas as pd\n",
    "\n",
    "import matplotlib.pyplot as plt\n",
    "\n",
    "import scipy.stats as stats\n"
   ]
  },
  {
   "cell_type": "markdown",
   "id": "c3258fbc",
   "metadata": {
    "id": "c3258fbc"
   },
   "source": [
    " 1.1 - numpy: É uma biblioteca fundamental para operações numéricas em Python, especialmente útil para trabalhar com arrays e matrizes multidimensionais. NumPy permite realizar operações matemáticas rápidas e eficientes, como somas, multiplicações, transformações e cálculos matemáticos complexos em grandes conjuntos de dados."
   ]
  },
  {
   "cell_type": "markdown",
   "id": "df4085f2",
   "metadata": {
    "id": "df4085f2"
   },
   "source": [
    " 1.2 - pandas: É uma biblioteca poderosa para manipulação e análise de dados. Ela oferece estruturas de dados como DataFrames e Series, que facilitam o armazenamento, manipulação e análise de dados tabulares. Pandas é amplamente utilizada em tarefas como limpeza, agregação, filtragem e visualização de dados."
   ]
  },
  {
   "cell_type": "markdown",
   "id": "acf1c023",
   "metadata": {
    "id": "acf1c023"
   },
   "source": [
    " 1.3 - matplotlib: Uma biblioteca de visualização de dados em Python, especialmente útil para criar gráficos como linhas, barras, dispersões e histogramas. Matplotlib permite personalizar gráficos de maneira detalhada e é amplamente utilizada para explorar visualmente conjuntos de dados e interpretar resultados.\n"
   ]
  },
  {
   "cell_type": "markdown",
   "id": "48ab5bcc",
   "metadata": {
    "id": "48ab5bcc"
   },
   "source": [
    "1.4 - sciPy: É uma biblioteca para cálculos científicos e matemáticos avançados. O módulo stats em particular fornece uma ampla gama de ferramentas estatísticas, como distribuições, testes estatísticos, análises de probabilidade e modelos de ajuste de dados, sendo ideal para análise estatística profunda e modelagem."
   ]
  },
  {
   "cell_type": "markdown",
   "id": "e08b6792",
   "metadata": {
    "id": "e08b6792"
   },
   "source": [
    "### 2. Estatística Descritiva para Entendimento dos Dados"
   ]
  },
  {
   "cell_type": "markdown",
   "id": "ccdf44a7",
   "metadata": {
    "id": "ccdf44a7"
   },
   "source": [
    "Carregar um conjunto de dados fictício com informações de satisfação dos clientes, idade, e segmentação de mercado."
   ]
  },
  {
   "cell_type": "code",
   "execution_count": 3,
   "id": "e68ebb4a",
   "metadata": {
    "id": "e68ebb4a"
   },
   "outputs": [
    {
     "data": {
      "text/html": [
       "<div>\n",
       "<style scoped>\n",
       "    .dataframe tbody tr th:only-of-type {\n",
       "        vertical-align: middle;\n",
       "    }\n",
       "\n",
       "    .dataframe tbody tr th {\n",
       "        vertical-align: top;\n",
       "    }\n",
       "\n",
       "    .dataframe thead th {\n",
       "        text-align: right;\n",
       "    }\n",
       "</style>\n",
       "<table border=\"1\" class=\"dataframe\">\n",
       "  <thead>\n",
       "    <tr style=\"text-align: right;\">\n",
       "      <th></th>\n",
       "      <th>idade</th>\n",
       "      <th>satisfacao</th>\n",
       "      <th>segmento</th>\n",
       "    </tr>\n",
       "  </thead>\n",
       "  <tbody>\n",
       "    <tr>\n",
       "      <th>0</th>\n",
       "      <td>60</td>\n",
       "      <td>1</td>\n",
       "      <td>C</td>\n",
       "    </tr>\n",
       "    <tr>\n",
       "      <th>1</th>\n",
       "      <td>57</td>\n",
       "      <td>1</td>\n",
       "      <td>C</td>\n",
       "    </tr>\n",
       "    <tr>\n",
       "      <th>2</th>\n",
       "      <td>32</td>\n",
       "      <td>1</td>\n",
       "      <td>A</td>\n",
       "    </tr>\n",
       "    <tr>\n",
       "      <th>3</th>\n",
       "      <td>51</td>\n",
       "      <td>1</td>\n",
       "      <td>A</td>\n",
       "    </tr>\n",
       "    <tr>\n",
       "      <th>4</th>\n",
       "      <td>53</td>\n",
       "      <td>2</td>\n",
       "      <td>C</td>\n",
       "    </tr>\n",
       "  </tbody>\n",
       "</table>\n",
       "</div>"
      ],
      "text/plain": [
       "   idade  satisfacao segmento\n",
       "0     60           1        C\n",
       "1     57           1        C\n",
       "2     32           1        A\n",
       "3     51           1        A\n",
       "4     53           2        C"
      ]
     },
     "execution_count": 3,
     "metadata": {},
     "output_type": "execute_result"
    }
   ],
   "source": [
    "data = pd.DataFrame({\n",
    "    'idade': np.random.randint(18, 70, size=200),\n",
    "    'satisfacao': np.random.randint(1, 6, size=200),  # Satisfação em escala de 1 a 5\n",
    "    'segmento': np.random.choice(['A', 'B', 'C'], size=200)\n",
    "})\n",
    "\n",
    "data.head()"
   ]
  },
  {
   "cell_type": "markdown",
   "id": "1929c7a3",
   "metadata": {
    "id": "1929c7a3"
   },
   "source": [
    "Neste exemplo, segmento representa uma classificação de clientes baseada em características ou perfis específicos que a empresa utiliza para entender melhor seu público. Em empresas de e-commerce, a segmentação de clientes é uma prática comum para identificar grupos com características e comportamentos similares, permitindo uma personalização mais eficaz das estratégias de marketing e atendimento.\n",
    "\n",
    "No caso da nossa análise, imagine que os segmentos (A, B e C) poderiam representar diferentes perfis de clientes, tais como:\n",
    "\n",
    "- Segmento A: Clientes frequentes, que compram mais de uma vez por mês.\n",
    "- Segmento B: Clientes sazonais, que compram em épocas específicas, como datas comemorativas.\n",
    "- Segmento C: Novos clientes ou clientes eventuais, que compraram poucas vezes.\n",
    "\n",
    "Esses segmentos ajudam a identificar se a satisfação varia conforme o perfil do cliente. Por exemplo, podemos investigar se clientes frequentes (Segmento A) estão mais satisfeitos em relação aos novos clientes (Segmento C). Isso é útil para a empresa entender e ajustar estratégias, como melhorar a experiência para novos clientes ou manter a fidelidade dos clientes frequentes.\n",
    "\n",
    "No dataset fictício, os segmentos são identificados com letras (A, B, C) para simplificação, mas na prática, eles poderiam ser identificados de várias maneiras, dependendo das características de cada grupo."
   ]
  },
  {
   "cell_type": "code",
   "execution_count": 24,
   "id": "48c69732",
   "metadata": {},
   "outputs": [
    {
     "data": {
      "text/html": [
       "<div>\n",
       "<style scoped>\n",
       "    .dataframe tbody tr th:only-of-type {\n",
       "        vertical-align: middle;\n",
       "    }\n",
       "\n",
       "    .dataframe tbody tr th {\n",
       "        vertical-align: top;\n",
       "    }\n",
       "\n",
       "    .dataframe thead th {\n",
       "        text-align: right;\n",
       "    }\n",
       "</style>\n",
       "<table border=\"1\" class=\"dataframe\">\n",
       "  <thead>\n",
       "    <tr style=\"text-align: right;\">\n",
       "      <th></th>\n",
       "      <th>idade</th>\n",
       "      <th>satisfacao</th>\n",
       "    </tr>\n",
       "  </thead>\n",
       "  <tbody>\n",
       "    <tr>\n",
       "      <th>count</th>\n",
       "      <td>60.000000</td>\n",
       "      <td>60.000000</td>\n",
       "    </tr>\n",
       "    <tr>\n",
       "      <th>mean</th>\n",
       "      <td>44.933333</td>\n",
       "      <td>3.050000</td>\n",
       "    </tr>\n",
       "    <tr>\n",
       "      <th>std</th>\n",
       "      <td>13.745713</td>\n",
       "      <td>1.442984</td>\n",
       "    </tr>\n",
       "    <tr>\n",
       "      <th>min</th>\n",
       "      <td>19.000000</td>\n",
       "      <td>1.000000</td>\n",
       "    </tr>\n",
       "    <tr>\n",
       "      <th>25%</th>\n",
       "      <td>32.750000</td>\n",
       "      <td>2.000000</td>\n",
       "    </tr>\n",
       "    <tr>\n",
       "      <th>50%</th>\n",
       "      <td>46.500000</td>\n",
       "      <td>3.000000</td>\n",
       "    </tr>\n",
       "    <tr>\n",
       "      <th>75%</th>\n",
       "      <td>55.000000</td>\n",
       "      <td>4.000000</td>\n",
       "    </tr>\n",
       "    <tr>\n",
       "      <th>max</th>\n",
       "      <td>69.000000</td>\n",
       "      <td>5.000000</td>\n",
       "    </tr>\n",
       "  </tbody>\n",
       "</table>\n",
       "</div>"
      ],
      "text/plain": [
       "           idade  satisfacao\n",
       "count  60.000000   60.000000\n",
       "mean   44.933333    3.050000\n",
       "std    13.745713    1.442984\n",
       "min    19.000000    1.000000\n",
       "25%    32.750000    2.000000\n",
       "50%    46.500000    3.000000\n",
       "75%    55.000000    4.000000\n",
       "max    69.000000    5.000000"
      ]
     },
     "execution_count": 24,
     "metadata": {},
     "output_type": "execute_result"
    }
   ],
   "source": [
    "mask_segment_a = data['segmento'] == 'A'\n",
    "data[mask_segment_a].describe()"
   ]
  },
  {
   "cell_type": "code",
   "execution_count": 26,
   "id": "42c8cf3a",
   "metadata": {},
   "outputs": [
    {
     "data": {
      "text/html": [
       "<div>\n",
       "<style scoped>\n",
       "    .dataframe tbody tr th:only-of-type {\n",
       "        vertical-align: middle;\n",
       "    }\n",
       "\n",
       "    .dataframe tbody tr th {\n",
       "        vertical-align: top;\n",
       "    }\n",
       "\n",
       "    .dataframe thead th {\n",
       "        text-align: right;\n",
       "    }\n",
       "</style>\n",
       "<table border=\"1\" class=\"dataframe\">\n",
       "  <thead>\n",
       "    <tr style=\"text-align: right;\">\n",
       "      <th></th>\n",
       "      <th>idade</th>\n",
       "      <th>satisfacao</th>\n",
       "      <th>segmento</th>\n",
       "    </tr>\n",
       "  </thead>\n",
       "  <tbody>\n",
       "    <tr>\n",
       "      <th>2</th>\n",
       "      <td>32</td>\n",
       "      <td>1</td>\n",
       "      <td>A</td>\n",
       "    </tr>\n",
       "    <tr>\n",
       "      <th>3</th>\n",
       "      <td>51</td>\n",
       "      <td>1</td>\n",
       "      <td>A</td>\n",
       "    </tr>\n",
       "    <tr>\n",
       "      <th>5</th>\n",
       "      <td>65</td>\n",
       "      <td>2</td>\n",
       "      <td>A</td>\n",
       "    </tr>\n",
       "    <tr>\n",
       "      <th>8</th>\n",
       "      <td>68</td>\n",
       "      <td>4</td>\n",
       "      <td>A</td>\n",
       "    </tr>\n",
       "    <tr>\n",
       "      <th>15</th>\n",
       "      <td>62</td>\n",
       "      <td>3</td>\n",
       "      <td>A</td>\n",
       "    </tr>\n",
       "  </tbody>\n",
       "</table>\n",
       "</div>"
      ],
      "text/plain": [
       "    idade  satisfacao segmento\n",
       "2      32           1        A\n",
       "3      51           1        A\n",
       "5      65           2        A\n",
       "8      68           4        A\n",
       "15     62           3        A"
      ]
     },
     "execution_count": 26,
     "metadata": {},
     "output_type": "execute_result"
    }
   ],
   "source": [
    "data[mask_segment_a].head()"
   ]
  },
  {
   "cell_type": "markdown",
   "id": "ac9b8184",
   "metadata": {
    "id": "ac9b8184"
   },
   "source": [
    "### 2.1  Medidas de Tendência Central"
   ]
  },
  {
   "cell_type": "code",
   "execution_count": 4,
   "id": "8072f318",
   "metadata": {},
   "outputs": [
    {
     "data": {
      "text/plain": [
       "(3.05, 1.442984195973923, 1, 5)"
      ]
     },
     "execution_count": 4,
     "metadata": {},
     "output_type": "execute_result"
    }
   ],
   "source": [
    "segmento_a = data[data['segmento'] == 'A']\n",
    "segmento_a['satisfacao'].mean(), segmento_a['satisfacao'].std(), segmento_a['satisfacao'].min(), segmento_a['satisfacao'].max()"
   ]
  },
  {
   "cell_type": "code",
   "execution_count": 33,
   "id": "b09d53b6",
   "metadata": {},
   "outputs": [
    {
     "data": {
      "text/plain": [
       "(22140.0, 38932.22829482022)"
      ]
     },
     "execution_count": 33,
     "metadata": {},
     "output_type": "execute_result"
    }
   ],
   "source": [
    "notas = np.array([2000, 2500, 3000, 3200,100000])\n",
    "np.mean(notas), np.std(notas)"
   ]
  },
  {
   "cell_type": "code",
   "execution_count": 32,
   "id": "303283a1",
   "metadata": {},
   "outputs": [
    {
     "data": {
      "text/plain": [
       "(7.0, 3.0237157840738176)"
      ]
     },
     "execution_count": 32,
     "metadata": {},
     "output_type": "execute_result"
    }
   ],
   "source": [
    "notas = np.array([1,10,6,5,8,10,9])\n",
    "np.mean(notas), np.std(notas)"
   ]
  },
  {
   "cell_type": "code",
   "execution_count": 6,
   "id": "92d0242f",
   "metadata": {},
   "outputs": [
    {
     "data": {
      "text/plain": [
       "(3, 4, 5)"
      ]
     },
     "execution_count": 6,
     "metadata": {},
     "output_type": "execute_result"
    }
   ],
   "source": [
    "#mediana\n",
    "low_values = np.max(sorted(segmento_a['satisfacao'])[0:33])\n",
    "median = sorted(segmento_a['satisfacao'])[34]\n",
    "high_values = np.max(sorted(segmento_a['satisfacao'])[33:])\n",
    "\n",
    "low_values, median, high_values"
   ]
  },
  {
   "cell_type": "code",
   "execution_count": 7,
   "id": "dd018e0c",
   "metadata": {},
   "outputs": [
    {
     "data": {
      "text/plain": [
       "(1, 3)"
      ]
     },
     "execution_count": 7,
     "metadata": {},
     "output_type": "execute_result"
    }
   ],
   "source": [
    "np.min(sorted(segmento_a['satisfacao'])[0:33]), np.max(sorted(segmento_a['satisfacao'])[0:33])"
   ]
  },
  {
   "cell_type": "code",
   "execution_count": 8,
   "id": "c2adb48e",
   "metadata": {},
   "outputs": [
    {
     "data": {
      "text/plain": [
       "(3, 5)"
      ]
     },
     "execution_count": 8,
     "metadata": {},
     "output_type": "execute_result"
    }
   ],
   "source": [
    "np.min(sorted(segmento_a['satisfacao'])[33:]), np.max(sorted(segmento_a['satisfacao'])[33:])"
   ]
  },
  {
   "cell_type": "code",
   "execution_count": 9,
   "id": "e6305786",
   "metadata": {},
   "outputs": [
    {
     "data": {
      "text/plain": [
       "3"
      ]
     },
     "execution_count": 9,
     "metadata": {},
     "output_type": "execute_result"
    }
   ],
   "source": [
    "np.max(low_values)"
   ]
  },
  {
   "cell_type": "markdown",
   "id": "b9d21976",
   "metadata": {
    "id": "b9d21976"
   },
   "source": [
    "Vamos calcular as medidas de tendência central para cada segmento de clientes (A, B e C). Essas medidas incluem a média, mediana e moda, que nos dão uma visão da satisfação central para cada grupo."
   ]
  },
  {
   "cell_type": "code",
   "execution_count": 34,
   "id": "4bca2881",
   "metadata": {
    "id": "4bca2881"
   },
   "outputs": [
    {
     "name": "stdout",
     "output_type": "stream",
     "text": [
      "Segmento A:\n",
      "  Média de Satisfação: 3.05\n",
      "  Mediana de Satisfação: 3.0\n",
      "  Moda de Satisfação: 4\n",
      "\n",
      "\n",
      "Segmento B:\n",
      "  Média de Satisfação: 3.1846153846153844\n",
      "  Mediana de Satisfação: 3.0\n",
      "  Moda de Satisfação: 5\n",
      "\n",
      "\n",
      "Segmento C:\n",
      "  Média de Satisfação: 2.92\n",
      "  Mediana de Satisfação: 3.0\n",
      "  Moda de Satisfação: 2\n",
      "\n",
      "\n"
     ]
    }
   ],
   "source": [
    "listaMedias = []\n",
    "listaMedianas = []\n",
    "listaModas = []\n",
    "segmentos = sorted(data['segmento'].unique()) # unique: é usado para obter todos os valores únicos (ou seja, sem duplicação)\n",
    "# Calcule a média, mediana e moda para cada segmento\n",
    "for segmento in segmentos :\n",
    "    segmento_data = data[data['segmento'] == segmento]['satisfacao']\n",
    "\n",
    "    media = segmento_data.mean()\n",
    "    mediana = segmento_data.median()\n",
    "    moda = segmento_data.mode().iloc[0]  # Usamos iloc para pegar o primeiro valor, caso haja múltiplas modas\n",
    "    listaMedias.append(media)\n",
    "    listaMedianas.append(mediana)\n",
    "    listaModas.append(moda)\n",
    "\n",
    "    print(f\"Segmento {segmento}:\")\n",
    "    print(f\"  Média de Satisfação: {media}\")\n",
    "    print(f\"  Mediana de Satisfação: {mediana}\")\n",
    "    print(f\"  Moda de Satisfação: {moda}\")\n",
    "    print(\"\\n\")"
   ]
  },
  {
   "cell_type": "markdown",
   "id": "6ad46e94",
   "metadata": {
    "id": "6ad46e94"
   },
   "source": [
    "![aula05media.png](./figuras/aula05media.png)"
   ]
  },
  {
   "cell_type": "markdown",
   "id": "01bb971a",
   "metadata": {
    "id": "01bb971a"
   },
   "source": [
    "![aula05mediapond.png](./figuras/aula05mediapond.png)"
   ]
  },
  {
   "cell_type": "markdown",
   "id": "1cf40354",
   "metadata": {
    "id": "1cf40354"
   },
   "source": [
    "![aula05mediana.png](./figuras/aula05mediana.png)"
   ]
  },
  {
   "cell_type": "markdown",
   "id": "12530197",
   "metadata": {
    "id": "12530197"
   },
   "source": [
    "![aula05moda.png](./figuras/aula05moda.png)"
   ]
  },
  {
   "cell_type": "code",
   "execution_count": 11,
   "id": "51116171",
   "metadata": {
    "id": "51116171"
   },
   "outputs": [
    {
     "data": {
      "text/html": [
       "<div>\n",
       "<style scoped>\n",
       "    .dataframe tbody tr th:only-of-type {\n",
       "        vertical-align: middle;\n",
       "    }\n",
       "\n",
       "    .dataframe tbody tr th {\n",
       "        vertical-align: top;\n",
       "    }\n",
       "\n",
       "    .dataframe thead th {\n",
       "        text-align: right;\n",
       "    }\n",
       "</style>\n",
       "<table border=\"1\" class=\"dataframe\">\n",
       "  <thead>\n",
       "    <tr style=\"text-align: right;\">\n",
       "      <th></th>\n",
       "      <th>Segmento</th>\n",
       "      <th>Média de Satisfação</th>\n",
       "      <th>Mediana de Satisfação</th>\n",
       "      <th>Moda de Satisfação</th>\n",
       "    </tr>\n",
       "  </thead>\n",
       "  <tbody>\n",
       "    <tr>\n",
       "      <th>0</th>\n",
       "      <td>A</td>\n",
       "      <td>3.050000</td>\n",
       "      <td>3.0</td>\n",
       "      <td>4</td>\n",
       "    </tr>\n",
       "    <tr>\n",
       "      <th>1</th>\n",
       "      <td>B</td>\n",
       "      <td>3.184615</td>\n",
       "      <td>3.0</td>\n",
       "      <td>5</td>\n",
       "    </tr>\n",
       "    <tr>\n",
       "      <th>2</th>\n",
       "      <td>C</td>\n",
       "      <td>2.920000</td>\n",
       "      <td>3.0</td>\n",
       "      <td>2</td>\n",
       "    </tr>\n",
       "  </tbody>\n",
       "</table>\n",
       "</div>"
      ],
      "text/plain": [
       "  Segmento  Média de Satisfação  Mediana de Satisfação  Moda de Satisfação\n",
       "0        A             3.050000                    3.0                   4\n",
       "1        B             3.184615                    3.0                   5\n",
       "2        C             2.920000                    3.0                   2"
      ]
     },
     "execution_count": 11,
     "metadata": {},
     "output_type": "execute_result"
    }
   ],
   "source": [
    "import pandas as pd\n",
    "\n",
    "# Dados dos segmentos\n",
    "dados_segmentos = {\n",
    "    \"Segmento\": segmentos,\n",
    "    \"Média de Satisfação\": listaMedias,\n",
    "    \"Mediana de Satisfação\": listaMedianas,\n",
    "    \"Moda de Satisfação\": listaModas\n",
    "}\n",
    "\n",
    "# Criando o DataFrame\n",
    "df_segmentos = pd.DataFrame(dados_segmentos)\n",
    "\n",
    "# Exibindo o DataFrame\n",
    "df_segmentos"
   ]
  },
  {
   "cell_type": "markdown",
   "id": "f4bc8e81",
   "metadata": {
    "id": "f4bc8e81"
   },
   "source": [
    "#### Discussão dos Resultados\n",
    "- Média:\n",
    "\n",
    "A média representa a satisfação média dos clientes dentro de cada segmento.\n",
    "Se, por exemplo, o Segmento A tiver uma média de satisfação mais alta do que os segmentos B e C, isso pode indicar que os clientes frequentes estão mais satisfeitos com o serviço.\n",
    "Uma média menor em algum segmento pode sugerir que esses clientes têm expectativas não atendidas ou experiências de compra menos satisfatórias.\n",
    "\n",
    "- Mediana:\n",
    "\n",
    "A mediana mostra o valor central da satisfação, o que ajuda a entender a pontuação mais comum de satisfação que divide o grupo em duas metades.\n",
    "Uma mediana próxima à média indica uma distribuição simétrica das satisfações.\n",
    "Se a mediana for muito diferente da média, pode haver outliers (extremos) no conjunto de dados, como clientes extremamente insatisfeitos ou extremamente satisfeitos, que influenciam a média.\n",
    "\n",
    "- Moda:\n",
    "\n",
    "A moda indica o valor de satisfação que ocorre com maior frequência.\n",
    "Por exemplo, se a moda do Segmento C for 3 (satisfação neutra), isso pode significar que muitos dos novos clientes têm uma experiência neutra ou média.\n",
    "A moda ajuda a identificar o nível de satisfação mais comum entre os clientes de cada segmento, sendo útil para observar padrões recorrentes."
   ]
  },
  {
   "cell_type": "code",
   "execution_count": 12,
   "id": "63c9e609",
   "metadata": {
    "id": "63c9e609"
   },
   "outputs": [
    {
     "data": {
      "text/plain": [
       "<Figure size 1000x600 with 0 Axes>"
      ]
     },
     "metadata": {},
     "output_type": "display_data"
    },
    {
     "data": {
      "image/png": "[encoded data removed]",
      "text/plain": [
       "<Figure size 640x480 with 1 Axes>"
      ]
     },
     "metadata": {},
     "output_type": "display_data"
    }
   ],
   "source": [
    "# Gerando o boxplot para visualizar a distribuição de satisfação por segmento\n",
    "plt.figure(figsize=(10, 6))\n",
    "data.boxplot(column='satisfacao', by='segmento', grid=False)\n",
    "plt.title(\"Distribuição de Satisfação por Segmento\")\n",
    "plt.suptitle(\"\")\n",
    "plt.xlabel(\"Segmento\")\n",
    "plt.ylabel(\"Nível de Satisfação\")\n",
    "plt.show()"
   ]
  },
  {
   "cell_type": "markdown",
   "id": "46524abc",
   "metadata": {
    "id": "46524abc"
   },
   "source": [
    "### 2.2  Medidas de Dispersão"
   ]
  },
  {
   "cell_type": "markdown",
   "id": "fec2d83f",
   "metadata": {
    "id": "fec2d83f"
   },
   "source": [
    "Para analisar a dispersão dos dados, vamos calcular as principais medidas de dispersão para cada segmento, o que nos ajuda a entender a variabilidade na satisfação dos clientes. Isso inclui amplitude, variância, desvio padrão e coeficiente de variação. Essas medidas oferecem uma visão mais aprofundada sobre o quanto as avaliações de satisfação se distanciam da média e da consistência dos valores."
   ]
  },
  {
   "cell_type": "markdown",
   "id": "ad51a128",
   "metadata": {
    "id": "ad51a128"
   },
   "source": [
    "- Amplitude:\n",
    "\n",
    "Amplitude é a diferença entre o valor máximo e mínimo, indicando a faixa total de variação na satisfação dos clientes.\n",
    "Nos ajuda a ver quão ampla é a variação nas notas, o que pode mostrar se há clientes muito insatisfeitos ou muito satisfeitos.\n",
    "\n",
    "- Variância:\n",
    "\n",
    "Variância é uma medida da média dos desvios ao quadrado da média.\n",
    "Quanto maior a variância, maior a dispersão dos valores em relação à média.\n",
    "É útil para entender a variabilidade geral, mas como está em unidades ao quadrado, muitas vezes usamos o desvio padrão para interpretação mais intuitiva.\n",
    "\n",
    "- Desvio Padrão:\n",
    "\n",
    "Desvio padrão é a raiz quadrada da variância e fornece uma medida de dispersão no mesmo nível dos dados originais.\n",
    "Indica o quão distante, em média, cada valor está da média.\n",
    "\n",
    "- Coeficiente de Variação (CV):\n",
    "\n",
    "Coeficiente de variação é calculado como o desvio padrão dividido pela média.\n",
    "É útil para comparar a variabilidade entre conjuntos de dados com médias diferentes, fornecendo uma medida relativa da dispersão.\n",
    "\n"
   ]
  },
  {
   "cell_type": "markdown",
   "id": "e61a6058",
   "metadata": {
    "id": "e61a6058"
   },
   "source": [
    "![aula05amplitude.png](./figuras/aula05amplitude.png)"
   ]
  },
  {
   "cell_type": "markdown",
   "id": "33763c94",
   "metadata": {
    "id": "33763c94"
   },
   "source": [
    "![aula05variancia.png](./figuras/aula05variancia.png)"
   ]
  },
  {
   "cell_type": "markdown",
   "id": "c7d61648",
   "metadata": {
    "id": "c7d61648"
   },
   "source": [
    "![aula05desvio.png](./figuras/aula05desvio.png)"
   ]
  },
  {
   "cell_type": "code",
   "execution_count": 38,
   "id": "895077a2",
   "metadata": {},
   "outputs": [
    {
     "data": {
      "text/plain": [
       "['A', 'B', 'C']"
      ]
     },
     "execution_count": 38,
     "metadata": {},
     "output_type": "execute_result"
    }
   ],
   "source": [
    "sorted(data['segmento'].unique())"
   ]
  },
  {
   "cell_type": "markdown",
   "id": "14ddc7b2",
   "metadata": {
    "id": "14ddc7b2"
   },
   "source": [
    "### Vamos calcular essas medidas para cada segmento usando Python:"
   ]
  },
  {
   "cell_type": "code",
   "execution_count": null,
   "id": "1b8e8a04",
   "metadata": {
    "id": "1b8e8a04"
   },
   "outputs": [
    {
     "data": {
      "text/html": [
       "<div>\n",
       "<style scoped>\n",
       "    .dataframe tbody tr th:only-of-type {\n",
       "        vertical-align: middle;\n",
       "    }\n",
       "\n",
       "    .dataframe tbody tr th {\n",
       "        vertical-align: top;\n",
       "    }\n",
       "\n",
       "    .dataframe thead th {\n",
       "        text-align: right;\n",
       "    }\n",
       "</style>\n",
       "<table border=\"1\" class=\"dataframe\">\n",
       "  <thead>\n",
       "    <tr style=\"text-align: right;\">\n",
       "      <th></th>\n",
       "      <th>Segmento</th>\n",
       "      <th>Amplitude</th>\n",
       "      <th>Variância</th>\n",
       "      <th>Desvio Padrão</th>\n",
       "      <th>Coeficiente de Variação</th>\n",
       "    </tr>\n",
       "  </thead>\n",
       "  <tbody>\n",
       "    <tr>\n",
       "      <th>0</th>\n",
       "      <td>A</td>\n",
       "      <td>4</td>\n",
       "      <td>2.082203</td>\n",
       "      <td>1.442984</td>\n",
       "      <td>0.473110</td>\n",
       "    </tr>\n",
       "    <tr>\n",
       "      <th>1</th>\n",
       "      <td>B</td>\n",
       "      <td>4</td>\n",
       "      <td>2.465385</td>\n",
       "      <td>1.570154</td>\n",
       "      <td>0.493044</td>\n",
       "    </tr>\n",
       "    <tr>\n",
       "      <th>2</th>\n",
       "      <td>C</td>\n",
       "      <td>4</td>\n",
       "      <td>2.290811</td>\n",
       "      <td>1.513542</td>\n",
       "      <td>0.518336</td>\n",
       "    </tr>\n",
       "  </tbody>\n",
       "</table>\n",
       "</div>"
      ],
      "text/plain": [
       "  Segmento  Amplitude  Variância  Desvio Padrão  Coeficiente de Variação\n",
       "0        A          4   2.082203       1.442984                 0.473110\n",
       "1        B          4   2.465385       1.570154                 0.493044\n",
       "2        C          4   2.290811       1.513542                 0.518336"
      ]
     },
     "execution_count": 13,
     "metadata": {},
     "output_type": "execute_result"
    }
   ],
   "source": [
    "# Filtrar dados por segmento e calcular medidas de dispersão\n",
    "medidas_dispersao = []\n",
    "\n",
    "for segmento in sorted(data['segmento'].unique()):\n",
    "    ## Filtra os dados por segmento\n",
    "    segmento_data = data[data['segmento'] == segmento]['satisfacao']\n",
    "\n",
    "    amplitude = segmento_data.max() - segmento_data.min() # max() retorna valor máximo e min() valor mínimo\n",
    "    variancia = segmento_data.var() # var() função para calcular a variancia\n",
    "    desvio_padrao = segmento_data.std() # std() função para caluclar o desvio padrão\n",
    "    coeficiente_variacao = desvio_padrao / segmento_data.mean() if segmento_data.mean() != 0 else 0\n",
    "\n",
    "    medidas_dispersao.append({\n",
    "        \"Segmento\": segmento,\n",
    "        \"Amplitude\": amplitude,\n",
    "        \"Variância\": variancia,\n",
    "        \"Desvio Padrão\": desvio_padrao,\n",
    "        \"Coeficiente de Variação\": coeficiente_variacao\n",
    "    })\n",
    "\n",
    "df_dispersao = pd.DataFrame(medidas_dispersao)\n",
    "\n",
    "# Exibindo o DataFrame com as medidas de dispersão\n",
    "df_dispersao\n"
   ]
  },
  {
   "cell_type": "markdown",
   "id": "8139b179",
   "metadata": {
    "id": "8139b179"
   },
   "source": [
    "### Após calcular essas medidas para cada segmento, podemos interpretar os resultados:\n",
    "\n",
    "- Amplitude: Se um segmento apresenta uma amplitude muito alta, isso indica uma grande variedade de opiniões dentro do grupo. Clientes com uma faixa ampla podem ter experiências de satisfação muito variáveis.\n",
    "\n",
    "\n",
    "- Variância e Desvio Padrão: Um desvio padrão ou variância alta mostra que há muita variabilidade nas avaliações. Isso pode indicar que a empresa precisa de estratégias para tornar a experiência de compra mais consistente para esse grupo. Segmentos com desvio padrão baixo têm avaliações mais próximas da média, sugerindo uma experiência mais uniforme.\n",
    "\n",
    "\n",
    "- Coeficiente de Variação: Esse valor permite comparar a dispersão entre segmentos de diferentes médias. Um coeficiente de variação alto indica maior variabilidade em relação à média de satisfação e pode significar que a experiência dos clientes é inconsistente."
   ]
  },
  {
   "cell_type": "markdown",
   "id": "6b8ee882",
   "metadata": {
    "id": "6b8ee882"
   },
   "source": [
    "## Para introduzir conceitos básicos de probabilidade no contexto da análise de satisfação dos clientes, vamos trabalhar com eventos, espaços amostrais e probabilidades associadas a diferentes cenários dentro dos segmentos de clientes."
   ]
  },
  {
   "cell_type": "markdown",
   "id": "dc831805",
   "metadata": {
    "id": "dc831805"
   },
   "source": [
    "### 3. Conceitos de Probabilidade Básica\n"
   ]
  },
  {
   "cell_type": "markdown",
   "id": "8ecda934",
   "metadata": {
    "id": "8ecda934"
   },
   "source": [
    "- Espaço Amostral (S):\n",
    "\n",
    "O espaço amostral representa o conjunto de todos os possíveis resultados.\n",
    "No nosso caso, o espaço amostral é composto por todas as avaliações de satisfação dos clientes para cada segmento. Se estamos analisando, por exemplo, a satisfação dos clientes do Segmento A, o espaço amostral\n",
    "(S) será o conjunto de todas as notas de satisfação dos clientes nesse segmento.\n",
    "\n",
    "\n",
    "- Eventos:\n",
    "\n",
    "Um evento é um subconjunto do espaço amostral. Por exemplo:\n",
    "\n",
    "###### Evento A: Um cliente do Segmento A deu uma nota maior que 3 (ou seja, está relativamente satisfeito).\n",
    "###### Evento B: Um cliente do Segmento B deu uma nota menor ou igual a 2 (indicando insatisfação).\n",
    "###### Evento C: Um cliente do Segmento C deu uma nota igual a 5 (máxima satisfação).\n",
    "\n",
    "Esses eventos podem ser definidos para responder a perguntas específicas sobre a satisfação dos clientes.\n",
    "\n",
    "- Probabilidade de um Evento:\n",
    "\n",
    "A probabilidade de um evento é a razão entre o número de resultados favoráveis ao evento e o número total de resultados no espaço amostral.\n",
    "Por exemplo, a probabilidade de um cliente do Segmento A dar uma nota maior que 3 (Evento A) é o número de clientes do Segmento A que deram nota maior que 3, dividido pelo número total de clientes no Segmento A."
   ]
  },
  {
   "cell_type": "code",
   "execution_count": 14,
   "id": "c3515265",
   "metadata": {},
   "outputs": [],
   "source": [
    "total_segment_A = data[data['segmento']== 'A'].shape[0]\n",
    "segment_A = data[data['segmento'] == 'A']\n",
    "mask_segment_A = data['segmento'] == 'A'\n",
    "mask_greater_than_3 = segment_A['satisfacao'] > 3"
   ]
  },
  {
   "cell_type": "code",
   "execution_count": 39,
   "id": "d0a07e97",
   "metadata": {},
   "outputs": [
    {
     "data": {
      "text/plain": [
       "'A probabilidade de um cliente do segmento A dar uma nota > 3 é de 43.33%'"
      ]
     },
     "execution_count": 39,
     "metadata": {},
     "output_type": "execute_result"
    }
   ],
   "source": [
    "# Total de clientes do segmento A que deram nota maior que 3 (Favoráveis)\n",
    "\n",
    "#Probabilidade (evento) = Num favoraveis / num espaço amostral\n",
    "num_favoraveis = segment_A[segment_A['satisfacao'] > 3].shape[0]\n",
    "\n",
    "## Quem é o meu espaço amostral pro segmento A? Todos os clientes do segmento A\n",
    "\n",
    "total_segment_A = data[data['segmento']== 'A'].shape[0]\n",
    "\n",
    "prob = num_favoraveis / total_segment_A\n",
    "f\"A probabilidade de um cliente do segmento A dar uma nota > 3 é de {prob * 100:.2f}%\"\n"
   ]
  },
  {
   "cell_type": "markdown",
   "id": "03bd25f5",
   "metadata": {
    "id": "03bd25f5"
   },
   "source": [
    "### Vamos calcular algumas probabilidades no contexto dos segmentos, usando os dados de satisfação."
   ]
  },
  {
   "cell_type": "code",
   "execution_count": 40,
   "id": "0c1a3e4b",
   "metadata": {
    "id": "0c1a3e4b"
   },
   "outputs": [
    {
     "name": "stdout",
     "output_type": "stream",
     "text": [
      "Probabilidade de um cliente do Segmento A dar uma nota maior que 3: 0.43\n",
      "Probabilidade de um cliente do Segmento B dar uma nota menor ou igual a 2: 0.40\n",
      "Probabilidade de um cliente do Segmento C dar uma nota igual a 5: 0.23\n"
     ]
    }
   ],
   "source": [
    "# Contagem do número total de avaliações em cada segmento\n",
    "total_A = len(data[data['segmento'] == 'A'])\n",
    "total_B = len(data[data['segmento'] == 'B'])\n",
    "total_C = len(data[data['segmento'] == 'C'])\n",
    "\n",
    "# Definindo eventos e calculando probabilidades\n",
    "\n",
    "# Evento A: Cliente do Segmento A deu uma nota maior que 3\n",
    "evento_A_favoraveis = len(data[(data['segmento'] == 'A') & (data['satisfacao'] > 3)])\n",
    "prob_evento_A = evento_A_favoraveis / total_A\n",
    "\n",
    "# Evento B: Cliente do Segmento B deu uma nota menor ou igual a 2\n",
    "evento_B_favoraveis = len(data[(data['segmento'] == 'B') & (data['satisfacao'] <= 2)])\n",
    "prob_evento_B = evento_B_favoraveis / total_B\n",
    "\n",
    "# Evento C: Cliente do Segmento C deu uma nota igual a 5\n",
    "evento_C_favoraveis = len(data[(data['segmento'] == 'C') & (data['satisfacao'] == 5)])\n",
    "prob_evento_C = evento_C_favoraveis / total_C\n",
    "\n",
    "# Exibindo as probabilidades\n",
    "print(f\"Probabilidade de um cliente do Segmento A dar uma nota maior que 3: {prob_evento_A:.2f}\")\n",
    "print(f\"Probabilidade de um cliente do Segmento B dar uma nota menor ou igual a 2: {prob_evento_B:.2f}\")\n",
    "print(f\"Probabilidade de um cliente do Segmento C dar uma nota igual a 5: {prob_evento_C:.2f}\")\n"
   ]
  },
  {
   "cell_type": "markdown",
   "id": "fe157630",
   "metadata": {
    "id": "fe157630"
   },
   "source": [
    "- Probabilidade de Satisfação Relativamente Alta no Segmento A (𝑃(𝐴)):\n",
    "\n",
    "Se a probabilidade de um cliente do Segmento A dar uma nota maior que 3 é, por exemplo, 0.60, isso indica que 60% dos clientes frequentes desse segmento tendem a avaliar o serviço como satisfatório ou muito satisfatório.\n",
    "Esse valor pode ser usado para avaliar se os clientes do Segmento A estão satisfeitos de maneira consistente.\n",
    "\n",
    "\n",
    "- Probabilidade de Insatisfação no Segmento B (𝑃(𝐵)):\n",
    "\n",
    "Se a probabilidade de um cliente do Segmento B dar uma nota de 2 ou menos é 0.30, isso indica que 30% dos clientes sazonais estão insatisfeitos.\n",
    "Essa informação pode ser útil para entender o nível de insatisfação e pensar em melhorias específicas para esses clientes.\n",
    "\n",
    "\n",
    "- Probabilidade de Máxima Satisfação no Segmento C (𝑃(𝐶)):\n",
    "\n",
    "Se a probabilidade de um cliente do Segmento C dar uma nota de 5 é 0.15, isso indica que 15% dos novos clientes estão extremamente satisfeitos com o serviço.\n",
    "Esse valor pode orientar a empresa a explorar o que agrada os clientes novos e tentar aumentar essa porcentagem."
   ]
  },
  {
   "cell_type": "markdown",
   "id": "72967959",
   "metadata": {
    "id": "72967959"
   },
   "source": [
    "###  Vamos estender a análise com o conceito de probabilidade condicional para fornecer uma visão mais detalhada de como certos eventos dependem de outros no contexto dos segmentos de satisfação dos clientes."
   ]
  },
  {
   "cell_type": "markdown",
   "id": "e9ac50d6",
   "metadata": {
    "id": "e9ac50d6"
   },
   "source": [
    "![aula05probcondicional.png](./figuras/aula05probcondicional.png)"
   ]
  },
  {
   "cell_type": "markdown",
   "id": "987426eb",
   "metadata": {
    "id": "987426eb"
   },
   "source": [
    "### Essa definição é útil para calcular a probabilidade de satisfação específica entre clientes que já pertencem a um segmento particular."
   ]
  },
  {
   "cell_type": "markdown",
   "id": "6864e851",
   "metadata": {
    "id": "6864e851"
   },
   "source": [
    "Vamos usar a probabilidade condicional para responder a perguntas mais específicas. Considerando os segmentos A, B e C e as notas de satisfação dos clientes, podemos definir e calcular probabilidades condicionais, como:\n",
    "\n",
    "- Probabilidade de um cliente do Segmento A estar satisfeito (nota maior que 3), dado que ele pertence ao Segmento A.\n",
    "- Probabilidade de um cliente do Segmento B estar insatisfeito (nota menor ou igual a 2), dado que ele pertence ao Segmento B.\n",
    "- Probabilidade de um cliente do Segmento C estar extremamente satisfeito (nota igual a 5), dado que ele pertence ao Segmento C.\n",
    "\n",
    "\n",
    "Esses cálculos já foram feitos como probabilidades simples porque cada cálculo está condicionado ao segmento do cliente, ou seja, ao evento \"ser do Segmento A\", \"ser do Segmento B\", etc.\n",
    "\n",
    "No entanto, podemos explorar mais o conceito calculando uma probabilidade condicional de dupla:\n",
    "\n",
    "- Por exemplo, se quisermos calcular a probabilidade de que um cliente pertence ao Segmento A, dado que ele deu uma nota maior que 3."
   ]
  },
  {
   "cell_type": "markdown",
   "id": "52b398d6",
   "metadata": {
    "id": "52b398d6"
   },
   "source": [
    "Para calcular essa probabilidade, precisamos:\n",
    "\n",
    "Evento A: Cliente pertence ao Segmento A\n",
    "\n",
    "Evento B: Cliente deu uma nota maior que 3\n",
    "\n",
    "- Contar o número de clientes que deram nota maior que 3 e estão no Segmento A (𝑃(𝐴 ∩ 𝐵)).\n",
    "- Dividir pelo total de clientes que deram nota maior que 3 (𝑃(𝐵))."
   ]
  },
  {
   "cell_type": "code",
   "execution_count": 41,
   "id": "2e186118",
   "metadata": {
    "id": "2e186118"
   },
   "outputs": [
    {
     "name": "stdout",
     "output_type": "stream",
     "text": [
      "Probabilidade de um cliente ser do Segmento A dado que ele deu uma nota maior que 3: 0.29\n"
     ]
    }
   ],
   "source": [
    "# Evento: Cliente deu uma nota maior que 3 (Evento B)\n",
    "total_nota_maior_3 = len(data[data['satisfacao'] > 3])\n",
    "\n",
    "# Evento: Cliente pertence ao Segmento A e deu uma nota maior que 3 (Evento A ∩ B)\n",
    "evento_A_e_B = len(data[(data['segmento'] == 'A') & (data['satisfacao'] > 3)])\n",
    "\n",
    "# Probabilidade condicional: Cliente pertence ao Segmento A dado que deu nota maior que 3\n",
    "prob_A_dado_nota_maior_3 = evento_A_e_B / total_nota_maior_3\n",
    "\n",
    "print(f\"Probabilidade de um cliente ser do Segmento A dado que ele deu uma nota maior que 3: {prob_A_dado_nota_maior_3:.2f}\")\n"
   ]
  },
  {
   "cell_type": "markdown",
   "id": "e3f0a3f3",
   "metadata": {
    "id": "e3f0a3f3"
   },
   "source": [
    "#### Interpretação dos Resultados\n",
    "\n",
    "Suponha que o resultado seja, por exemplo, 0.35 ou 35%. Isso significa que, entre todos os clientes que deram uma nota maior que 3, 35% pertencem ao Segmento A.\n",
    "\n",
    "Esse tipo de probabilidade condicional permite respostas para perguntas como:\n",
    "\n",
    "\"Qual a probabilidade de um cliente estar no Segmento A, se ele está satisfeito?\" Esse insight é útil para entender qual segmento tem uma maior proporção de clientes satisfeitos em relação aos outros.\n",
    "\n",
    "Esse conceito permite uma análise mais profunda, especialmente se quisermos ver a satisfação relativa entre diferentes grupos ou tipos de eventos."
   ]
  },
  {
   "cell_type": "markdown",
   "id": "092a6c91",
   "metadata": {
    "id": "092a6c91"
   },
   "source": [
    "### 4. Inferência Estatística\n"
   ]
  },
  {
   "cell_type": "markdown",
   "id": "62df9044",
   "metadata": {
    "id": "62df9044"
   },
   "source": [
    "Para aplicar o conceito de inferência estatística ao problema da satisfação dos clientes, vamos explorar duas ferramentas comuns:\n",
    "\n",
    "- intervalos de confiança\n",
    "- testes de hipóteses.\n",
    "\n",
    "Essas técnicas nos permitem fazer afirmações sobre a população de clientes com base nos dados da amostra de cada segmento, ajudando a generalizar os insights obtidos a partir dos dados observados."
   ]
  },
  {
   "cell_type": "markdown",
   "id": "6e879aeb",
   "metadata": {
    "id": "6e879aeb"
   },
   "source": [
    "### 4.1. Intervalos Confiança"
   ]
  },
  {
   "cell_type": "markdown",
   "id": "0aa4f47f",
   "metadata": {
    "id": "0aa4f47f"
   },
   "source": [
    "Um intervalo de confiança nos dá uma faixa de valores na qual acreditamos que a média real da população (satisfação média) provavelmente se encontra. Em nosso caso, podemos calcular o intervalo de confiança para a média de satisfação de cada segmento, o que ajuda a entender a satisfação esperada da população de clientes de cada grupo."
   ]
  },
  {
   "cell_type": "markdown",
   "id": "a43bb40d",
   "metadata": {
    "id": "a43bb40d"
   },
   "source": [
    "![aula05_intervaloDeConfian%C3%A7a.png](./figuras/aula05_intervaloDeConfian%C3%A7a.png)"
   ]
  },
  {
   "cell_type": "markdown",
   "id": "c6a3b628",
   "metadata": {
    "id": "c6a3b628"
   },
   "source": [
    "![aula05_valorZ.png](./figuras/aula05_valorZ.png)"
   ]
  },
  {
   "cell_type": "markdown",
   "id": "2e0e26bd",
   "metadata": {
    "id": "2e0e26bd"
   },
   "source": [
    "Para calcular o intervalo de confiança de 95% para cada segmento:"
   ]
  },
  {
   "cell_type": "code",
   "execution_count": 42,
   "id": "dce9714a",
   "metadata": {
    "id": "dce9714a"
   },
   "outputs": [
    {
     "data": {
      "text/html": [
       "<div>\n",
       "<style scoped>\n",
       "    .dataframe tbody tr th:only-of-type {\n",
       "        vertical-align: middle;\n",
       "    }\n",
       "\n",
       "    .dataframe tbody tr th {\n",
       "        vertical-align: top;\n",
       "    }\n",
       "\n",
       "    .dataframe thead th {\n",
       "        text-align: right;\n",
       "    }\n",
       "</style>\n",
       "<table border=\"1\" class=\"dataframe\">\n",
       "  <thead>\n",
       "    <tr style=\"text-align: right;\">\n",
       "      <th></th>\n",
       "      <th>Segmento</th>\n",
       "      <th>Intervalo de Confiança Inferior</th>\n",
       "      <th>Intervalo de Confiança Superior</th>\n",
       "    </tr>\n",
       "  </thead>\n",
       "  <tbody>\n",
       "    <tr>\n",
       "      <th>0</th>\n",
       "      <td>A</td>\n",
       "      <td>2.684881</td>\n",
       "      <td>3.415119</td>\n",
       "    </tr>\n",
       "    <tr>\n",
       "      <th>1</th>\n",
       "      <td>B</td>\n",
       "      <td>2.802905</td>\n",
       "      <td>3.566326</td>\n",
       "    </tr>\n",
       "    <tr>\n",
       "      <th>2</th>\n",
       "      <td>C</td>\n",
       "      <td>2.577459</td>\n",
       "      <td>3.262541</td>\n",
       "    </tr>\n",
       "  </tbody>\n",
       "</table>\n",
       "</div>"
      ],
      "text/plain": [
       "  Segmento  Intervalo de Confiança Inferior  Intervalo de Confiança Superior\n",
       "0        A                         2.684881                         3.415119\n",
       "1        B                         2.802905                         3.566326\n",
       "2        C                         2.577459                         3.262541"
      ]
     },
     "execution_count": 42,
     "metadata": {},
     "output_type": "execute_result"
    }
   ],
   "source": [
    "from scipy import stats\n",
    "import numpy as np\n",
    "\n",
    "# Criando uma função para calcular intervalo de confiança de 95%\n",
    "def intervalo_de_confianca(media, desvio_padrao, n, nivel=0.95):\n",
    "    z = stats.norm.ppf(1 - (1 - nivel) / 2)  # valor crítico para 95% de confiança\n",
    "    margem_erro = z * (desvio_padrao / np.sqrt(n))\n",
    "    return media - margem_erro, media + margem_erro\n",
    "\n",
    "# Calculando intervalo de confiança para cada segmento\n",
    "resultados_ic = []\n",
    "\n",
    "for segmento in sorted(data['segmento'].unique()):\n",
    "    segmento_data = data[data['segmento'] == segmento]['satisfacao']\n",
    "    media = segmento_data.mean()\n",
    "    desvio_padrao = segmento_data.std()\n",
    "    n = len(segmento_data)\n",
    "    ic_inferior, ic_superior = intervalo_de_confianca(media, desvio_padrao, n)\n",
    "\n",
    "    resultados_ic.append({\n",
    "        \"Segmento\": segmento,\n",
    "        \"Intervalo de Confiança Inferior\": ic_inferior,\n",
    "        \"Intervalo de Confiança Superior\": ic_superior\n",
    "    })\n",
    "\n",
    "# Exibindo os resultados\n",
    "df_ic = pd.DataFrame(resultados_ic)\n",
    "df_ic\n"
   ]
  },
  {
   "cell_type": "markdown",
   "id": "365e0fd6",
   "metadata": {
    "id": "365e0fd6"
   },
   "source": [
    "##### Interpretação dos Resultados do Intervalo de Confiança"
   ]
  },
  {
   "cell_type": "markdown",
   "id": "920a46cd",
   "metadata": {
    "id": "920a46cd"
   },
   "source": [
    "Suponha que os intervalos de confiança para o Segmento A sejam (2.8, 3.3):\n",
    "\n",
    "Isso significa que, com 95% de confiança, a média de satisfação para a população do Segmento A está entre 2.8 e 3.3.\n",
    "\n",
    "Se o intervalo de confiança não incluir um valor de satisfação desejável (por exemplo, maior que 4), isso indica que a satisfação média da população de clientes desse segmento provavelmente não está em um nível alto."
   ]
  },
  {
   "cell_type": "markdown",
   "id": "52620290",
   "metadata": {
    "id": "52620290"
   },
   "source": [
    "### 4.2. Teste de Hipóteses"
   ]
  },
  {
   "cell_type": "markdown",
   "id": "a1ae5532",
   "metadata": {
    "id": "a1ae5532"
   },
   "source": [
    "Para entender se há uma diferença significativa entre a média de satisfação dos segmentos, podemos usar um teste de hipóteses. Neste caso, vamos verificar se a satisfação média de dois segmentos é significativamente diferente."
   ]
  },
  {
   "cell_type": "markdown",
   "id": "44836c39",
   "metadata": {
    "id": "44836c39"
   },
   "source": [
    "Para entender se há uma diferença significativa entre a média de satisfação dos segmentos, podemos usar um teste de hipóteses. Neste caso, vamos verificar se a satisfação média de dois segmentos é significativamente diferente.\n"
   ]
  },
  {
   "cell_type": "markdown",
   "id": "5a07d80d",
   "metadata": {
    "id": "5a07d80d"
   },
   "source": [
    "###### Exemplo de Hipótese\n",
    "\n",
    "Vamos testar se há uma diferença significativa entre a média de satisfação dos Segmentos A e B.\n",
    "\n",
    "- Hipótese Nula (H0): A média de satisfação do Segmento A é igual à do Segmento B.\n",
    "- Hipótese Alternativa (H1): A média de satisfação do Segmento A é diferente da do Segmento B.\n",
    "\n",
    "Usamos o teste t para duas amostras independentes para comparar as médias dos dois segmentos."
   ]
  },
  {
   "cell_type": "code",
   "execution_count": 43,
   "id": "22aae150",
   "metadata": {
    "id": "22aae150"
   },
   "outputs": [
    {
     "name": "stdout",
     "output_type": "stream",
     "text": [
      "Estatística t: -0.50\n",
      "Valor-p: 0.6195\n"
     ]
    }
   ],
   "source": [
    "# Definindo os dados para os dois segmentos\n",
    "satisfacao_A = data[data['segmento'] == 'A']['satisfacao']\n",
    "satisfacao_B = data[data['segmento'] == 'B']['satisfacao']\n",
    "\n",
    "# Realizando o teste t\n",
    "t_stat, p_value = stats.ttest_ind(satisfacao_A, satisfacao_B)\n",
    "\n",
    "# Exibindo os resultados\n",
    "print(f\"Estatística t: {t_stat:.2f}\")\n",
    "print(f\"Valor-p: {p_value:.4f}\")\n"
   ]
  },
  {
   "cell_type": "markdown",
   "id": "d4f9f9bc",
   "metadata": {
    "id": "d4f9f9bc"
   },
   "source": [
    "##### Interpretação dos Resultados do Teste de Hipóteses"
   ]
  },
  {
   "cell_type": "markdown",
   "id": "a8187b75",
   "metadata": {
    "id": "a8187b75"
   },
   "source": [
    "Estatística t: O valor da estatística t indica o quão distante a média dos Segmentos A e B está uma da outra, em termos das variabilidades das amostras.\n",
    "\n",
    "- Valor-p: O valor-p indica a probabilidade de observarmos uma diferença tão extrema entre as médias das amostras, assumindo que a hipótese nula é verdadeira.\n",
    "\n",
    "Se o valor-p for menor que o nível de significância (geralmente 0.05 para um teste de 95% de confiança), rejeitamos a hipótese nula. Isso indica que existe uma diferença estatisticamente significativa entre a média de satisfação dos dois segmentos.\n",
    "\n",
    "Por exemplo, se obtivermos:\n",
    "\n",
    "Estatística t: 2.5\n",
    "Valor-p: 0.02\n",
    "\n",
    "\n",
    "Neste caso, como o valor-p (0.02) é menor que 0.05, rejeitamos a hipótese nula e concluímos que existe uma diferença significativa na satisfação média entre os clientes dos Segmentos A e B.\n",
    "\n"
   ]
  },
  {
   "cell_type": "markdown",
   "id": "b672868f",
   "metadata": {
    "id": "b672868f"
   },
   "source": [
    "##### Usando inferência estatística, conseguimos fazer afirmações sobre a população com base nas amostras.\n",
    "\n",
    "Nesse contexto:\n",
    "\n",
    "Intervalos de confiança ajudam a entender a faixa provável da satisfação média para cada segmento, fornecendo insights sobre a satisfação esperada dos clientes de cada grupo.\n",
    "\n",
    "Testes de hipóteses permitem verificar se há diferenças significativas entre os segmentos, orientando decisões sobre onde focar melhorias na satisfação.\n",
    "\n",
    "Essas ferramentas são fundamentais para tomar decisões com base em dados, generalizando insights para a população e guiando estratégias de satisfação direcionadas para cada grupo de clientes."
   ]
  }
 ],
 "metadata": {
  "colab": {
   "provenance": []
  },
  "kernelspec": {
   "display_name": "my_projects",
   "language": "python",
   "name": "python3"
  },
  "language_info": {
   "codemirror_mode": {
    "name": "ipython",
    "version": 3
   },
   "file_extension": ".py",
   "mimetype": "text/x-python",
   "name": "python",
   "nbconvert_exporter": "python",
   "pygments_lexer": "ipython3",
   "version": "3.9.16"
  }
 },
 "nbformat": 4,
 "nbformat_minor": 5
}
