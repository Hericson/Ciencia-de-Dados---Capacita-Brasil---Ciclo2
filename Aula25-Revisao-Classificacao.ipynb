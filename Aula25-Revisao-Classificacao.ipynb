{
 "cells": [
  {
   "cell_type": "code",
   "execution_count": 2,
   "metadata": {},
   "outputs": [],
   "source": [
    "import numpy as np\n",
    "import pandas as pd\n",
    "import matplotlib.pyplot as plt\n",
    "import seaborn as sns"
   ]
  },
  {
   "cell_type": "markdown",
   "metadata": {},
   "source": [
    "## Projeto de Classificação"
   ]
  },
  {
   "cell_type": "code",
   "execution_count": 3,
   "metadata": {},
   "outputs": [],
   "source": [
    "## Informações de pacientes, o objetivo é classificar em doente ou saudável\n",
    "\n",
    "n_persons = 10000\n",
    "#0: Saudável\n",
    "#1: Doente\n",
    "\n",
    "data = {\n",
    "    'Idade': np.random.randint(20, 80, n_persons),\n",
    "    'IMC': np.random.uniform(10,40, n_persons),\n",
    "    'Nivel de Glicose': np.random.uniform(70, 200, n_persons),\n",
    "    'Pressao': np.random.uniform(60, 80, n_persons),\n",
    "    'Temperatura': np.random.uniform(35, 40, n_persons),\n",
    "    'Estado': np.random.choice([0,1], size=n_persons, p=[0.5, 0.5])\n",
    "}"
   ]
  },
  {
   "cell_type": "code",
   "execution_count": 4,
   "metadata": {},
   "outputs": [
    {
     "data": {
      "text/html": [
       "<div>\n",
       "<style scoped>\n",
       "    .dataframe tbody tr th:only-of-type {\n",
       "        vertical-align: middle;\n",
       "    }\n",
       "\n",
       "    .dataframe tbody tr th {\n",
       "        vertical-align: top;\n",
       "    }\n",
       "\n",
       "    .dataframe thead th {\n",
       "        text-align: right;\n",
       "    }\n",
       "</style>\n",
       "<table border=\"1\" class=\"dataframe\">\n",
       "  <thead>\n",
       "    <tr style=\"text-align: right;\">\n",
       "      <th></th>\n",
       "      <th>Idade</th>\n",
       "      <th>IMC</th>\n",
       "      <th>Nivel de Glicose</th>\n",
       "      <th>Pressao</th>\n",
       "      <th>Temperatura</th>\n",
       "      <th>Estado</th>\n",
       "    </tr>\n",
       "  </thead>\n",
       "  <tbody>\n",
       "    <tr>\n",
       "      <th>0</th>\n",
       "      <td>69</td>\n",
       "      <td>29.320303</td>\n",
       "      <td>101.261006</td>\n",
       "      <td>78.148408</td>\n",
       "      <td>37.916689</td>\n",
       "      <td>0</td>\n",
       "    </tr>\n",
       "    <tr>\n",
       "      <th>1</th>\n",
       "      <td>43</td>\n",
       "      <td>34.293437</td>\n",
       "      <td>123.727623</td>\n",
       "      <td>66.596135</td>\n",
       "      <td>39.571746</td>\n",
       "      <td>0</td>\n",
       "    </tr>\n",
       "    <tr>\n",
       "      <th>2</th>\n",
       "      <td>43</td>\n",
       "      <td>25.452867</td>\n",
       "      <td>182.028936</td>\n",
       "      <td>77.159928</td>\n",
       "      <td>39.228792</td>\n",
       "      <td>0</td>\n",
       "    </tr>\n",
       "    <tr>\n",
       "      <th>3</th>\n",
       "      <td>70</td>\n",
       "      <td>22.488519</td>\n",
       "      <td>106.632363</td>\n",
       "      <td>66.358194</td>\n",
       "      <td>35.755524</td>\n",
       "      <td>0</td>\n",
       "    </tr>\n",
       "    <tr>\n",
       "      <th>4</th>\n",
       "      <td>29</td>\n",
       "      <td>26.479423</td>\n",
       "      <td>119.997291</td>\n",
       "      <td>79.916268</td>\n",
       "      <td>36.881797</td>\n",
       "      <td>1</td>\n",
       "    </tr>\n",
       "    <tr>\n",
       "      <th>...</th>\n",
       "      <td>...</td>\n",
       "      <td>...</td>\n",
       "      <td>...</td>\n",
       "      <td>...</td>\n",
       "      <td>...</td>\n",
       "      <td>...</td>\n",
       "    </tr>\n",
       "    <tr>\n",
       "      <th>9995</th>\n",
       "      <td>63</td>\n",
       "      <td>32.999305</td>\n",
       "      <td>143.870482</td>\n",
       "      <td>72.637372</td>\n",
       "      <td>39.160586</td>\n",
       "      <td>0</td>\n",
       "    </tr>\n",
       "    <tr>\n",
       "      <th>9996</th>\n",
       "      <td>42</td>\n",
       "      <td>19.014935</td>\n",
       "      <td>120.513067</td>\n",
       "      <td>60.333602</td>\n",
       "      <td>38.659672</td>\n",
       "      <td>0</td>\n",
       "    </tr>\n",
       "    <tr>\n",
       "      <th>9997</th>\n",
       "      <td>52</td>\n",
       "      <td>26.207753</td>\n",
       "      <td>177.342740</td>\n",
       "      <td>70.112160</td>\n",
       "      <td>37.510688</td>\n",
       "      <td>0</td>\n",
       "    </tr>\n",
       "    <tr>\n",
       "      <th>9998</th>\n",
       "      <td>71</td>\n",
       "      <td>22.448048</td>\n",
       "      <td>183.915055</td>\n",
       "      <td>75.905681</td>\n",
       "      <td>39.953611</td>\n",
       "      <td>1</td>\n",
       "    </tr>\n",
       "    <tr>\n",
       "      <th>9999</th>\n",
       "      <td>59</td>\n",
       "      <td>25.154715</td>\n",
       "      <td>110.832198</td>\n",
       "      <td>79.976950</td>\n",
       "      <td>37.316430</td>\n",
       "      <td>0</td>\n",
       "    </tr>\n",
       "  </tbody>\n",
       "</table>\n",
       "<p>10000 rows × 6 columns</p>\n",
       "</div>"
      ],
      "text/plain": [
       "      Idade        IMC  Nivel de Glicose    Pressao  Temperatura  Estado\n",
       "0        69  29.320303        101.261006  78.148408    37.916689       0\n",
       "1        43  34.293437        123.727623  66.596135    39.571746       0\n",
       "2        43  25.452867        182.028936  77.159928    39.228792       0\n",
       "3        70  22.488519        106.632363  66.358194    35.755524       0\n",
       "4        29  26.479423        119.997291  79.916268    36.881797       1\n",
       "...     ...        ...               ...        ...          ...     ...\n",
       "9995     63  32.999305        143.870482  72.637372    39.160586       0\n",
       "9996     42  19.014935        120.513067  60.333602    38.659672       0\n",
       "9997     52  26.207753        177.342740  70.112160    37.510688       0\n",
       "9998     71  22.448048        183.915055  75.905681    39.953611       1\n",
       "9999     59  25.154715        110.832198  79.976950    37.316430       0\n",
       "\n",
       "[10000 rows x 6 columns]"
      ]
     },
     "execution_count": 4,
     "metadata": {},
     "output_type": "execute_result"
    }
   ],
   "source": [
    "df = pd.DataFrame(data) #Convertendo dicionário para dataframe\n",
    "df"
   ]
  },
  {
   "cell_type": "code",
   "execution_count": 5,
   "metadata": {},
   "outputs": [
    {
     "data": {
      "text/html": [
       "<div>\n",
       "<style scoped>\n",
       "    .dataframe tbody tr th:only-of-type {\n",
       "        vertical-align: middle;\n",
       "    }\n",
       "\n",
       "    .dataframe tbody tr th {\n",
       "        vertical-align: top;\n",
       "    }\n",
       "\n",
       "    .dataframe thead th {\n",
       "        text-align: right;\n",
       "    }\n",
       "</style>\n",
       "<table border=\"1\" class=\"dataframe\">\n",
       "  <thead>\n",
       "    <tr style=\"text-align: right;\">\n",
       "      <th></th>\n",
       "      <th>Idade</th>\n",
       "      <th>IMC</th>\n",
       "      <th>Nivel de Glicose</th>\n",
       "      <th>Pressao</th>\n",
       "      <th>Temperatura</th>\n",
       "      <th>Estado</th>\n",
       "    </tr>\n",
       "  </thead>\n",
       "  <tbody>\n",
       "    <tr>\n",
       "      <th>count</th>\n",
       "      <td>10000.00000</td>\n",
       "      <td>10000.000000</td>\n",
       "      <td>10000.000000</td>\n",
       "      <td>10000.000000</td>\n",
       "      <td>10000.000000</td>\n",
       "      <td>10000.000000</td>\n",
       "    </tr>\n",
       "    <tr>\n",
       "      <th>mean</th>\n",
       "      <td>49.72100</td>\n",
       "      <td>25.037524</td>\n",
       "      <td>134.742346</td>\n",
       "      <td>69.978098</td>\n",
       "      <td>37.491882</td>\n",
       "      <td>0.495100</td>\n",
       "    </tr>\n",
       "    <tr>\n",
       "      <th>std</th>\n",
       "      <td>17.43973</td>\n",
       "      <td>8.630551</td>\n",
       "      <td>37.714784</td>\n",
       "      <td>5.795474</td>\n",
       "      <td>1.442208</td>\n",
       "      <td>0.500001</td>\n",
       "    </tr>\n",
       "    <tr>\n",
       "      <th>min</th>\n",
       "      <td>20.00000</td>\n",
       "      <td>10.002204</td>\n",
       "      <td>70.000307</td>\n",
       "      <td>60.007008</td>\n",
       "      <td>35.000378</td>\n",
       "      <td>0.000000</td>\n",
       "    </tr>\n",
       "    <tr>\n",
       "      <th>25%</th>\n",
       "      <td>35.00000</td>\n",
       "      <td>17.580850</td>\n",
       "      <td>101.600474</td>\n",
       "      <td>64.925794</td>\n",
       "      <td>36.244351</td>\n",
       "      <td>0.000000</td>\n",
       "    </tr>\n",
       "    <tr>\n",
       "      <th>50%</th>\n",
       "      <td>50.00000</td>\n",
       "      <td>25.127891</td>\n",
       "      <td>134.403277</td>\n",
       "      <td>69.966963</td>\n",
       "      <td>37.504696</td>\n",
       "      <td>0.000000</td>\n",
       "    </tr>\n",
       "    <tr>\n",
       "      <th>75%</th>\n",
       "      <td>65.00000</td>\n",
       "      <td>32.545901</td>\n",
       "      <td>167.715930</td>\n",
       "      <td>75.028656</td>\n",
       "      <td>38.714326</td>\n",
       "      <td>1.000000</td>\n",
       "    </tr>\n",
       "    <tr>\n",
       "      <th>max</th>\n",
       "      <td>79.00000</td>\n",
       "      <td>39.998159</td>\n",
       "      <td>199.995686</td>\n",
       "      <td>79.999413</td>\n",
       "      <td>39.998195</td>\n",
       "      <td>1.000000</td>\n",
       "    </tr>\n",
       "  </tbody>\n",
       "</table>\n",
       "</div>"
      ],
      "text/plain": [
       "             Idade           IMC  Nivel de Glicose       Pressao  \\\n",
       "count  10000.00000  10000.000000      10000.000000  10000.000000   \n",
       "mean      49.72100     25.037524        134.742346     69.978098   \n",
       "std       17.43973      8.630551         37.714784      5.795474   \n",
       "min       20.00000     10.002204         70.000307     60.007008   \n",
       "25%       35.00000     17.580850        101.600474     64.925794   \n",
       "50%       50.00000     25.127891        134.403277     69.966963   \n",
       "75%       65.00000     32.545901        167.715930     75.028656   \n",
       "max       79.00000     39.998159        199.995686     79.999413   \n",
       "\n",
       "        Temperatura        Estado  \n",
       "count  10000.000000  10000.000000  \n",
       "mean      37.491882      0.495100  \n",
       "std        1.442208      0.500001  \n",
       "min       35.000378      0.000000  \n",
       "25%       36.244351      0.000000  \n",
       "50%       37.504696      0.000000  \n",
       "75%       38.714326      1.000000  \n",
       "max       39.998195      1.000000  "
      ]
     },
     "execution_count": 5,
     "metadata": {},
     "output_type": "execute_result"
    }
   ],
   "source": [
    "df.describe(\n",
    "\n",
    ")"
   ]
  },
  {
   "cell_type": "code",
   "execution_count": 7,
   "metadata": {},
   "outputs": [
    {
     "data": {
      "text/plain": [
       "Idade               0\n",
       "IMC                 0\n",
       "Nivel de Glicose    0\n",
       "Pressao             0\n",
       "Temperatura         0\n",
       "Estado              0\n",
       "dtype: int64"
      ]
     },
     "execution_count": 7,
     "metadata": {},
     "output_type": "execute_result"
    }
   ],
   "source": [
    "df.isnull().sum()"
   ]
  },
  {
   "cell_type": "code",
   "execution_count": null,
   "metadata": {},
   "outputs": [],
   "source": [
    "## Adicionar valores nulos de propósito\n",
    "\n",
    "columns_to_add_nan = ['Temperatura', 'IMC']\n",
    "\n",
    "for col in columns_to_add_nan: ##\n",
    "    selected_person_index = np.random.choice(df.index, size=500)\n",
    "    df.loc[selected_person_index, col] = np.nan"
   ]
  },
  {
   "cell_type": "code",
   "execution_count": 9,
   "metadata": {},
   "outputs": [
    {
     "data": {
      "text/plain": [
       "Idade                 0\n",
       "IMC                 487\n",
       "Nivel de Glicose      0\n",
       "Pressao               0\n",
       "Temperatura         486\n",
       "Estado                0\n",
       "dtype: int64"
      ]
     },
     "execution_count": 9,
     "metadata": {},
     "output_type": "execute_result"
    }
   ],
   "source": [
    "df.isnull().sum()"
   ]
  },
  {
   "cell_type": "code",
   "execution_count": 10,
   "metadata": {},
   "outputs": [],
   "source": [
    "size_outliers = 100\n",
    "outlier_temp_high = np.random.uniform(40, 50, size_outliers)\n",
    "outlier_temp_low = np.random.uniform(15, 35, size_outliers)\n",
    "selected_person_index_temp = np.random.choice(df.index, size=size_outliers)\n",
    "df.loc[selected_person_index_temp, 'Temperatura'] = outlier_temp_high\n",
    "\n",
    "selected_person_index_temp = np.random.choice(df.index, size=size_outliers)\n",
    "df.loc[selected_person_index_temp, 'Temperatura'] = outlier_temp_low"
   ]
  },
  {
   "cell_type": "markdown",
   "metadata": {},
   "source": [
    "### Análise Exploratória"
   ]
  },
  {
   "cell_type": "code",
   "execution_count": 11,
   "metadata": {},
   "outputs": [
    {
     "data": {
      "text/html": [
       "<div>\n",
       "<style scoped>\n",
       "    .dataframe tbody tr th:only-of-type {\n",
       "        vertical-align: middle;\n",
       "    }\n",
       "\n",
       "    .dataframe tbody tr th {\n",
       "        vertical-align: top;\n",
       "    }\n",
       "\n",
       "    .dataframe thead th {\n",
       "        text-align: right;\n",
       "    }\n",
       "</style>\n",
       "<table border=\"1\" class=\"dataframe\">\n",
       "  <thead>\n",
       "    <tr style=\"text-align: right;\">\n",
       "      <th></th>\n",
       "      <th>Idade</th>\n",
       "      <th>IMC</th>\n",
       "      <th>Nivel de Glicose</th>\n",
       "      <th>Pressao</th>\n",
       "      <th>Temperatura</th>\n",
       "      <th>Estado</th>\n",
       "    </tr>\n",
       "  </thead>\n",
       "  <tbody>\n",
       "    <tr>\n",
       "      <th>count</th>\n",
       "      <td>10000.00000</td>\n",
       "      <td>9513.000000</td>\n",
       "      <td>10000.000000</td>\n",
       "      <td>10000.000000</td>\n",
       "      <td>9522.000000</td>\n",
       "      <td>10000.000000</td>\n",
       "    </tr>\n",
       "    <tr>\n",
       "      <th>mean</th>\n",
       "      <td>49.72100</td>\n",
       "      <td>25.045853</td>\n",
       "      <td>134.742346</td>\n",
       "      <td>69.978098</td>\n",
       "      <td>37.458654</td>\n",
       "      <td>0.495100</td>\n",
       "    </tr>\n",
       "    <tr>\n",
       "      <th>std</th>\n",
       "      <td>17.43973</td>\n",
       "      <td>8.618631</td>\n",
       "      <td>37.714784</td>\n",
       "      <td>5.795474</td>\n",
       "      <td>2.124537</td>\n",
       "      <td>0.500001</td>\n",
       "    </tr>\n",
       "    <tr>\n",
       "      <th>min</th>\n",
       "      <td>20.00000</td>\n",
       "      <td>10.002204</td>\n",
       "      <td>70.000307</td>\n",
       "      <td>60.007008</td>\n",
       "      <td>15.162662</td>\n",
       "      <td>0.000000</td>\n",
       "    </tr>\n",
       "    <tr>\n",
       "      <th>25%</th>\n",
       "      <td>35.00000</td>\n",
       "      <td>17.589344</td>\n",
       "      <td>101.600474</td>\n",
       "      <td>64.925794</td>\n",
       "      <td>36.228054</td>\n",
       "      <td>0.000000</td>\n",
       "    </tr>\n",
       "    <tr>\n",
       "      <th>50%</th>\n",
       "      <td>50.00000</td>\n",
       "      <td>25.149554</td>\n",
       "      <td>134.403277</td>\n",
       "      <td>69.966963</td>\n",
       "      <td>37.516235</td>\n",
       "      <td>0.000000</td>\n",
       "    </tr>\n",
       "    <tr>\n",
       "      <th>75%</th>\n",
       "      <td>65.00000</td>\n",
       "      <td>32.535784</td>\n",
       "      <td>167.715930</td>\n",
       "      <td>75.028656</td>\n",
       "      <td>38.772286</td>\n",
       "      <td>1.000000</td>\n",
       "    </tr>\n",
       "    <tr>\n",
       "      <th>max</th>\n",
       "      <td>79.00000</td>\n",
       "      <td>39.998159</td>\n",
       "      <td>199.995686</td>\n",
       "      <td>79.999413</td>\n",
       "      <td>49.924589</td>\n",
       "      <td>1.000000</td>\n",
       "    </tr>\n",
       "  </tbody>\n",
       "</table>\n",
       "</div>"
      ],
      "text/plain": [
       "             Idade          IMC  Nivel de Glicose       Pressao  Temperatura  \\\n",
       "count  10000.00000  9513.000000      10000.000000  10000.000000  9522.000000   \n",
       "mean      49.72100    25.045853        134.742346     69.978098    37.458654   \n",
       "std       17.43973     8.618631         37.714784      5.795474     2.124537   \n",
       "min       20.00000    10.002204         70.000307     60.007008    15.162662   \n",
       "25%       35.00000    17.589344        101.600474     64.925794    36.228054   \n",
       "50%       50.00000    25.149554        134.403277     69.966963    37.516235   \n",
       "75%       65.00000    32.535784        167.715930     75.028656    38.772286   \n",
       "max       79.00000    39.998159        199.995686     79.999413    49.924589   \n",
       "\n",
       "             Estado  \n",
       "count  10000.000000  \n",
       "mean       0.495100  \n",
       "std        0.500001  \n",
       "min        0.000000  \n",
       "25%        0.000000  \n",
       "50%        0.000000  \n",
       "75%        1.000000  \n",
       "max        1.000000  "
      ]
     },
     "execution_count": 11,
     "metadata": {},
     "output_type": "execute_result"
    }
   ],
   "source": [
    "## Verificar se o dataframe tem valores nulos\n",
    "\n",
    "df.describe()"
   ]
  },
  {
   "cell_type": "code",
   "execution_count": 12,
   "metadata": {},
   "outputs": [
    {
     "name": "stdout",
     "output_type": "stream",
     "text": [
      "<class 'pandas.core.frame.DataFrame'>\n",
      "RangeIndex: 10000 entries, 0 to 9999\n",
      "Data columns (total 6 columns):\n",
      " #   Column            Non-Null Count  Dtype  \n",
      "---  ------            --------------  -----  \n",
      " 0   Idade             10000 non-null  int64  \n",
      " 1   IMC               9513 non-null   float64\n",
      " 2   Nivel de Glicose  10000 non-null  float64\n",
      " 3   Pressao           10000 non-null  float64\n",
      " 4   Temperatura       9522 non-null   float64\n",
      " 5   Estado            10000 non-null  int64  \n",
      "dtypes: float64(4), int64(2)\n",
      "memory usage: 468.9 KB\n"
     ]
    }
   ],
   "source": [
    "df.info()"
   ]
  },
  {
   "cell_type": "code",
   "execution_count": 13,
   "metadata": {},
   "outputs": [
    {
     "name": "stderr",
     "output_type": "stream",
     "text": [
      "/home/hericson/anaconda3/envs/my_projects/lib/python3.9/site-packages/seaborn/categorical.py:632: FutureWarning: SeriesGroupBy.grouper is deprecated and will be removed in a future version of pandas.\n",
      "  positions = grouped.grouper.result_index.to_numpy(dtype=float)\n"
     ]
    },
    {
     "data": {
      "image/png": "[encoded data removed]",
      "text/plain": [
       "<Figure size 1000x500 with 1 Axes>"
      ]
     },
     "metadata": {},
     "output_type": "display_data"
    }
   ],
   "source": [
    "plt.figure(figsize=[10,5]);\n",
    "sns.boxplot(x=df['Temperatura']);\n",
    "plt.title('Boxplot da Temperatura');"
   ]
  },
  {
   "cell_type": "code",
   "execution_count": 14,
   "metadata": {},
   "outputs": [],
   "source": [
    "## O que fazer com dados faltantes?\n",
    "## Podemos substituir os valores faltantes pela média ou mediana\n",
    "df.fillna(df.median(), inplace=True)"
   ]
  },
  {
   "cell_type": "code",
   "execution_count": 15,
   "metadata": {},
   "outputs": [
    {
     "name": "stdout",
     "output_type": "stream",
     "text": [
      "<class 'pandas.core.frame.DataFrame'>\n",
      "RangeIndex: 10000 entries, 0 to 9999\n",
      "Data columns (total 6 columns):\n",
      " #   Column            Non-Null Count  Dtype  \n",
      "---  ------            --------------  -----  \n",
      " 0   Idade             10000 non-null  int64  \n",
      " 1   IMC               10000 non-null  float64\n",
      " 2   Nivel de Glicose  10000 non-null  float64\n",
      " 3   Pressao           10000 non-null  float64\n",
      " 4   Temperatura       10000 non-null  float64\n",
      " 5   Estado            10000 non-null  int64  \n",
      "dtypes: float64(4), int64(2)\n",
      "memory usage: 468.9 KB\n"
     ]
    }
   ],
   "source": [
    "df.info()"
   ]
  },
  {
   "cell_type": "markdown",
   "metadata": {},
   "source": [
    "### Pré-Processamento dos dados"
   ]
  },
  {
   "cell_type": "code",
   "execution_count": 158,
   "metadata": {},
   "outputs": [
    {
     "data": {
      "text/html": [
       "<div>\n",
       "<style scoped>\n",
       "    .dataframe tbody tr th:only-of-type {\n",
       "        vertical-align: middle;\n",
       "    }\n",
       "\n",
       "    .dataframe tbody tr th {\n",
       "        vertical-align: top;\n",
       "    }\n",
       "\n",
       "    .dataframe thead th {\n",
       "        text-align: right;\n",
       "    }\n",
       "</style>\n",
       "<table border=\"1\" class=\"dataframe\">\n",
       "  <thead>\n",
       "    <tr style=\"text-align: right;\">\n",
       "      <th></th>\n",
       "      <th>Idade</th>\n",
       "      <th>IMC</th>\n",
       "      <th>Nivel de Glicose</th>\n",
       "      <th>Pressao</th>\n",
       "      <th>Temperatura</th>\n",
       "      <th>Estado</th>\n",
       "    </tr>\n",
       "  </thead>\n",
       "  <tbody>\n",
       "    <tr>\n",
       "      <th>0</th>\n",
       "      <td>41</td>\n",
       "      <td>10.265684</td>\n",
       "      <td>99.849644</td>\n",
       "      <td>60.774265</td>\n",
       "      <td>35.005951</td>\n",
       "      <td>0</td>\n",
       "    </tr>\n",
       "    <tr>\n",
       "      <th>1</th>\n",
       "      <td>31</td>\n",
       "      <td>29.249874</td>\n",
       "      <td>137.359735</td>\n",
       "      <td>70.053028</td>\n",
       "      <td>37.326140</td>\n",
       "      <td>0</td>\n",
       "    </tr>\n",
       "    <tr>\n",
       "      <th>2</th>\n",
       "      <td>71</td>\n",
       "      <td>15.422324</td>\n",
       "      <td>130.446392</td>\n",
       "      <td>71.184012</td>\n",
       "      <td>38.453074</td>\n",
       "      <td>1</td>\n",
       "    </tr>\n",
       "    <tr>\n",
       "      <th>3</th>\n",
       "      <td>59</td>\n",
       "      <td>35.103688</td>\n",
       "      <td>111.424026</td>\n",
       "      <td>64.570048</td>\n",
       "      <td>37.939929</td>\n",
       "      <td>1</td>\n",
       "    </tr>\n",
       "    <tr>\n",
       "      <th>4</th>\n",
       "      <td>64</td>\n",
       "      <td>31.482174</td>\n",
       "      <td>138.062939</td>\n",
       "      <td>69.345169</td>\n",
       "      <td>35.017729</td>\n",
       "      <td>0</td>\n",
       "    </tr>\n",
       "  </tbody>\n",
       "</table>\n",
       "</div>"
      ],
      "text/plain": [
       "   Idade        IMC  Nivel de Glicose    Pressao  Temperatura  Estado\n",
       "0     41  10.265684         99.849644  60.774265    35.005951       0\n",
       "1     31  29.249874        137.359735  70.053028    37.326140       0\n",
       "2     71  15.422324        130.446392  71.184012    38.453074       1\n",
       "3     59  35.103688        111.424026  64.570048    37.939929       1\n",
       "4     64  31.482174        138.062939  69.345169    35.017729       0"
      ]
     },
     "execution_count": 158,
     "metadata": {},
     "output_type": "execute_result"
    }
   ],
   "source": [
    "df.head()"
   ]
  },
  {
   "cell_type": "code",
   "execution_count": 16,
   "metadata": {},
   "outputs": [],
   "source": [
    "#Divisão em atributos e rótulos\n",
    "X = df.drop(columns=['Estado'])\n",
    "y = df['Estado']"
   ]
  },
  {
   "cell_type": "code",
   "execution_count": 18,
   "metadata": {},
   "outputs": [],
   "source": [
    "from sklearn.model_selection import train_test_split\n",
    "from sklearn.preprocessing import MinMaxScaler\n",
    "\n",
    "X_train, X_test, y_train, y_test = train_test_split(X, y, test_size=0.2)\n",
    "\n",
    "scaler = MinMaxScaler()\n",
    "## Quem lembra da discussão da aula passada?\n",
    "X_train_scaled = scaler.fit_transform(X_train)\n",
    "X_test_scaled = scaler.transform(X_test)"
   ]
  },
  {
   "cell_type": "markdown",
   "metadata": {},
   "source": [
    "### Treinar os modelos de classificação"
   ]
  },
  {
   "cell_type": "code",
   "execution_count": 19,
   "metadata": {},
   "outputs": [
    {
     "name": "stdout",
     "output_type": "stream",
     "text": [
      "Fitting 5 folds for each of 10 candidates, totalling 50 fits\n"
     ]
    },
    {
     "name": "stdout",
     "output_type": "stream",
     "text": [
      "[CV] END max_depth=30, min_samples_leaf=1, min_samples_split=2, n_estimators=300; total time=   9.5s\n",
      "[CV] END max_depth=30, min_samples_leaf=1, min_samples_split=10, n_estimators=300; total time=  12.4s\n",
      "[CV] END max_depth=30, min_samples_leaf=1, min_samples_split=10, n_estimators=300; total time=  12.4s\n",
      "[CV] END max_depth=30, min_samples_leaf=1, min_samples_split=10, n_estimators=300; total time=  13.7s\n",
      "[CV] END max_depth=30, min_samples_leaf=1, min_samples_split=2, n_estimators=300; total time=  14.1s\n",
      "[CV] END max_depth=30, min_samples_leaf=1, min_samples_split=2, n_estimators=300; total time=  14.9s\n",
      "[CV] END max_depth=30, min_samples_leaf=1, min_samples_split=2, n_estimators=300; total time=  14.3s\n",
      "[CV] END max_depth=30, min_samples_leaf=1, min_samples_split=2, n_estimators=300; total time=  16.3s\n",
      "[CV] END max_depth=10, min_samples_leaf=2, min_samples_split=10, n_estimators=300; total time=   6.4s\n",
      "[CV] END max_depth=30, min_samples_leaf=1, min_samples_split=10, n_estimators=300; total time=  13.8s\n",
      "[CV] END max_depth=None, min_samples_leaf=4, min_samples_split=10, n_estimators=300; total time=  10.5s\n",
      "[CV] END max_depth=None, min_samples_leaf=4, min_samples_split=10, n_estimators=300; total time=  11.2s\n",
      "[CV] END max_depth=None, min_samples_leaf=4, min_samples_split=10, n_estimators=300; total time=  13.6s\n",
      "[CV] END max_depth=None, min_samples_leaf=4, min_samples_split=10, n_estimators=300; total time=  12.5s\n",
      "[CV] END max_depth=30, min_samples_leaf=1, min_samples_split=10, n_estimators=300; total time=  15.4s\n",
      "[CV] END max_depth=10, min_samples_leaf=2, min_samples_split=10, n_estimators=300; total time=   6.5s\n",
      "[CV] END max_depth=None, min_samples_leaf=4, min_samples_split=10, n_estimators=300; total time=  15.5s\n",
      "[CV] END max_depth=10, min_samples_leaf=2, min_samples_split=10, n_estimators=300; total time=   8.2s\n",
      "[CV] END max_depth=10, min_samples_leaf=2, min_samples_split=10, n_estimators=300; total time=   8.1s\n",
      "[CV] END max_depth=10, min_samples_leaf=2, min_samples_split=10, n_estimators=300; total time=   8.8s\n",
      "[CV] END max_depth=None, min_samples_leaf=1, min_samples_split=5, n_estimators=300; total time=   9.9s\n",
      "[CV] END max_depth=10, min_samples_leaf=4, min_samples_split=10, n_estimators=300; total time=   7.1s\n",
      "[CV] END max_depth=10, min_samples_leaf=4, min_samples_split=10, n_estimators=300; total time=   7.1s\n",
      "[CV] END max_depth=None, min_samples_leaf=1, min_samples_split=5, n_estimators=300; total time=  12.4s\n",
      "[CV] END max_depth=None, min_samples_leaf=1, min_samples_split=5, n_estimators=300; total time=  12.4s\n",
      "[CV] END max_depth=None, min_samples_leaf=1, min_samples_split=5, n_estimators=300; total time=  15.1s\n",
      "[CV] END max_depth=10, min_samples_leaf=4, min_samples_split=10, n_estimators=300; total time=   6.5s\n",
      "[CV] END max_depth=10, min_samples_leaf=4, min_samples_split=10, n_estimators=300; total time=   9.0s\n",
      "[CV] END max_depth=None, min_samples_leaf=1, min_samples_split=5, n_estimators=300; total time=  13.7s\n",
      "[CV] END max_depth=10, min_samples_leaf=4, min_samples_split=10, n_estimators=300; total time=   8.0s\n",
      "[CV] END max_depth=10, min_samples_leaf=4, min_samples_split=2, n_estimators=300; total time=   6.2s\n",
      "[CV] END max_depth=10, min_samples_leaf=4, min_samples_split=2, n_estimators=300; total time=   8.5s\n",
      "[CV] END max_depth=10, min_samples_leaf=4, min_samples_split=2, n_estimators=300; total time=   5.8s\n",
      "[CV] END max_depth=20, min_samples_leaf=2, min_samples_split=10, n_estimators=500; total time=  15.1s\n",
      "[CV] END max_depth=10, min_samples_leaf=4, min_samples_split=2, n_estimators=300; total time=   8.0s\n",
      "[CV] END max_depth=20, min_samples_leaf=2, min_samples_split=10, n_estimators=500; total time=  19.2s\n",
      "[CV] END max_depth=10, min_samples_leaf=4, min_samples_split=2, n_estimators=300; total time=   8.2s\n",
      "[CV] END max_depth=20, min_samples_leaf=2, min_samples_split=10, n_estimators=500; total time=  17.7s\n",
      "[CV] END max_depth=20, min_samples_leaf=2, min_samples_split=10, n_estimators=500; total time=  20.5s\n",
      "[CV] END max_depth=20, min_samples_leaf=2, min_samples_split=10, n_estimators=500; total time=  19.1s\n",
      "[CV] END max_depth=None, min_samples_leaf=6, min_samples_split=2, n_estimators=500; total time=  16.1s\n",
      "[CV] END max_depth=20, min_samples_leaf=1, min_samples_split=10, n_estimators=300; total time=   9.8s\n",
      "[CV] END max_depth=20, min_samples_leaf=1, min_samples_split=10, n_estimators=300; total time=  13.3s\n",
      "[CV] END max_depth=None, min_samples_leaf=6, min_samples_split=2, n_estimators=500; total time=  18.3s\n",
      "[CV] END max_depth=20, min_samples_leaf=1, min_samples_split=10, n_estimators=300; total time=  15.7s\n",
      "[CV] END max_depth=None, min_samples_leaf=6, min_samples_split=2, n_estimators=500; total time=  19.7s\n",
      "[CV] END max_depth=None, min_samples_leaf=6, min_samples_split=2, n_estimators=500; total time=  20.9s\n",
      "[CV] END max_depth=20, min_samples_leaf=1, min_samples_split=10, n_estimators=300; total time=  11.0s\n",
      "[CV] END max_depth=None, min_samples_leaf=6, min_samples_split=2, n_estimators=500; total time=  20.0s\n",
      "[CV] END max_depth=20, min_samples_leaf=1, min_samples_split=10, n_estimators=300; total time=  10.6s\n",
      "Melhores Hiperparâmetros: {'n_estimators': 300, 'min_samples_split': 5, 'min_samples_leaf': 1, 'max_depth': None}\n"
     ]
    }
   ],
   "source": [
    "from sklearn.ensemble import RandomForestClassifier\n",
    "from sklearn.model_selection import train_test_split, GridSearchCV\n",
    "\n",
    "from sklearn.model_selection import RandomizedSearchCV\n",
    "\n",
    "# Definir os hiperparâmetros para buscar os melhores valores\n",
    "param_grid = {\n",
    "    'n_estimators': [300,500],\n",
    "    'max_depth': [None, 10, 20, 30],\n",
    "    'min_samples_split': [2, 5, 10],\n",
    "    'min_samples_leaf': [1, 2, 4, 6]\n",
    "}\n",
    "\n",
    "random_search = RandomizedSearchCV(RandomForestClassifier(random_state=42), param_grid,\n",
    "                                   n_iter=10, cv=5, n_jobs=-1, verbose=2, random_state=42)\n",
    "\n",
    "\n",
    "grid_search = RandomizedSearchCV(RandomForestClassifier(random_state=42), param_grid, cv=5, n_jobs=-1, verbose=2)\n",
    "grid_search.fit(X_train_scaled, y_train)\n",
    "\n",
    "# Melhor modelo encontrado\n",
    "best_model = grid_search.best_estimator_\n",
    "print(\"Melhores Hiperparâmetros:\", grid_search.best_params_)"
   ]
  },
  {
   "cell_type": "code",
   "execution_count": 20,
   "metadata": {},
   "outputs": [],
   "source": [
    "rf = grid_search.best_estimator_"
   ]
  },
  {
   "cell_type": "code",
   "execution_count": 21,
   "metadata": {},
   "outputs": [],
   "source": [
    "y_pred = rf.predict(X_test_scaled)"
   ]
  },
  {
   "cell_type": "code",
   "execution_count": 22,
   "metadata": {},
   "outputs": [
    {
     "name": "stdout",
     "output_type": "stream",
     "text": [
      "              precision    recall  f1-score   support\n",
      "\n",
      "           0       0.50      0.49      0.50      1024\n",
      "           1       0.48      0.49      0.49       976\n",
      "\n",
      "    accuracy                           0.49      2000\n",
      "   macro avg       0.49      0.49      0.49      2000\n",
      "weighted avg       0.49      0.49      0.49      2000\n",
      "\n"
     ]
    }
   ],
   "source": [
    "from sklearn.metrics import classification_report, confusion_matrix\n",
    "\n",
    "print(classification_report(y_test, y_pred))"
   ]
  },
  {
   "cell_type": "markdown",
   "metadata": {},
   "source": [
    "### Avaliar a qualidade/desempenho do modelo"
   ]
  },
  {
   "cell_type": "code",
   "execution_count": 23,
   "metadata": {},
   "outputs": [
    {
     "name": "stdout",
     "output_type": "stream",
     "text": [
      "              precision    recall  f1-score   support\n",
      "\n",
      "           0       0.50      0.49      0.50      1024\n",
      "           1       0.48      0.49      0.49       976\n",
      "\n",
      "    accuracy                           0.49      2000\n",
      "   macro avg       0.49      0.49      0.49      2000\n",
      "weighted avg       0.49      0.49      0.49      2000\n",
      "\n"
     ]
    }
   ],
   "source": [
    "from sklearn.metrics import classification_report, confusion_matrix\n",
    "\n",
    "print(classification_report(y_test, y_pred))"
   ]
  },
  {
   "cell_type": "code",
   "execution_count": 24,
   "metadata": {},
   "outputs": [
    {
     "data": {
      "text/plain": [
       "Text(70.72222222222221, 0.5, 'true')"
      ]
     },
     "execution_count": 24,
     "metadata": {},
     "output_type": "execute_result"
    },
    {
     "data": {
      "image/png": "[encoded data removed]",
      "text/plain": [
       "<Figure size 800x500 with 2 Axes>"
      ]
     },
     "metadata": {},
     "output_type": "display_data"
    }
   ],
   "source": [
    "cf_matrix = confusion_matrix(y_test, y_pred)\n",
    "\n",
    "plt.figure(figsize=[8,5])\n",
    "sns.heatmap(cf_matrix, annot=True, fmt='d', xticklabels=['Saudável', 'Doente'], yticklabels=['Sauavel', 'Doente'], cmap='Blues')\n",
    "plt.xlabel('predict')\n",
    "plt.ylabel('true')"
   ]
  },
  {
   "cell_type": "code",
   "execution_count": 25,
   "metadata": {},
   "outputs": [
    {
     "data": {
      "text/plain": [
       "Text(70.72222222222221, 0.5, 'true')"
      ]
     },
     "execution_count": 25,
     "metadata": {},
     "output_type": "execute_result"
    },
    {
     "data": {
      "image/png": "[encoded data removed]",
      "text/plain": [
       "<Figure size 800x500 with 2 Axes>"
      ]
     },
     "metadata": {},
     "output_type": "display_data"
    }
   ],
   "source": [
    "cf_matrix = confusion_matrix(y_test, y_pred)\n",
    "\n",
    "plt.figure(figsize=[8,5])\n",
    "sns.heatmap(cf_matrix, annot=True, fmt='d', xticklabels=['Saudável', 'Doente'], yticklabels=['Sauavel', 'Doente'], cmap='Blues')\n",
    "plt.xlabel('predict')\n",
    "plt.ylabel('true')"
   ]
  },
  {
   "cell_type": "markdown",
   "metadata": {},
   "source": [
    "### Testar outros modelos de classificação"
   ]
  }
 ],
 "metadata": {
  "kernelspec": {
   "display_name": "my_projects",
   "language": "python",
   "name": "python3"
  },
  "language_info": {
   "codemirror_mode": {
    "name": "ipython",
    "version": 3
   },
   "file_extension": ".py",
   "mimetype": "text/x-python",
   "name": "python",
   "nbconvert_exporter": "python",
   "pygments_lexer": "ipython3",
   "version": "3.9.16"
  }
 },
 "nbformat": 4,
 "nbformat_minor": 2
}
