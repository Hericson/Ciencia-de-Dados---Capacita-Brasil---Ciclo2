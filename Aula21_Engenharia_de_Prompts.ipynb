{
  "cells": [
    {
      "cell_type": "markdown",
      "metadata": {
        "id": "wzKCXmbZ-foB"
      },
      "source": [
        "# **Engenharia de Prompt para Modelos de Linguagem**\n",
        "\n",
        "### **Introdução**\n",
        "A engenharia de prompt é uma técnica fundamental para interagir eficientemente com modelos de linguagem como o ChatGPT. A forma como um prompt é escrito pode influenciar diretamente a qualidade, precisão e relevância das respostas geradas.\n",
        "\n",
        "Nesta prática, vamos explorar diferentes estratégias para elaborar prompts eficazes. O objetivo é entender como pequenas variações na formulação do prompt podem impactar a resposta e aprender a otimizar prompts para diferentes finalidades.\n",
        "\n",
        "A atividade será registrada neste Google Colab, onde você documentará seus testes, análises e melhorias nos prompts.\n",
        "\n",
        "### **Objetivos**\n",
        " - Compreender os princípios básicos da engenharia de prompt  \n",
        " - Experimentar diferentes técnicas de prompting  \n",
        " - Avaliar a qualidade das respostas geradas  \n",
        " - Refinar prompts para otimizar os resultados  \n",
        "\n",
        "### **Sumário da Atividade**\n",
        "1. **Introdução à Engenharia de Prompt**  \n",
        "   - O que é um prompt?  \n",
        "   - Por que a engenharia de prompt é importante?  \n",
        "   - Exemplos básicos de prompts e suas respostas.  \n",
        "\n",
        "2. **Técnicas de Engenharia de Prompt**  \n",
        "   - **Zero-shot Prompting** (sem fornecer exemplos)  \n",
        "   - **Few-shot Prompting** (fornecendo exemplos para guiar o modelo)  \n",
        "   - **Role-playing** (fazendo o modelo assumir um papel específico)  \n",
        "   - **Chain-of-Thought (CoT)** (incentivando respostas passo a passo)  \n",
        "   - **Iteração e Refinamento de Prompts** (melhorando a formulação do prompt para obter respostas mais precisas)  \n",
        "\n",
        "3. **Explorando Técnicas Avançadas de Engenharia de Prompt**  \n",
        "   - **Self-Consistency Prompting** (geração de múltiplas respostas para maior confiabilidade)  \n",
        "   - **Instruction-Based Prompting** (uso de instruções estruturadas para obter melhores respostas)  \n",
        "   - **Multimodal Prompting** (uso combinado de texto e imagens, se aplicável)  \n",
        "   - **Prompt Chaining** (respostas encadeadas para construção progressiva de conhecimento)  \n",
        "   - **Contrastive Prompting** (comparação entre conceitos diferentes)  \n",
        "   - **Persona-Based Prompting** (fazendo o modelo responder como um personagem específico)  \n",
        "   - **Ethical or Bias-Aware Prompting** (consideração de aspectos éticos e vieses nas respostas)  \n",
        "\n",
        "\n",
        "4. **Desafio: Otimização de Prompt**  \n",
        "   - Início com um prompt ruim  \n",
        "   - Iteração para melhorar a clareza e a especificidade do prompt  \n",
        "   - Comparação dos resultados antes e depois  \n",
        "\n",
        "\n",
        "\n"
      ]
    },
    {
      "cell_type": "markdown",
      "metadata": {
        "id": "Gji6_L0a_lkD"
      },
      "source": [
        "# **Atividade 1 - Introdução à Engenharia de Prompt**\n",
        "\n",
        "### **O que é um Prompt?**\n",
        "Um **prompt** é um comando ou pergunta que enviamos a um modelo de linguagem para obter uma resposta. A qualidade do prompt afeta diretamente a precisão e utilidade da resposta.\n",
        "\n",
        "### **Por que a Engenharia de Prompt é Importante?**\n",
        "- Um prompt bem elaborado pode **melhorar significativamente** a qualidade das respostas.  \n",
        "- Pequenas mudanças na formulação podem gerar **respostas mais completas e coerentes**.  \n",
        "- Diferentes abordagens podem ser utilizadas para **controlar o comportamento do modelo**.  \n",
        "\n",
        "---\n",
        "\n",
        "## **Parte 1 - Testando Prompts Simples**\n",
        "Agora, vamos testar alguns prompts básicos para observar as diferenças nas respostas.\n",
        "\n",
        "1.  **Copie e cole os prompts abaixo no ChatGPT**  \n",
        "2. **Registre a resposta no Google Colab**  \n",
        "3. **Compare os resultados e reflita sobre as diferenças**  \n",
        "\n",
        "---\n",
        "\n",
        "### **Teste 1 - Prompt Simples**\n",
        "📌 **Prompt:**  \n",
        "```plaintext\n",
        "Explique o que é aprendizado de máquina.\n"
      ]
    },
    {
      "cell_type": "markdown",
      "metadata": {
        "id": "1sNGmXv0AtGy"
      },
      "source": [
        "\n",
        "📌 **Tarefa:**  \n",
        "- Cole o prompt no ChatGPT e registre a resposta aqui no Colab.  \n",
        "- Você acha que a resposta foi clara e completa?  \n",
        "- Como você poderia melhorar esse prompt?  \n",
        "\n",
        "\n",
        "\n",
        "\n"
      ]
    },
    {
      "cell_type": "markdown",
      "metadata": {
        "id": "6ewZiuEIBIiQ"
      },
      "source": [
        "\n",
        "✍️ **Resposta do GPT:**\n",
        "\n",
        "Aprendizado de máquina (ou machine learning, em inglês) é uma área da inteligência artificial que permite que computadores “aprendam” a realizar tarefas com base em dados, sem serem explicitamente programados para cada situação.\n",
        "\n",
        "Aprendizado de Máquina (Machine Learning - ML) é um subcampo da Inteligência Artificial (IA) que se concentra no desenvolvimento de algoritmos e modelos capazes de aprender padrões a partir de dados e fazer previsões ou tomar decisões sem serem explicitamente programados para cada tarefa específica.\n",
        "\n"
      ]
    },
    {
      "cell_type": "markdown",
      "metadata": {
        "id": "Jwt1woP2BLFv"
      },
      "source": [
        "✍️ **Análise:**\n",
        "\n",
        "Paulo: achei coerentes ambas falaram no conceito de aprender com dados e sem usar explicitamente programação\n",
        "\n",
        "Estefânia: o primeiro está mais geral e informal, o segundo um pouco menos geral e um tanto formal"
      ]
    },
    {
      "cell_type": "markdown",
      "metadata": {
        "id": "nzhSpG8lBckm"
      },
      "source": [
        "---\n",
        "\n",
        "### **Teste 2 - Prompt Específico**\n",
        "📌 **Prompt:**  \n",
        "```plaintext\n",
        "Explique o que é aprendizado de máquina de forma simples, como se estivesse ensinando para uma criança de 10 anos.\n",
        "```\n",
        "📌 **Tarefa:**  \n",
        "- Compare essa resposta com a do Teste 1.  \n",
        "- Houve diferenças na explicação?  \n",
        "- A resposta ficou mais clara ou mais adequada para o público-alvo?  \n",
        "\n",
        "\n",
        "\n",
        "---"
      ]
    },
    {
      "cell_type": "markdown",
      "metadata": {
        "id": "KeIPxtgIBfK_"
      },
      "source": [
        "\n",
        "#### *Paulo* - DeepSeek\n",
        "Imagine que você está ensinando um cachorro a pegar uma bolinha. No começo, ele não sabe como fazer, mas toda vez que ele pega certo, você dá um biscoito. Com o tempo, ele aprende que, para ganhar o biscoito, precisa pegar a bolinha do jeito certo.\n",
        "\n",
        "O aprendizado de máquina é parecido, só que, em vez de um cachorro, é um computador que aprende! A gente dá vários exemplos para ele (como fotos de gatos e cachorros) e diz:\n",
        "\n",
        "\"Olha, isso é um gato.\"\n",
        "\n",
        "\"Isso é um cachorro.\"\n",
        "Depois de ver muitos exemplos, o computador começa a aprender sozinho a diferenciar um do outro, como se fosse um jogo de adivinhação que vai ficando cada vez mais esperto.\n",
        "\n",
        "Resumindo: Aprendizado de máquina é quando o computador aprende coisas sozinho, treinando com muitos exemplos, assim como você aprende matemática praticando! 😊\n",
        "\n",
        "**Estefânia: GPT**\n",
        "\n",
        "Claro! 😊\n",
        "### O que é aprendizado de máquina? (Explicação para uma criança de 10 anos)\n",
        "\n",
        "Imagine que você tem um **robô muito esperto**, mas ele **ainda não sabe nada**. Você quer que ele aprenda a **diferenciar um cachorro de um gato**.\n",
        "\n",
        "Você então mostra para ele **muitas fotos**:\n",
        "\n",
        "* “Olha, isso aqui é um cachorro!”\n",
        "* “Isso é um gato!”\n",
        "* “Outro cachorro!”\n",
        "* “Mais um gato!”\n",
        "\n",
        "Depois de ver **várias imagens**, o robô começa a perceber que:\n",
        "\n",
        "* Cachorros geralmente têm orelhas maiores...\n",
        "* Gatos têm"
      ]
    },
    {
      "cell_type": "markdown",
      "metadata": {
        "id": "FlrB4yOFBjev"
      },
      "source": [
        "✍️ **Análise:**\n",
        "\n",
        "acho que os dois tão bom, mas o gpt explica mais e de certa forma melhor, tem mais coisa que não colei, mas seek por tá resumidinho funciona mais com uma criança msm\n",
        "\n",
        "os exemplos foram parecidos também, os dois falando de adestrar cachorro como analogia\n",
        "explicam bem considerando o contexto"
      ]
    },
    {
      "cell_type": "markdown",
      "metadata": {
        "id": "HvJdsYx7_yca"
      },
      "source": [
        "\n",
        "\n",
        "### **Teste 3 - Prompt com Contexto**\n",
        "📌 **Prompt:**  \n",
        "```plaintext\n",
        "Explique o que é aprendizado de máquina de forma simples, como se estivesse ensinando para uma criança de 10 anos. Use um exemplo prático e divertido.\n",
        "```\n",
        "📌 **Tarefa:**  \n",
        "- A adição de um exemplo mudou a resposta?  \n",
        "- O exemplo ajudou a tornar o conceito mais compreensível?  \n",
        "- Compare essa resposta com as anteriores.  \n",
        "\n",
        "\n",
        "---\n",
        "\n",
        "  \n",
        "\n"
      ]
    },
    {
      "cell_type": "markdown",
      "metadata": {
        "id": "9GoH-ttQCMHV"
      },
      "source": [
        "✍️ **Resposta do ChatGPT:**\n",
        "\n",
        "Imagine que você tem um robô super esperto, mas que no começo ele não sabe fazer quase nada – como um bebê. O aprendizado de máquina é como ensinar esse robô a aprender coisas sozinho, mostrando exemplos para ele, igual quando você aprende a jogar um jogo novo treinando várias vezes!\n",
        "\n",
        "Exemplo divertido:\n",
        "Pense que seu robô quer aprender a diferenciar cachorros de gatos. Você mostra pra ele um monte de fotos e diz:\n",
        "\"Olha, esse é um cachorro: tem orelhas caídas, focinho grande.\"\n",
        "\n",
        "\"Esse é um gato: orelhas pontudas, bigodes longos.\"\n",
        "\n",
        "No começo, ele vai errar (pode confundir um gato com um leãozinho de desenho!), mas, quanto mais fotos você mostrar, ele vai começar a acertar sozinho porque aprende com os erros. É como se ele criasse um \"manual de instruções\" na cabeça dele!\n",
        "\n",
        "🤖 Aprendizado de máquina é quando um computador aprende com exemplos, igual a gente!\n",
        "\n",
        "Imagina o Robô Bobô, que ama sorvete 🍦.\n",
        "\n",
        "Você dá vários sabores pra ele e diz: – “Esse é bom!” 😋\n",
        "– “Esse dá dor de barriga!” 🤢\n",
        "\n",
        "Depois de ver muitos exemplos, o Bobô aprende a escolher sozinho os sorvetes bons pra ele!\n",
        "\n",
        "Assim funciona o aprendizado de máquina:\n",
        "O computador observa, aprende com os dados e faz escolhas ou previsões sem precisar que alguém diga o que fazer o tempo todo!"
      ]
    },
    {
      "cell_type": "markdown",
      "metadata": {
        "id": "jR7cQ9esCQsB"
      },
      "source": [
        "✍️ **Análise:**\n",
        " De fato, os alunos perceberam que a engenharia de prompt tem relevância na qualidade da resposta obtida."
      ]
    },
    {
      "cell_type": "markdown",
      "metadata": {
        "id": "PiIwM0sgF5Ha"
      },
      "source": []
    },
    {
      "cell_type": "markdown",
      "metadata": {
        "id": "sSM3dy0VH8w5"
      },
      "source": [
        "\n",
        "# **Atividade 2 - Técnicas de Engenharia de Prompt**\n",
        "\n",
        "Na atividade anterior, exploramos como pequenas mudanças em um prompt podem impactar a resposta do modelo. Agora, vamos aprofundar esse conhecimento testando diferentes técnicas de engenharia de prompt.\n",
        "\n",
        "\n",
        "## 1. Zero-Shot Prompting (Sem Exemplos)\n",
        "No zero-shot prompting, o modelo recebe apenas a instrução, sem exemplos para guiar a resposta.\n",
        "\n",
        "### 📌 Exemplo 1\n",
        "**Prompt:**  \n",
        "```plaintext\n",
        "Explique o conceito de clustering em aprendizado de máquina.\n",
        "```\n"
      ]
    },
    {
      "cell_type": "markdown",
      "metadata": {
        "id": "iviGKbA4IxjG"
      },
      "source": [
        "✍️ **Resposta do ChatGPT:**\n",
        "\n",
        "**Paulo**\n",
        "\n",
        "* Clustering (ou agrupamento) é uma técnica de aprendizado de máquina não supervisionado que visa organizar um conjunto de dados em grupos (clusters) de modo que:\n",
        "Elementos do mesmo grupo sejam similares entre si.\n",
        "Elementos de grupos diferentes sejam dissimilares\n",
        "\n",
        "**Marcela**\n",
        "\n",
        "* O que é clustering?\n",
        "Clustering é um tipo de aprendizado de máquina não supervisionado que serve para agrupamento de dados. Isso significa que o computador recebe vários dados misturados, sem saber a resposta certa, e tenta juntar os dados que são parecidos em grupos chamados clusters.\n"
      ]
    },
    {
      "cell_type": "markdown",
      "metadata": {
        "id": "s5OFXDU4I0GD"
      },
      "source": [
        "✍️ **Análise:**\n",
        "\n",
        "parecidas no nível de abstração, não são boas pra explicar pra quem não estuda algo relacionado ao assunto"
      ]
    },
    {
      "cell_type": "markdown",
      "metadata": {
        "id": "JUDOh6gxJFNS"
      },
      "source": [
        "### 📌 Exemplo 2\n",
        "**Prompt:**  \n",
        "```plaintext\n",
        "O que é um modelo de regressão linear? Explique de forma técnica.\n",
        "```\n"
      ]
    },
    {
      "cell_type": "markdown",
      "metadata": {
        "id": "MZZek3nSJIIQ"
      },
      "source": [
        "✍️ **Resposta do ChatGPT:**\n",
        "\n",
        "**Paulo** \n",
        "* Um modelo de regressão linear é uma técnica estatística utilizada para modelar a relação entre uma variável dependente (resposta) e uma ou mais variáveis independentes (preditoras), assumindo que essa relação seja linear. Ele é amplamente utilizado em machine learning, econometria e ciência de dados para previsão e inferência causal.\n",
        "\n",
        "**Giovana**\n",
        "* Um modelo de regressão linear é um dos modelos estatísticos e de aprendizado de máquina mais simples e fundamentais. Ele é usado para estimar a relação entre uma variável dependente (ou alvo) e uma ou mais variáveis independentes (ou preditoras), assumindo que essa relação é linear."
      ]
    },
    {
      "cell_type": "markdown",
      "metadata": {
        "id": "_azY7-MuJKbO"
      },
      "source": [
        "✍️ **Análise:**\n",
        "\n",
        "coerente com o prompt, já que foi pedida uma resposta técnica"
      ]
    },
    {
      "cell_type": "markdown",
      "metadata": {
        "id": "EmNFg9LcJepg"
      },
      "source": [
        "\n",
        "## 2. Few-Shot Prompting (Com Exemplos)\n",
        "No few-shot prompting, fornecemos exemplos para orientar o modelo a gerar respostas mais alinhadas ao que queremos.\n",
        "\n",
        "### 📌 Exemplo 1\n",
        "**Prompt:**  \n",
        "```plaintext\n",
        "Aqui estão algumas definições técnicas de conceitos de aprendizado de máquina:\n",
        "\n",
        "1. Clustering: Técnica usada para agrupar dados similares sem supervisão. Exemplo: Agrupar clientes com base em seu comportamento de compra.\n",
        "2. Regressão Linear: Técnica que modela a relação entre variáveis preditoras e um alvo contínuo.\n",
        "\n",
        "Agora, explique o que é uma árvore de decisão.\n",
        "```\n"
      ]
    },
    {
      "cell_type": "markdown",
      "metadata": {
        "id": "LmsZ0VZCKDo0"
      },
      "source": [
        "**Estefânia**\n",
        "* Uma **árvore de decisão** é um modelo de aprendizado de máquina que utiliza uma estrutura em forma de árvore para tomar decisões com base nos dados de entrada.\n",
        "\n",
        "### Definição técnica:\n",
        "\n",
        "Uma **árvore de decisão** é um algoritmo de aprendizado supervisionado usado tanto para **classificação** quanto para **regressão**. O modelo divide os dados em subconjuntos com base em **perguntas sucessivas (condições)** sobre os atributos, de forma hierárquica. Cada **nó interno** representa uma decisão com\n",
        "\n",
        "**Paulo**\n",
        "* Uma Árvore de Decisão é um modelo de aprendizado de máquina supervisionado usado tanto para classificação quanto para regressão. Ela estrutura as decisões em uma hierarquia de regras simples, baseadas nas características dos dados, formando uma estrutura semelhante a uma árvore invertida.\n",
        "\n"
      ]
    },
    {
      "cell_type": "markdown",
      "metadata": {
        "id": "BnI6zm-BKFus"
      },
      "source": [
        "✍️ **Análise:**\n",
        "\n",
        "Análise Coerente"
      ]
    },
    {
      "cell_type": "markdown",
      "metadata": {
        "id": "Z53pAOQwJimj"
      },
      "source": [
        "### 📌 Exemplo 2\n",
        "**Prompt:**  \n",
        "```plaintext\n",
        "Aqui estão algumas respostas simplificadas para explicar conceitos de ciência de dados para iniciantes:\n",
        "\n",
        "1. Redes Neurais: Um modelo de aprendizado inspirado no cérebro humano, que aprende com exemplos.\n",
        "2. K-Means: Algoritmo de clustering que separa dados em grupos com base na proximidade dos pontos.\n",
        "\n",
        "Agora, explique o que é Random Forest de maneira simples.\n",
        "```\n",
        "\n",
        "\n",
        "---\n"
      ]
    },
    {
      "cell_type": "markdown",
      "metadata": {
        "id": "Tmy3nl2FJpMW"
      },
      "source": [
        "✍️ **Resposta do ChatGPT:**\n",
        "\n",
        "**Paulo**\n",
        "* Random Forest: Um algoritmo de aprendizado de máquina que combina várias \"árvores de decisão\" (como especialistas individuais) para tomar decisões mais precisas e confiáveis.\n",
        "Como funciona:\n",
        "Cria várias ávores de decisão, cada uma analisando parte dos dados.\n",
        "Cada árvore dá sua própria \"opinião\" (previsão).\n",
        "O resultado final é a média (para regressão) ou a votação majoritária (para classificação) das opiniões.\n",
        "Vantagem: É robusto e evita overfitting (decoreba dos dados), pois usa muitas árvore\n",
        "\n",
        "**Giovana**\n",
        "* Random Forest (ou \"floresta aleatória\") é um modelo de aprendizado de máquina que usa várias árvores de decisão para fazer previsões mais precisas e confiáveis.\n",
        " Explicando de forma simples:\n",
        "Imagine que você quer saber se vai chover amanhã. Em vez de perguntar a uma única pessoa, você pergunta a um grupo de especialistas (as árvores) e toma a decisão com base na maioria das respostas. É isso que a Random Forest faz!"
      ]
    },
    {
      "cell_type": "markdown",
      "metadata": {
        "id": "Gd4SsSDKJq1D"
      },
      "source": [
        "✍️ **Análise:**\n",
        "\n",
        "\n",
        "Rafael Pereira: Sim"
      ]
    },
    {
      "cell_type": "markdown",
      "metadata": {
        "id": "x5p4zTZPJ_Lg"
      },
      "source": [
        "## 3. Role-Playing (Mudando o Papel do Modelo)\n",
        "No role-playing prompting, instruímos o modelo a assumir um papel específico.\n",
        "\n",
        "### 📌 Exemplo 1\n",
        "**Prompt:**  \n",
        "```plaintext\n",
        "Você é um professor universitário de Ciência de Dados. Explique como funciona o algoritmo KNN para um aluno que está começando no assunto.\n",
        "```\n",
        "\n",
        "\n"
      ]
    },
    {
      "cell_type": "markdown",
      "metadata": {
        "id": "SePhPnlvLIpv"
      },
      "source": [
        "✍️ **Resposta do ChatGPT:**\n",
        "\n",
        "O K-Nearest Neighbors (KNN), ou K-Vizinhos Mais Próximos, é um algoritmo de aprendizado de máquina usado principalmente para classificação (separar dados em categorias) e regressão (prever valores numéricos). Ele é supervisionado, ou seja, aprende a partir de dados já rotulados (com respostas conhecidas).\n",
        "\n",
        "A ideia principal do KNN é:\n",
        "\n",
        "\"Diga-me com quem andas, e te direi quem és.\"\n",
        "\n",
        "Ou seja, para classificar um novo dado, o KNN olha os K dados mais parecidos (vizinhos) no conjunto de treinamento e"
      ]
    },
    {
      "cell_type": "markdown",
      "metadata": {
        "id": "vxTkioCFLMHV"
      },
      "source": [
        "✍️ **Análise:**\n",
        "\n",
        " Hericson: Super didático e muito bom para ensinar um aluno iniciante"
      ]
    },
    {
      "cell_type": "markdown",
      "metadata": {
        "id": "FwHbSkSOKy4M"
      },
      "source": [
        "### 📌 Exemplo 2\n",
        "**Prompt:**  \n",
        "```plaintext\n",
        "Você é um cientista de dados experiente sendo entrevistado por uma revista. Explique como funciona um modelo de regressão logística para um público que não tem conhecimento técnico.\n",
        "```\n",
        "  \n",
        "\n",
        "---"
      ]
    },
    {
      "cell_type": "markdown",
      "metadata": {
        "id": "VtuOiQnlK21C"
      },
      "source": [
        "✍️ **Resposta do ChatGPT:**\n",
        "\n",
        "**Paulo**\n",
        "* Imagine que você queira prever se uma pessoa vai gostar ou não de um novo filme de terror com base na idade dela. A regressão logística é como um \"fazedor de palpites\" que calcula a probabilidade disso acontecer.\n",
        "* \n",
        "**Estefânia**\n",
        "* Aqui está como eu, como cientista de dados experiente, explicaria a regressão logística em uma entrevista para um público leigo:\n",
        "\n",
        "Entrevistador: Você pode explicar para nossos leitores, de forma simples, o que é e como funciona um modelo de regressão logística?\n",
        "\n",
        "Cientista de Dados: Claro! Imagine que você é um médico e quer prever se um paciente tem uma determinada doença ou não, com base em informações como idade, pressão arterial e histórico familiar. A resposta que você quer é \"sim\" ou \"não\"\n",
        "\n",
        "A regressão logística é uma ferramenta que usamos para prever esse tipo de resposta — algo que só pode ser verdadeiro ou falso, positivo ou negativo, 1 ou 0.\n",
        "\n",
        "Ela funciona mais ou menos assim: o modelo pega as informações que você fornece (por exemplo, idade e pressão arterial) e combina isso com uma fórmula matemática para calcular uma probabilidade. Essa probabilidade é um número entre 0 e 1. Quanto mais perto de 1, maior a chance de a resposta ser “sim”. Se for mais perto de 0, a chance é de\n",
        "\n"
      ]
    },
    {
      "cell_type": "markdown",
      "metadata": {
        "id": "2bN2peR0K6yp"
      },
      "source": [
        "✍️ **Análise:**\n",
        "\n",
        "Com certeza"
      ]
    },
    {
      "cell_type": "markdown",
      "metadata": {
        "id": "vzB1wWvmLiFj"
      },
      "source": [
        "## 4. Chain-of-Thought (CoT) (Passo a Passo)\n",
        "No chain-of-thought prompting, pedimos ao modelo para explicar o raciocínio passo a passo.\n",
        "\n",
        "### 📌 Exemplo 1\n",
        "**Prompt:**  \n",
        "```plaintext\n",
        "Explique como funciona o algoritmo de K-Means passo a passo.\n",
        "```"
      ]
    },
    {
      "cell_type": "markdown",
      "metadata": {
        "id": "Wm57njoSL2IU"
      },
      "source": [
        "✍️ **Resposta do ChatGPT:**\n",
        "\n",
        "Passo 1: Escolha do Número de Clusters (K)\n",
        "\n",
        "Passo 2: Inicialização dos Centróides\n",
        "\n",
        "Passo 3: Atribuição dos Pontos aos Clusters (Fase de Associação)\n",
        "\n",
        "Passo 4: Atualização dos Centróides (Fase de Movimentação)\n",
        "\n",
        "Passo 5: Verificação de Convergência\n",
        "\n",
        "\n"
      ]
    },
    {
      "cell_type": "markdown",
      "metadata": {
        "id": "AUtWfoCYL34J"
      },
      "source": [
        "✍️ **Análise:**\n",
        "\n",
        "Thiago: sim"
      ]
    },
    {
      "cell_type": "markdown",
      "metadata": {
        "id": "smPBvVNmLy_X"
      },
      "source": [
        "### 📌 Exemplo 2\n",
        "**Prompt:**  \n",
        "```plaintext\n",
        "Explique como funciona o algoritmo de busca binária, detalhando cada passo do processo.\n",
        "```"
      ]
    },
    {
      "cell_type": "markdown",
      "metadata": {
        "id": "S4B1CRxNLm2F"
      },
      "source": [
        "✍️ **Resposta do ChatGPT:**\n",
        "\n",
        "busca binária é um algoritmo eficiente para encontrar um elemento em uma lista ordenada. Em vez de verificar cada elemento um por um (como na busca linear), ela divide a lista ao meio repetidamente até encontrar o valor desejado (ou concluir que ele não está na lista)."
      ]
    },
    {
      "cell_type": "markdown",
      "metadata": {
        "id": "Um0l22-3LqLd"
      },
      "source": [
        "✍️ **Análise:**\n",
        "\n",
        "Rafael: Sim, resposta com passo a passo de implementação\n",
        "\n",
        "---"
      ]
    },
    {
      "cell_type": "markdown",
      "metadata": {
        "id": "cK99NlEnIt2f"
      },
      "source": [
        "\n",
        "\n",
        "\n",
        "## 5. Iteração e Refinamento de Prompts\n",
        "Agora que você testou várias técnicas, vamos experimentar como o refinamento do prompt pode impactar a resposta.\n",
        "\n",
        "### 📌 Exemplo 1\n",
        "**Prompt Inicial:**  \n",
        "```plaintext\n",
        "Explique o que é uma Rede Neural.\n",
        "```\n",
        "🔍 **Ajuste o prompt com qualquer técnica de sua escolha para torná-lo mais claro e específico.**  \n",
        "\n",
        "Uma Rede Neural (ou Rede Neural Artificial - RNA) é um modelo computacional inspirado no funcionamento do cérebro humano, projetado para reconhecer padrões e tomar decisões com base em dados. Ela é composta por unidades básicas chamadas neurônios artificiais, que se interconectam em camadas para processar informações.\n",
        "\n",
        "\n",
        "\n"
      ]
    },
    {
      "cell_type": "markdown",
      "metadata": {
        "id": "R-DzGLgCM2b1"
      },
      "source": [
        "✍️ **Prompt Melhorado:**\n",
        "\n",
        "Atue como um profissional em ciência de dados e me responda a seguinte questão:\n",
        "Explique o que é uma Rede Neural.\n",
        "Considere que o público-alvo não tem conhecimento algum sobre tecnologia, e resuma em até 2 parágrafos a sua resposta."
      ]
    },
    {
      "cell_type": "markdown",
      "metadata": {
        "id": "WNWz7WElM4NP"
      },
      "source": [
        "✍️ **Resposta do ChatGPT:**\n",
        "\n",
        "Uma rede neural é um sistema inspirado no funcionamento do cérebro humano, criado para ajudar computadores a aprenderem e tomarem decisões sozinhos. Imagine que ela é como uma rede de neurônios artificiais que trabalham juntos para reconhecer padrões em dados, como identificar fotos de gatos, prever o preço de uma casa ou até mesmo entender o que você diz em um comando de voz. Quanto mais exemplos ela recebe, mais \"esperta\" fica, ajustando suas conexões internas para melhorar seus resultados.\n",
        "De maneira simples, pense em uma rede neural como uma criança aprendendo a diferenciar animais: no início, ela pode confundir um cachorro com um gato, mas, com muitos exemplos e correções, ela passa a acertar quase sempre. Da mesma forma, a rede neural \"treina\" com muitos dados até conseguir realizar tarefas complexas, como recomendar um filme ou dirigir um carro autônomo. Tudo isso sem ser explicitamente programada para cada situação — ela aprende por experiência!\n"
      ]
    },
    {
      "cell_type": "markdown",
      "metadata": {
        "id": "nm5jREeiM52o"
      },
      "source": [
        "✍️ **Análise:**\n",
        "\n",
        " Que a resposta foi mais guiada especificamente para CNN, demostrando exemplos práticos"
      ]
    },
    {
      "cell_type": "markdown",
      "metadata": {
        "id": "fYYlzDSdMZzS"
      },
      "source": [
        "### 📌 Exemplo 2\n",
        "**Prompt Inicial:**  \n",
        "```plaintext\n",
        "Como funciona o algoritmo Apriori?\n",
        "```\n",
        "🔍 **Ajuste o prompt com qualque técnica de sua escolha, lembrando para incluir um exemplo prático na resposta.**  \n",
        "\n"
      ]
    },
    {
      "cell_type": "markdown",
      "metadata": {
        "id": "F6Tmj77JMiSV"
      },
      "source": []
    },
    {
      "cell_type": "markdown",
      "metadata": {
        "id": "5ebnZjFZMcWW"
      },
      "source": [
        "✍️ **Prompt Melhorado:**\n",
        "\n",
        " (Escreva aqui um novo prompt)  \n"
      ]
    },
    {
      "cell_type": "markdown",
      "metadata": {
        "id": "ylHyVIBwMntV"
      },
      "source": [
        "✍️ **Resposta do ChatGPT:**\n",
        "\n",
        "(Cole a nova resposta gerada)"
      ]
    },
    {
      "cell_type": "markdown",
      "metadata": {
        "id": "z5ZubYVxMeC0"
      },
      "source": [
        "✍️ **Análise:**\n",
        "\n",
        " (O modelo gerou um exemplo relevante?)"
      ]
    },
    {
      "cell_type": "markdown",
      "metadata": {
        "id": "gi6fO3HVhBnp"
      },
      "source": [
        "# **Atividade 3 - Técnicas Avançadas de Engenharia de Prompt**\n",
        "\n",
        "Nesta atividade, você explorará técnicas avançadas de engenharia de prompt para obter respostas mais confiáveis, estruturadas e adaptadas a diferentes contextos.\n",
        "\n",
        "---\n",
        "\n",
        "## 1. Self-Consistency Prompting\n",
        "Em vez de gerar uma única resposta, o modelo pode ser instruído a gerar **múltiplas respostas** e escolher a mais consistente entre elas.\n",
        "\n",
        "### 📌 Exemplo 1\n",
        "**Prompt:**  \n",
        "```plaintext\n",
        "Responda à seguinte pergunta três vezes, usando abordagens diferentes. Depois, escolha a melhor resposta e explique por que ela é a mais adequada.\n",
        "\n",
        "Pergunta: Qual é a diferença entre aprendizado supervisionado e não supervisionado?\n",
        "```\n"
      ]
    },
    {
      "cell_type": "markdown",
      "metadata": {
        "id": "cLZkgyBKhEye"
      },
      "source": [
        "✍️ **Resposta do ChatGPT:**\n",
        "\n",
        "(Cole as três respostas geradas)  \n"
      ]
    },
    {
      "cell_type": "markdown",
      "metadata": {
        "id": "q7pwIBpBhGf3"
      },
      "source": [
        "✍️ **Análise:**\n",
        "\n",
        "(O modelo conseguiu identificar a melhor resposta? Houve variações interessantes?)  "
      ]
    },
    {
      "cell_type": "markdown",
      "metadata": {
        "id": "0oNQfr6HhPpM"
      },
      "source": [
        "### 📌 Exemplo 2\n",
        "**Prompt:**  \n",
        "```plaintext\n",
        "Explique a importância da normalização de dados. Gere três respostas diferentes e depois escolha a melhor.\n",
        "```\n"
      ]
    },
    {
      "cell_type": "markdown",
      "metadata": {
        "id": "i7SL9SRvhRxV"
      },
      "source": [
        "✍️ **Resposta do ChatGPT:**\n",
        "\n",
        "Resposta 1: Foco em Algoritmos Sensíveis à Escala\n",
        "A normalização de dados é crucial porque muitos algoritmos de machine learning e análise de dados são sensíveis à escala das features. Por exemplo, algoritmos como KNN (K-Nearest Neighbors), SVM (Support Vector Machines) e redes neurais dependem de cálculos de distância ou gradientes, que podem ser distorcidos se as features estiverem em escalas muito diferentes. A normalização garante que todas as features contribuam igualmente para o modelo\n",
        "\n",
        "Resposta 2: Foco em Interpretação e Comparação\n",
        "A normalização é importante porque permite a comparação justa entre diferentes features. Em um conjunto de dados, features como idade (0-100) e salário (0-100.000) têm escalas completamente diferentes, o que pode dificultar a interpretação dos dados e a comparação de sua influência no modelo. Ao normalizar os dados, todas as features são trazidas para uma escala comum, facilitando a análise e a interpretação dos resultados. \n",
        "\n",
        "Resposta 3: Foco em Desempenho Computacional\n",
        "A normalização de dados melhora o desempenho computacional de algoritmos iterativos, como gradient descent (usado em redes neurais e regressões). Quando os dados estão em escalas diferentes, o algoritmo pode demorar mais para convergir, pois os passos de atualização dos parâmetros são desbalanceados. A normalização acelera a convergência, reduzindo o tempo de treinamento e o consumo de recursos computacionais. Além disso, ela ajuda a evitar problemas\n"
      ]
    },
    {
      "cell_type": "markdown",
      "metadata": {
        "id": "J7eRnQg3hTP3"
      },
      "source": [
        "✍️ **Análise:**\n",
        "\n",
        "A Resposta 1 é a mais abrangente e direta, pois explica claramente a importância da normalização em relação ao impacto direto no desempenho de algoritmos de machine learning, que é uma das principais razões para se normalizar dados. Ela também menciona exemplos específicos de algoritmos, o que torna a explicação mais prática e aplicável.\n",
        "\n",
        "Portanto, a Resposta 1 é a melhor."
      ]
    },
    {
      "cell_type": "markdown",
      "metadata": {
        "id": "-7qj2MdXhdRz"
      },
      "source": [
        "## 2. Instruction-Based Prompting\n",
        "Aqui, fornecemos uma estrutura clara para a resposta do modelo.\n",
        "\n",
        "### 📌 Exemplo 1\n",
        "**Prompt:**  \n",
        "```plaintext\n",
        "Explique o que é um modelo de regressão logística seguindo estas etapas:\n",
        "\n",
        "1. Defina o conceito.\n",
        "2. Explique a matemática por trás dele.\n",
        "3. Dê um exemplo prático de uso.\n",
        "```\n"
      ]
    },
    {
      "cell_type": "markdown",
      "metadata": {
        "id": "TVQdtBX2hfR3"
      },
      "source": [
        "✍️ **Resposta do ChatGPT:**\n",
        "\n",
        "1. Conceito\n",
        "A Regressão Logística é um método estatístico usado para modelar a probabilidade de um resultado categórico (variável dependente) baseado em variáveis preditoras (independentes). O resultado é geralmente binário, como \"sim\" ou \"não\", \"verdadeiro\" ou \"falso\", mas pode ser estendido para múltiplas categorias.\n",
        "\n",
        "Exemplo: Prever se um cliente irá comprar um produto com base em sua idade, renda e histórico de compras.\n",
        "\n",
        "2. Matemática por Trás da Regressão Logística\n",
        "A Regressão Logística usa a função logística (ou sigmoide) para modelar a relação entre as variáveis preditoras e a probabilidade do resultado.\n",
        "\n",
        "3. Exemplo Prático: Previsão de Aprovação de Crédito\n",
        "   \n",
        "Problema: Uma instituição financeira deseja criar um modelo para prever se um cliente irá ou não pagar um empréstimo.\n",
        "\n"
      ]
    },
    {
      "cell_type": "markdown",
      "metadata": {
        "id": "zf-Lig6ahg1L"
      },
      "source": [
        "✍️ **Análise:**\n",
        "\n",
        "(O modelo seguiu a estrutura fornecida corretamente?)\n",
        "\n",
        "Sim"
      ]
    },
    {
      "cell_type": "markdown",
      "metadata": {
        "id": "b4xsHey9hoss"
      },
      "source": [
        "\n",
        "### 📌 Exemplo 2\n",
        "**Prompt:**  \n",
        "```plaintext\n",
        "Liste os principais desafios do aprendizado de máquina. Para cada desafio, explique por que ele é importante e como pode ser resolvido.\n",
        "```\n",
        "\n",
        "\n",
        "---"
      ]
    },
    {
      "cell_type": "markdown",
      "metadata": {
        "id": "C6Qz2scdhqgM"
      },
      "source": [
        "✍️ **Resposta do ChatGPT:**\n",
        "\n",
        "A área de Aprendizado de Máquina (Machine Learning) oferece diversas oportunidades e avanços, mas também enfrenta desafios significativos. Superar esses desafios é crucial para garantir o desenvolvimento e a aplicação eficazes dessa tecnologia.\n",
        "\n",
        "Qualidade e quantidade de dados:\n",
        "\n",
        "Importância: A qualidade dos dados é fundamental para o sucesso do aprendizado de máquina. Dados ruidosos, incompletos ou enviesados podem levar a modelos imprecisos e resultados enganosos\n",
        "\n",
        "A quantidade de dados também é importante, pois modelos complexos geralmente exigem grandes volumes de dados para um bom desempenho.\n",
        "Soluções: Coleta e limpeza de dados, técnicas de pré-processamento (como tratamento de valores ausentes e remoção de ruídos), aumento de dados (geração de novos dados a partir dos existentes) e uso de técnicas de validação cruzada para avaliar a qualidade dos dados.\n",
        "\n",
        "\n"
      ]
    },
    {
      "cell_type": "markdown",
      "metadata": {
        "id": "fVANIa4mhsAE"
      },
      "source": [
        "✍️ **Análise:**\n",
        "\n",
        "(O modelo seguiu a estrutura e cobriu os desafios de forma organizada?)\n",
        "\n",
        "Sim"
      ]
    },
    {
      "cell_type": "markdown",
      "metadata": {
        "id": "3w_WGJp5ii--"
      },
      "source": [
        "## 3. Prompt Chaining\n",
        "Aqui, usamos uma resposta anterior como entrada para um novo prompt.\n",
        "\n",
        "### 📌 Exemplo 1\n",
        "**Prompt 1:**  \n",
        "```plaintext\n",
        "Liste três desafios do aprendizado de máquina.\n",
        "```\n",
        "📌 **Prompt 2 (com base na resposta do primeiro):**  \n",
        "```plaintext\n",
        "Agora, explique possíveis soluções para cada um dos desafios listados anteriormente.\n",
        "```\n"
      ]
    },
    {
      "cell_type": "markdown",
      "metadata": {
        "id": "BMZ7Ck4nimEv"
      },
      "source": [
        "✍️ **Resposta do ChatGPT:** (Cole ambas as respostas)  \n",
        "\n",
        "Qualidade e Quantidade de Dados – Modelos precisam de dados limpos e suficientes para aprender corretamente. Solução: coleta e pré-processamento adequado dos dados.\n",
        "\n",
        "Overfitting (Sobreajuste) – O modelo aprende padrões específicos demais do treinamento e não generaliza bem. Solução: regularização, aumento de dados e validação cruzada.\n",
        "\n",
        "Explicabilidade e Interpretabilidade – Modelos complexos podem ser difíceis de entender. Solução: usar técnicas como SHAP e LIME para interpretar decisões.\n",
        "\n",
        "Qualidade e Quantidade de Dados\n",
        "\n",
        "Soluções:\n",
        "Coletar mais dados de fontes diversas para garantir representatividade.\n",
        "Realizar pré-processamento, como remoção de valores inconsistentes e tratamento de dados ausentes.\n",
        "Usar técnicas de aumento de dados (data augmentation) para enriquecer o conjunto de treinamento.\n",
        "Overfitting (Sobreajuste)\n",
        "\n",
        "Soluções:\n",
        "Aplicar regularização (L1/L2) para reduzir a complexidade do modelo.\n",
        "Utilizar validação cruzada para avaliar a generalização do modelo.\n",
        "Aumentar a quantidade e diversidade dos dados de treinamento.\n",
        "Implementar dropout em redes neurais para evitar dependência excessiva de certas conexões.\n",
        "Explicabilidade e Interpretabilidade\n",
        "\n",
        "Soluções:\n",
        "Utilizar modelos mais interpretáveis, como árvores de decisão e regressão linear, quando possível.\n",
        "Aplicar técnicas como SHAP e LIME para entender como as variáveis influenciam as previsões.\n",
        "Criar dashboards e visualizações que ajudem a interpretar as decisões do modelo.\n"
      ]
    },
    {
      "cell_type": "markdown",
      "metadata": {
        "id": "snvM7OLZinOs"
      },
      "source": [
        "✍️ **Análise:** (A técnica ajudou a criar uma resposta mais aprofundada?)\n",
        "\n",
        "Com certeza"
      ]
    },
    {
      "cell_type": "markdown",
      "metadata": {
        "id": "zyFy77H0igTW"
      },
      "source": [
        "\n",
        "### 📌 Exemplo 2\n",
        "**Prompt 1:**  \n",
        "```plaintext\n",
        "Explique o conceito de overfitting.\n",
        "```\n",
        "📌 **Prompt 2:**  \n",
        "```plaintext\n",
        "Agora, forneça um exemplo prático de overfitting em um problema de classificação.\n",
        "```\n",
        "\n",
        "\n",
        "---"
      ]
    },
    {
      "cell_type": "markdown",
      "metadata": {
        "id": "octKfEariuel"
      },
      "source": [
        "✍️ **Resposta do ChatGPT:** (Cole ambas as respostas)  \n",
        "\n",
        "Overfitting é um problema comum em aprendizado de máquina, no qual um modelo aprende tão bem os detalhes e ruídos dos dados de treinamento que perde a capacidade de generalizar para novos dados. Isso significa que o modelo tem um ótimo desempenho nos dados de treinamento, mas um desempenho ruim em dados desconhecidos.\n",
        "\n",
        "Como o Overfitting Acontece?\n",
        "O overfitting ocorre quando o modelo é muito complexo em relação à quantidade e qualidade dos dados. Isso pode acontecer quando:\n",
        "\n",
        "Vamos considerar um problema de classificação de e-mails como \"spam\" ou \"não spam\" usando um modelo de aprendizado de máquina.\n",
        "\n",
        "Cenário\n",
        "Temos um conjunto de dados com e-mails rotulados como spam ou não spam, e treinamos um modelo para classificá-los com base em características como:\n",
        "\n",
        "Número de palavras suspeitas (exemplo: \"ganhe dinheiro\", \"oferta grátis\").\n",
        "Presença de links ou anexos.\n",
        "Uso excessivo de letras maiúsculas.\n",
        "\n",
        "Overfitting na Prática\n",
        "Se usarmos um modelo muito complexo, como uma árvore de decisão profunda, ele pode aprender padrões muito específicos dos e-mails no conjunto de treinamento. Por exemplo, pode aprender que um e-mail é spam apenas porque contém uma palavra exata que apareceu nos exemplos de spam do treinamento.\n",
        "\n",
        "Isso significa que:\n",
        "✅ O modelo terá quase 100% de precisão no treinamento, pois ele memorizou detalhes específicos.\n",
        "\n",
        "❌ Mas ele terá baixo desempenho em novos e-mails, porque pode err\n"
      ]
    },
    {
      "cell_type": "markdown",
      "metadata": {
        "id": "25lX4LRKiwEC"
      },
      "source": [
        "✍️ **Análise:** (A segunda resposta ficou mais contextualizada graças à primeira?)\n",
        "\n",
        "Sim"
      ]
    },
    {
      "cell_type": "markdown",
      "metadata": {
        "id": "v96yMwxVizqH"
      },
      "source": [
        "\n",
        "## 4. Contrastive Prompting\n",
        "Aqui, pedimos que o modelo compare e contraste dois conceitos.\n",
        "\n",
        "### 📌 Exemplo 1\n",
        "**Prompt:**  \n",
        "```plaintext\n",
        "Compare aprendizado supervisionado e aprendizado não supervisionado. Liste as principais diferenças e semelhanças.\n",
        "```\n"
      ]
    },
    {
      "cell_type": "markdown",
      "metadata": {
        "id": "V1LHjLYsi1ec"
      },
      "source": [
        "✍️ **Resposta do ChatGPT:** (Cole a resposta gerada)  \n",
        "\n",
        "Aprendizado Supervisionado: Utiliza dados rotulados, ou seja, cada exemplo de treinamento inclui uma entrada (features) e uma saída correspondente (label). Por exemplo, em um problema de classificação de e-mails, os dados de treinamento teriam e-mails (entrada) e suas classificações como \"spam\" ou \"não spam\" (saída).\n",
        "\n",
        "Aprendizado Não Supervisionado: Trabalha com dados não rotulados, onde apenas as entradas (features) estão disponíveis. O objetivo é descobrir padrõ\n",
        "Objetivo:\n",
        "\n",
        "Aprendizado Supervisionado: O objetivo é aprender uma função que mapeie as entradas para as saídas com base nos exemplos rotulados. Isso é útil para tarefas como classificação (ex: identificar imagens) e regressão (ex: prever valores numéricos).\n",
        "\n",
        "Aprendizado Não Supervisionado: O objetivo é explorar os dados para encontrar padrões, agrupamentos ou reduções de dimensionalidade.\n"
      ]
    },
    {
      "cell_type": "markdown",
      "metadata": {
        "id": "RGBSiHrgi2ha"
      },
      "source": [
        "✍️ **Análise:** (A resposta destacou bem as diferenças e semelhanças?)"
      ]
    },
    {
      "cell_type": "markdown",
      "metadata": {
        "id": "co8-l8vYi40g"
      },
      "source": [
        "### 📌 Exemplo 2\n",
        "**Prompt:**  \n",
        "```plaintext\n",
        "Explique as diferenças entre regressão linear e regressão logística. Depois, cite um caso de uso para cada uma.\n",
        "```\n",
        "\n",
        "\n"
      ]
    },
    {
      "cell_type": "markdown",
      "metadata": {
        "id": "UC6VT3N-i7U8"
      },
      "source": [
        "✍️ **Resposta do ChatGPT:** (Cole a resposta gerada)  \n",
        "\n",
        "Diferenças entre Regressão Linear e Regressão Logística\n",
        "A regressão linear é um modelo estatístico usado para prever valores contínuos. Ela assume uma relação linear entre as variáveis independentes e a variável dependente, representada pela equação:\n",
        "\n",
        "y = mx + b,\n",
        "\n",
        "onde y é a variável dependente (resultado esperado), m é o coeficiente angular (peso da variável independente x), x é a variável independente, e b é o termo de interceptação.\n",
        "\n",
        "\n",
        "Já a regressão logística é um modelo usado para problemas d\n",
        "de classificação, onde a variável dependente assume valores discretos (como 0 ou 1). Em vez de prever um valor contínuo, ela calcula a probabilidade de um evento ocorrer usando a função sigmoide:\n",
        "\n",
        "f(x) = 1 / (1 + e^(-z)),\n",
        "\n",
        "onde z é uma combinação linear das variáveis de entrada. O resultado final é uma probabilidade entre 0 e 1, que pode ser interpretada como uma classe específica com base em um limiar (exemplo: se f(x) > 0.5, a classe é 1; caso contrário, é 0).\n"
      ]
    },
    {
      "cell_type": "markdown",
      "metadata": {
        "id": "6iqa1YBci91x"
      },
      "source": [
        "✍️ **Análise:** (O modelo apresentou comparações úteis e aplicáveis?)  \n",
        "\n",
        "Sim"
      ]
    },
    {
      "cell_type": "markdown",
      "metadata": {
        "id": "O_Yhpf3tjCaQ"
      },
      "source": [
        "## 5. Persona-Based Prompting\n",
        "O modelo assume um papel específico para gerar uma resposta mais alinhada ao contexto.\n",
        "\n",
        "### 📌 Exemplo 1\n",
        "**Prompt:**  \n",
        "```plaintext\n",
        "Você é um professor universitário explicando redes neurais convolucionais para alunos iniciantes. Explique o conceito de maneira didática.\n",
        "```\n"
      ]
    },
    {
      "cell_type": "markdown",
      "metadata": {
        "id": "oIPFGf-PjEk2"
      },
      "source": [
        "✍️ **Resposta do ChatGPT:** (Cole a resposta gerada)  \n",
        "\n",
        "Redes Neurais Convolucionais (CNNs) são um tipo de rede neural muito usada em tarefas de visão computacional, como reconhecimento de imagens e vídeos. Vamos entender o conceito passo a passo.\n",
        "\n",
        "O que é uma Rede Neural? Uma rede neural é um sistema de aprendizado inspirado no cérebro humano. Ela é formada por camadas de \"neurônios\", que são unidades de processamento que ajudam a rede a aprender padrões a partir de dados.\n"
      ]
    },
    {
      "cell_type": "markdown",
      "metadata": {
        "id": "mUxwM6z4jF7Y"
      },
      "source": [
        "✍️ **Análise:** (A resposta foi mais acessível e didática do que um prompt genérico?)  \n",
        "\n",
        "Sim"
      ]
    },
    {
      "cell_type": "markdown",
      "metadata": {
        "id": "BttM2r5cjIkt"
      },
      "source": [
        "### 📌 Exemplo 2\n",
        "**Prompt:**  \n",
        "```plaintext\n",
        "Você é um engenheiro de machine learning participando de uma entrevista de emprego. Explique o conceito de regularização em modelos de aprendizado de máquina.\n",
        "```\n",
        "\n"
      ]
    },
    {
      "cell_type": "markdown",
      "metadata": {
        "id": "09dPQem4jLF4"
      },
      "source": [
        "✍️ **Resposta do ChatGPT:** (Cole a resposta gerada)  \n",
        "\n"
      ]
    },
    {
      "cell_type": "markdown",
      "metadata": {
        "id": "RK3FhvpHjMbZ"
      },
      "source": [
        "✍️ **Análise:** (O tom da resposta mudou conforme o papel assumido?)  "
      ]
    },
    {
      "cell_type": "markdown",
      "metadata": {
        "id": "SnVqOwqhjV0A"
      },
      "source": [
        "## 6. Ethical or Bias-Aware Prompting\n",
        "Instruímos o modelo a considerar aspectos éticos e vieses.\n",
        "\n",
        "### 📌 Exemplo 1\n",
        "**Prompt:**  \n",
        "```plaintext\n",
        "Explique o uso da inteligência artificial na seleção de candidatos para emprego e analise os possíveis riscos de viés no processo.\n",
        "```\n"
      ]
    },
    {
      "cell_type": "markdown",
      "metadata": {
        "id": "rZafLSgVjYbM"
      },
      "source": [
        "✍️ **Resposta do ChatGPT:** (Cole a resposta gerada)  \n"
      ]
    },
    {
      "cell_type": "markdown",
      "metadata": {
        "id": "HaHCUkjhjZ8A"
      },
      "source": [
        "✍️ **Análise:** (O modelo abordou os aspectos éticos corretamente?)"
      ]
    },
    {
      "cell_type": "markdown",
      "metadata": {
        "id": "Pwcjdy2_Ps4y"
      },
      "source": [
        "\n",
        "\n",
        "\n",
        "### 📌 Exemplo 2\n",
        "**Prompt:**  \n",
        "```plaintext\n",
        "Descreva como modelos de linguagem podem refletir viés social e proponha estratégias para mitigar esse problema.\n",
        "```\n",
        "\n"
      ]
    },
    {
      "cell_type": "markdown",
      "metadata": {
        "id": "4sTJej03jy9y"
      },
      "source": [
        "✍️ **Resposta do ChatGPT:** (Cole a resposta gerada)  \n",
        "\n"
      ]
    },
    {
      "cell_type": "markdown",
      "metadata": {
        "id": "P1mYYAxaj0Hk"
      },
      "source": [
        "✍️ **Análise:** (A resposta trouxe soluções práticas para a mitigação de vieses?)  "
      ]
    },
    {
      "cell_type": "markdown",
      "metadata": {
        "id": "WxFHOmq6jlJr"
      },
      "source": [
        "# **Atividade 4 - Desafio de Otimização de Prompt**\n",
        "\n",
        "Nesta atividade, você enfrentará desafios de otimização de prompt. O objetivo é refinar comandos para obter respostas mais precisas, claras e úteis do modelo de linguagem.\n",
        "\n",
        "Para cada exercício:\n",
        "1. Comece testando o **prompt inicial** e registre a resposta.\n",
        "2. Analise os pontos fracos do prompt e como ele pode ser melhorado.\n",
        "3. Refine o prompt e registre a nova resposta.\n",
        "4. Compare os resultados e explique as melhorias.\n",
        "\n",
        "---\n",
        "\n",
        "## 1. Melhorando a Especificidade\n",
        "\n",
        "### 📌 Exemplo 1 - Prompt Inicial\n",
        "**Prompt:**  \n",
        "```plaintext\n",
        "Explique o que é aprendizado profundo.\n",
        "```\n"
      ]
    },
    {
      "cell_type": "markdown",
      "metadata": {
        "id": "VovexvlBju5m"
      },
      "source": [
        "✍️ **Resposta do ChatGPT:** (Cole a resposta aqui)  \n"
      ]
    },
    {
      "cell_type": "markdown",
      "metadata": {
        "id": "tc0abNCEj6D0"
      },
      "source": [
        "✍️ **Análise:** (A resposta foi genérica? O que poderia ser melhorado?)"
      ]
    },
    {
      "cell_type": "markdown",
      "metadata": {
        "id": "rJH8GOnkjo87"
      },
      "source": [
        "\n",
        "📌 **Prompt Melhorado:**  \n",
        "(Escreva um novo prompt mais específico)  \n",
        "\n",
        "\n",
        "\n"
      ]
    },
    {
      "cell_type": "markdown",
      "metadata": {
        "id": "J_CmuvE_j-JU"
      },
      "source": [
        "✍️ **Nova Resposta:** (Cole a resposta gerada)  \n"
      ]
    },
    {
      "cell_type": "markdown",
      "metadata": {
        "id": "mvsoDOK2j_Og"
      },
      "source": [
        "✍️ **Comparação:** (O que melhorou na nova resposta?)  "
      ]
    },
    {
      "cell_type": "markdown",
      "metadata": {
        "id": "SL_u9lzPkFP-"
      },
      "source": [
        "## 2. Adicionando Contexto\n",
        "\n",
        "### 📌 Exemplo 2 - Prompt Inicial\n",
        "**Prompt:**  \n",
        "```plaintext\n",
        "Fale sobre regularização em aprendizado de máquina.\n",
        "```\n"
      ]
    },
    {
      "cell_type": "markdown",
      "metadata": {
        "id": "J-DIFhSgkHwj"
      },
      "source": [
        "✍️ **Resposta do ChatGPT:** (Cole a resposta aqui)  \n",
        "\n",
        "\n"
      ]
    },
    {
      "cell_type": "markdown",
      "metadata": {
        "id": "-ljssrvVkKCU"
      },
      "source": [
        "✍️ **Análise:** (A resposta foi vaga? Como torná-la mais clara?)  \n",
        "\n"
      ]
    },
    {
      "cell_type": "markdown",
      "metadata": {
        "id": "-NvKLAOckLlq"
      },
      "source": [
        "📌 **Prompt Melhorado:**  \n",
        "(Escreva um novo prompt incluindo mais contexto)  \n",
        "\n"
      ]
    },
    {
      "cell_type": "markdown",
      "metadata": {
        "id": "o9moduigkM-m"
      },
      "source": [
        "✍️ **Nova Resposta:** (Cole a resposta gerada)  \n"
      ]
    },
    {
      "cell_type": "markdown",
      "metadata": {
        "id": "ROGkRGxNkOSc"
      },
      "source": [
        "✍️ **Comparação:** (A resposta ficou mais relevante e detalhada?)"
      ]
    },
    {
      "cell_type": "markdown",
      "metadata": {
        "id": "RzvwzKUfkTtZ"
      },
      "source": [
        "## 3. Pedindo um Exemplo Prático\n",
        "\n",
        "### 📌 Exemplo 3 - Prompt Inicial\n",
        "**Prompt:**  \n",
        "```plaintext\n",
        "Explique o conceito de redes neurais.\n",
        "```\n"
      ]
    },
    {
      "cell_type": "markdown",
      "metadata": {
        "id": "BzHuhH0YkWj2"
      },
      "source": [
        "✍️ **Resposta do ChatGPT:** (Cole a resposta aqui)  \n",
        "\n",
        "\n"
      ]
    },
    {
      "cell_type": "markdown",
      "metadata": {
        "id": "nQ0vM6qhkYP8"
      },
      "source": [
        "✍️ **Análise:** (A explicação foi abstrata? Um exemplo ajudaria?)  \n",
        "\n"
      ]
    },
    {
      "cell_type": "markdown",
      "metadata": {
        "id": "K-BOBEWNkZvP"
      },
      "source": [
        "📌 **Prompt Melhorado:**  \n",
        "(Escreva um novo prompt solicitando um exemplo)  \n",
        "\n"
      ]
    },
    {
      "cell_type": "markdown",
      "metadata": {
        "id": "e-flKFf9kbJb"
      },
      "source": [
        "✍️ **Nova Resposta:** (Cole a resposta gerada)  \n"
      ]
    },
    {
      "cell_type": "markdown",
      "metadata": {
        "id": "wJJ59NESkdBV"
      },
      "source": [
        "✍️ **Comparação:** (O exemplo ajudou na compreensão?)  "
      ]
    },
    {
      "cell_type": "markdown",
      "metadata": {
        "id": "5ghw_kyWkhu-"
      },
      "source": [
        "\n",
        "## 4. Refinando para Diferentes Públicos\n",
        "\n",
        "### 📌 Exemplo 4 - Prompt Inicial\n",
        "**Prompt:**  \n",
        "```plaintext\n",
        "Explique o que é aprendizado por reforço.\n",
        "```\n",
        "\n",
        "\n"
      ]
    },
    {
      "cell_type": "markdown",
      "metadata": {
        "id": "CI_ax3_fkmAm"
      },
      "source": [
        "✍️ **Resposta do ChatGPT:** (Cole a resposta aqui)  \n"
      ]
    },
    {
      "cell_type": "markdown",
      "metadata": {
        "id": "zbMkPBNikn90"
      },
      "source": [
        "✍️ **Análise:** (O nível de detalhamento foi adequado?)  \n",
        "\n"
      ]
    },
    {
      "cell_type": "markdown",
      "metadata": {
        "id": "dpnOE8Kwkpru"
      },
      "source": [
        "📌 **Prompt Melhorado para um público iniciante:**  \n",
        "(Escreva um novo prompt tornando a explicação mais acessível)  \n",
        "\n"
      ]
    },
    {
      "cell_type": "markdown",
      "metadata": {
        "id": "Hsb3gDkjkrfL"
      },
      "source": [
        "✍️ **Nova Resposta:** (Cole a resposta gerada)  \n"
      ]
    },
    {
      "cell_type": "markdown",
      "metadata": {
        "id": "NaO9peBqktJG"
      },
      "source": [
        "✍️ **Comparação:** (O modelo ajustou o tom da explicação?)  \n",
        "\n"
      ]
    },
    {
      "cell_type": "markdown",
      "metadata": {
        "id": "U46S-IWBku2U"
      },
      "source": [
        "📌 **Prompt Melhorado para um público técnico:**  \n",
        "(Escreva um novo prompt para um público mais avançado)  \n",
        "\n"
      ]
    },
    {
      "cell_type": "markdown",
      "metadata": {
        "id": "eny6ZsaokwJ6"
      },
      "source": [
        "✍️ **Nova Resposta:** (Cole a resposta gerada)  \n"
      ]
    },
    {
      "cell_type": "markdown",
      "metadata": {
        "id": "dHUQESyJkxkt"
      },
      "source": [
        "✍️ **Comparação:** (A resposta ficou mais técnica e aprofundada?)"
      ]
    },
    {
      "cell_type": "markdown",
      "metadata": {
        "id": "komjwJwOQmkM"
      },
      "source": [
        "\n",
        "\n",
        "\n",
        "## 5. Testando Diferentes Estruturas de Resposta\n",
        "\n",
        "### 📌 Exemplo 5 - Prompt Inicial\n",
        "**Prompt:**  \n",
        "```plaintext\n",
        "O que é um modelo de árvore de decisão?\n",
        "```\n",
        "\n",
        "\n",
        "\n",
        "\n"
      ]
    },
    {
      "cell_type": "markdown",
      "metadata": {
        "id": "AgtZj4BBk2f6"
      },
      "source": [
        "✍️ **Resposta do ChatGPT:** (Cole a resposta aqui)  \n"
      ]
    },
    {
      "cell_type": "markdown",
      "metadata": {
        "id": "2ezzPhIpk4ME"
      },
      "source": [
        "✍️ **Análise:** (A resposta foi detalhada o suficiente?)  \n",
        "\n"
      ]
    },
    {
      "cell_type": "markdown",
      "metadata": {
        "id": "wMfxtQJJk5kE"
      },
      "source": [
        "📌 **Prompt Melhorado pedindo uma resposta passo a passo:**  \n",
        "(Escreva um novo prompt estruturado)  \n"
      ]
    },
    {
      "cell_type": "markdown",
      "metadata": {
        "id": "A7x4KSaEk674"
      },
      "source": [
        "\n",
        "✍️ **Nova Resposta:** (Cole a resposta gerada)  \n"
      ]
    },
    {
      "cell_type": "markdown",
      "metadata": {
        "id": "em1lWnz7k8Fa"
      },
      "source": [
        "✍️ **Comparação:** (O modelo apresentou os passos corretamente?)  "
      ]
    }
  ],
  "metadata": {
    "colab": {
      "provenance": []
    },
    "kernelspec": {
      "display_name": "Python 3",
      "name": "python3"
    },
    "language_info": {
      "name": "python"
    }
  },
  "nbformat": 4,
  "nbformat_minor": 0
}
